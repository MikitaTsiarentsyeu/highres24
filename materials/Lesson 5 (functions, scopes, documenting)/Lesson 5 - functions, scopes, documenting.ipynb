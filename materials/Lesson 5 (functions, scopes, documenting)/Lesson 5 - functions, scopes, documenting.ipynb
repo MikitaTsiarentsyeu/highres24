{
 "cells": [
  {
   "cell_type": "markdown",
   "metadata": {},
   "source": [
    "# Lesson 5 - functions, scopes, documenting"
   ]
  },
  {
   "cell_type": "markdown",
   "metadata": {},
   "source": [
    "## Functions"
   ]
  },
  {
   "cell_type": "markdown",
   "metadata": {},
   "source": [
    "### Function\n",
    "\n",
    "is a reusable block of code that performs a specific task and can be called multiple times throughout a program. Functions can take input parameters/arguments, which are values passed to the function when it is called, allowing the function to perform operations on different data. Functions can also return values using the return statement, allowing the result of the function's computation to be used in other parts of the program. Functions promote code reusability, modularity, and abstraction, making your code more efficient, readable, and maintainable."
   ]
  },
  {
   "cell_type": "markdown",
   "metadata": {},
   "source": [
    "Syntax:\n",
    "\n",
    "```\n",
    "def func_name(arg1, ... , argN): # any number of arguments\n",
    "\n",
    "    # some logic goes here\n",
    "\n",
    "    return result # optional return operator\n",
    "```"
   ]
  },
  {
   "cell_type": "markdown",
   "metadata": {},
   "source": [
    "Operator `def` creates a new function object, a function does not exists untill `def` is executed. The common practice is to place all function definitions in the beggining of a .py file. The new function object gets associated with a variable (the name of the function becomes the name of the variable). The object contains the body of the function, you can use the object itself in any way you like, but in most cases you will just call the function by putting `()` after the name (and maybe listing some parameters)."
   ]
  },
  {
   "cell_type": "code",
   "execution_count": 3,
   "metadata": {},
   "outputs": [
    {
     "name": "stdout",
     "output_type": "stream",
     "text": [
      "this is only a test!\n"
     ]
    }
   ],
   "source": [
    "# test_func() # calling test_func before def results in error\n",
    "\n",
    "def test_func(): # a function with no arguments and no return value\n",
    "    print(\"this is only a test!\")\n",
    "\n",
    "test_func()"
   ]
  },
  {
   "cell_type": "code",
   "execution_count": 4,
   "metadata": {},
   "outputs": [
    {
     "name": "stdout",
     "output_type": "stream",
     "text": [
      "None <class 'NoneType'>\n"
     ]
    }
   ],
   "source": [
    "def do_nothing():\n",
    "    pass\n",
    "\n",
    "# but even if a function does nothing and does not have a return operator it still returns a specific value\n",
    "\n",
    "res = do_nothing()\n",
    "\n",
    "print(res, type(res)) # it's a special object called None\n"
   ]
  },
  {
   "cell_type": "code",
   "execution_count": 13,
   "metadata": {},
   "outputs": [],
   "source": [
    "def my_sum(a, b): # a very simple function\n",
    "    return a+b\n",
    "\n",
    "def check_value(val):\n",
    "    if val.lower() == \"test\":\n",
    "        return True # return ends function's execution\n",
    "    \n",
    "    return False\n"
   ]
  },
  {
   "cell_type": "markdown",
   "metadata": {},
   "source": [
    "### Arguments options"
   ]
  },
  {
   "cell_type": "code",
   "execution_count": 11,
   "metadata": {},
   "outputs": [
    {
     "data": {
      "text/plain": [
       "5"
      ]
     },
     "execution_count": 11,
     "metadata": {},
     "output_type": "execute_result"
    }
   ],
   "source": [
    "def operate(a, b, operation=\"sum\"): # some args may have default values, those should be placed in the end of the list\n",
    "    if operation == \"sum\":\n",
    "        return a+b\n",
    "    elif operation == \"sub\":\n",
    "        return a-b\n",
    "    elif operation == \"mult\":\n",
    "        return a*b\n",
    "    elif operation == \"div\":\n",
    "        return a/b\n",
    "    \n",
    "    return \"unknown operation\"\n",
    "\n",
    "operate(2, 3) # the last parameter can be omitted"
   ]
  },
  {
   "cell_type": "code",
   "execution_count": 12,
   "metadata": {},
   "outputs": [
    {
     "data": {
      "text/plain": [
       "' test '"
      ]
     },
     "execution_count": 12,
     "metadata": {},
     "output_type": "execute_result"
    }
   ],
   "source": [
    "def normalize_string(value:str, lower=True, strip=True):\n",
    "    if lower:\n",
    "        value = value.lower()\n",
    "    if strip:\n",
    "        value = value.strip()\n",
    "\n",
    "    return value\n",
    "\n",
    "normalize_string(\" TEST \", strip=False) # explicit argument pass"
   ]
  },
  {
   "cell_type": "code",
   "execution_count": null,
   "metadata": {},
   "outputs": [],
   "source": [
    "def my_sum(*args): # asterisk allows passing any number of values\n",
    "    res = 0\n",
    "    for i in args:\n",
    "        res += i\n",
    "\n",
    "    return res\n",
    "\n",
    "my_sum(1,2,3,4,5,6) # all values will be packed into a tuple args"
   ]
  },
  {
   "cell_type": "code",
   "execution_count": 14,
   "metadata": {},
   "outputs": [
    {
     "name": "stdout",
     "output_type": "stream",
     "text": [
      "I went in the Zoo and saw:\n",
      "donald the duck\n",
      "tigger the tiger\n",
      "flounder the fish\n"
     ]
    }
   ],
   "source": [
    "def name_animals(**kwargs): # double asterisk allows passing any number of named values (keyword args)\n",
    "    print(\"I went to the Zoo and saw:\")\n",
    "    for keyword in kwargs:\n",
    "        print(f\"{keyword} the {kwargs[keyword]}\")\n",
    "\n",
    "name_animals(donald=\"duck\", tigger=\"tiger\", flounder=\"fish\") # keywords and values will be packed into a dict kwargs"
   ]
  },
  {
   "cell_type": "markdown",
   "metadata": {},
   "source": [
    "Both args and kwargs names are used the most but can be replaced with any other variable names, the magic is in asterisks only. When calling a function with `**kwargs` pay attention to the keywords, they should be unique (as they will be used as `dict` keys)"
   ]
  },
  {
   "cell_type": "markdown",
   "metadata": {},
   "source": [
    "### Arguments passing"
   ]
  },
  {
   "cell_type": "markdown",
   "metadata": {},
   "source": [
    "All arguments are being passed by reference. That means that a new variable/reference is created with each function call for each argument. This leads to the 'shared links' situations when multiple links to a single object in memory exist. Hence, any modififcation of a mutable object iside a function will be available outside that function as well. Immutable objects are not affected. "
   ]
  },
  {
   "cell_type": "code",
   "execution_count": 17,
   "metadata": {},
   "outputs": [
    {
     "name": "stdout",
     "output_type": "stream",
     "text": [
      "[]\n",
      "['new element']\n"
     ]
    }
   ],
   "source": [
    "def change_list(l): # no returns, but the list is changed\n",
    "    l.append(\"new element\")\n",
    "\n",
    "my_list = []\n",
    "print(my_list)\n",
    "change_list(my_list)\n",
    "print(my_list)"
   ]
  },
  {
   "cell_type": "markdown",
   "metadata": {},
   "source": [
    "### Practical task - Random sort (or bogosort, shotgun sort etc.)\n",
    "\n",
    "Implement a function (or several functions) which will sort a list im place based on some permutations. The simpliest logic would be to generate two random indexes, replace elements on indexes, check if the list is sorted. Repeat the process till success."
   ]
  },
  {
   "cell_type": "markdown",
   "metadata": {},
   "source": [
    "## Scopes"
   ]
  },
  {
   "cell_type": "markdown",
   "metadata": {},
   "source": [
    "In Python, a scope refers to the region of a program where a particular name (variable, function, or other object) is recognized and can be accessed. Python has four types of scopes:\n",
    "\n",
    "- Local Scope:\n",
    "\n",
    "Local scope refers to the names defined within a function.\n",
    "These names are only accessible within the function in which they are defined.\n",
    "Local variables are created when the function is called and destroyed when the function returns.\n",
    "\n",
    "- Enclosing Scope:\n",
    "\n",
    "Enclosing scope applies to nested functions, where a function is defined inside another function.\n",
    "The enclosing scope refers to the scope of the outer function that contains the nested function.\n",
    "Names defined in the enclosing scope are accessible from the nested function.\n",
    "\n",
    "- Global Scope:\n",
    "\n",
    "Global scope refers to the top-level of a module or the main program.\n",
    "Names defined in the global scope are accessible from anywhere within the module or program.\n",
    "Global variables are created when they are first assigned a value and exist throughout the entire execution of the program.\n",
    "\n",
    "- Built-in Scope:\n",
    "\n",
    "Built-in scope is a special scope that contains the names of Python's built-in functions and types.\n",
    "These names, such as print(), len(), int(), etc., are accessible from anywhere in the program without the need for an import statement.\n",
    "The built-in scope is the outermost scope and is automatically searched last if a name is not found in any other scope.\n",
    "\n",
    "\n",
    "Python follows the LEGB rule (Local, Enclosing, Global, Built-in) when resolving names. When a name is referenced, Python searches for it in the following order: local scope, enclosing scope (if applicable), global scope, and finally, the built-in scope. This allows for name resolution and helps avoid naming conflicts between different scopes."
   ]
  },
  {
   "cell_type": "code",
   "execution_count": 3,
   "metadata": {},
   "outputs": [
    {
     "name": "stdout",
     "output_type": "stream",
     "text": [
      "global var\n"
     ]
    }
   ],
   "source": [
    "x = \"global var\"\n",
    "\n",
    "def func(x): # local var\n",
    "    x += \"!\" # modification of a local var which references immutable object does not affect the global scope\n",
    "    x = \"test\" # reassignment also does not affect the global var\n",
    "\n",
    "func(x)\n",
    "print(x)"
   ]
  },
  {
   "cell_type": "markdown",
   "metadata": {},
   "source": [
    "Advanced topic - operators `global` and `nonlocal`. Those operators allow accessing variables from different scope. You make yourselves familiar with them if you interested, but it's out of scope of the training for now."
   ]
  },
  {
   "cell_type": "markdown",
   "metadata": {},
   "source": [
    "## Functions documentation"
   ]
  },
  {
   "cell_type": "markdown",
   "metadata": {},
   "source": [
    "There are two techniques of documenting functions in Python - docstring and type hinting. Docstring is str literal placed after a function definition (usually enclosed in triple quotes). They are used to provide some text description about the function. And type hinting allows to specify a type which will be acceptable for a parameter, though it does not affect function execution in any way."
   ]
  },
  {
   "cell_type": "code",
   "execution_count": 5,
   "metadata": {},
   "outputs": [
    {
     "name": "stdout",
     "output_type": "stream",
     "text": [
      "5\n",
      "23\n"
     ]
    }
   ],
   "source": [
    "def my_sum(a:int, b:int) -> int: # type hinting implies that the function is working with ints\n",
    "    \"\"\"this function will sum int values \n",
    "    and return the result\"\"\"\n",
    "    return a+b\n",
    "\n",
    "print(my_sum(2, 3)) # works with ints\n",
    "print(my_sum('2', '3')) # still works with other types as well"
   ]
  },
  {
   "cell_type": "markdown",
   "metadata": {},
   "source": [
    "## Homework"
   ]
  },
  {
   "cell_type": "markdown",
   "metadata": {},
   "source": [
    "### Task 1 - Fibonacci Sequence\n",
    "\n",
    "Write a function which will return rhe n-th number of the Fibonacci Sequence\n",
    "\n",
    "def fibonacci(n:int) -> int: pass"
   ]
  },
  {
   "cell_type": "markdown",
   "metadata": {},
   "source": [
    "### Task 2 - Prime number checker\n",
    "\n",
    "Wrire a function to check if a number is prime\n",
    "\n",
    "def is_prime(numb: int) -> bool: pass"
   ]
  },
  {
   "cell_type": "markdown",
   "metadata": {},
   "source": [
    "### Task 3 - Kick out members of a list\n",
    "\n",
    "Write a function to kick out elements of a list by value, all encounters, modification in-place\n",
    "\n",
    "def kick_out(l: list, val: object) -> None: pass"
   ]
  }
 ],
 "metadata": {
  "kernelspec": {
   "display_name": "Python 3",
   "language": "python",
   "name": "python3"
  },
  "language_info": {
   "codemirror_mode": {
    "name": "ipython",
    "version": 3
   },
   "file_extension": ".py",
   "mimetype": "text/x-python",
   "name": "python",
   "nbconvert_exporter": "python",
   "pygments_lexer": "ipython3",
   "version": "3.11.4"
  }
 },
 "nbformat": 4,
 "nbformat_minor": 2
}
