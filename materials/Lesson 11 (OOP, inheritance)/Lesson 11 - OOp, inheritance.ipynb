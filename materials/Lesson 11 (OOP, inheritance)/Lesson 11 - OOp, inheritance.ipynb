{
 "cells": [
  {
   "cell_type": "markdown",
   "metadata": {},
   "source": [
    "# Lesson 11 - OOP, inheritance"
   ]
  },
  {
   "cell_type": "markdown",
   "metadata": {},
   "source": [
    "## Linear (Basic) Inheritance"
   ]
  },
  {
   "cell_type": "markdown",
   "metadata": {},
   "source": [
    "Inheritance is a fundamental concept in Object-Oriented Programming (OOP) that allows classes to inherit properties and behaviors from other classes, establishing a hierarchical relationship between them. It enables the creation of new classes (called subclasses or derived classes) based on existing classes (called superclasses or base classes), promoting code reuse, extensibility, and modularity. Inheritance supports the concept of generalization and specialization, where the superclass represents a more general concept (abstraction of a highest level), and the subclasses represent more specialized or specific versions of that concept (lower level of abstraction). Inheritance also facilitates polymorphism, allowing objects of different subclasses to be treated as objects of their common superclass, enabling flexibility and interchangeability in the design and implementation of software systems."
   ]
  },
  {
   "cell_type": "code",
   "execution_count": 2,
   "metadata": {},
   "outputs": [
    {
     "name": "stdout",
     "output_type": "stream",
     "text": [
      "hello, my name is Charlie\n"
     ]
    }
   ],
   "source": [
    "class Animal:\n",
    "\n",
    "    def __init__(self, name):\n",
    "        self.__set_name(name)\n",
    "\n",
    "    def say_something(self):\n",
    "        print(f\"hello, my name is {self.name}\")\n",
    "\n",
    "    def __set_name(self, name):\n",
    "        self.__name = name\n",
    "\n",
    "    def get_name(self):\n",
    "        return self.__name\n",
    "\n",
    "    name = property(get_name)\n",
    "\n",
    "# derived class Dog gets all methods and attrs from the parent Animal\n",
    "class Dog(Animal): pass\n",
    "\n",
    "d1 = Dog(\"Charlie\")\n",
    "d1.say_something() # the logic executes specifically from the parent class"
   ]
  },
  {
   "cell_type": "markdown",
   "metadata": {},
   "source": [
    "The example above demonstrates how attrs and methods of a parent class are accessible via derived class. In real life though, just to inherite something is not enough, some additional logic inb forms of methods is required.    "
   ]
  },
  {
   "cell_type": "code",
   "execution_count": null,
   "metadata": {},
   "outputs": [
    {
     "name": "stdout",
     "output_type": "stream",
     "text": [
      "hello, my name is Charlie\n",
      "woof!\n"
     ]
    }
   ],
   "source": [
    "class Animal:\n",
    "\n",
    "    def __init__(self, name):\n",
    "        self.__set_name(name)\n",
    "\n",
    "    def say_something(self):\n",
    "        print(f\"hello, my name is {self.name}\")\n",
    "\n",
    "    def __set_name(self, name):\n",
    "        self.__name = name\n",
    "\n",
    "    def get_name(self):\n",
    "        return self.__name\n",
    "\n",
    "    name = property(get_name)\n",
    "\n",
    "# derived class Dog gets all methods and attrs from the parent Animal\n",
    "class Dog(Animal):\n",
    "\n",
    "    # extended behaviour for the derived class\n",
    "    def bark(self):\n",
    "        print(\"woof!\")\n",
    "\n",
    "d1 = Dog(\"Charlie\")\n",
    "d1.say_something()\n",
    "d1.bark() \n",
    "\n",
    "# a = Animal(\"test\")\n",
    "# a.bark() will lead to an error as not all Animals can bark"
   ]
  },
  {
   "cell_type": "markdown",
   "metadata": {},
   "source": [
    "In this example the derived class Dog get his own behaviour while still having access to the parent one as well. It's a good way to add some new logic to an existing abstraction without changing its source code (which is what inheritance is about in most cases). An extension is not enough sometimes, there could be situation when a slight or a complete chnage of logic is reqyured for some of behaviour in a derived class. It's feasible with a techniqye called overriding."
   ]
  },
  {
   "cell_type": "code",
   "execution_count": 6,
   "metadata": {},
   "outputs": [
    {
     "name": "stdout",
     "output_type": "stream",
     "text": [
      "woof!\n",
      "woof!\n"
     ]
    }
   ],
   "source": [
    "class Animal:\n",
    "\n",
    "    def __init__(self, name):\n",
    "        self.__set_name(name)\n",
    "\n",
    "    def say_something(self):\n",
    "        print(f\"hello, my name is {self.name}\")\n",
    "\n",
    "    def __set_name(self, name):\n",
    "        self.__name = name\n",
    "\n",
    "    def get_name(self):\n",
    "        return self.__name\n",
    "\n",
    "    name = property(get_name)\n",
    "\n",
    "\n",
    "class Dog(Animal):\n",
    "\n",
    "    # overriding the __init__ from the parent with additional param\n",
    "    def __init__(self, name, breed):\n",
    "        # super() gets access to the parent's behaviour (__init__ in this case)\n",
    "        super().__init__(name)\n",
    "        # adding new logic\n",
    "        self.__set_breed(breed)\n",
    "\n",
    "    def __set_breed(self, breed):\n",
    "        self.__breed = breed\n",
    "\n",
    "    def get_breed(self):\n",
    "        return self.__breed\n",
    "\n",
    "    breed = property(get_breed)\n",
    "\n",
    "    # extended behaviour for the derived class\n",
    "    def bark(self):\n",
    "        print(\"woof!\")\n",
    "\n",
    "    # hiding the parent implementation via override\n",
    "    def say_something(self):\n",
    "        self.bark()\n",
    "\n",
    "# the init now takes two params\n",
    "d1 = Dog(\"Charlie\", \"shepherd\")\n",
    "# this behaviour has changed\n",
    "d1.say_something()\n",
    "d1.bark() "
   ]
  },
  {
   "cell_type": "markdown",
   "metadata": {},
   "source": [
    "## Multiple Inheritance"
   ]
  },
  {
   "cell_type": "markdown",
   "metadata": {},
   "source": [
    " Multiple inheritance, where a subclass can inherit from multiple superclasses, is supported in Python, providing a way to combine features from different classes into a single subclass."
   ]
  },
  {
   "cell_type": "code",
   "execution_count": 9,
   "metadata": {},
   "outputs": [
    {
     "name": "stdout",
     "output_type": "stream",
     "text": [
      "I'm flying\n",
      "I'm swimming\n"
     ]
    }
   ],
   "source": [
    "class FlyingAnimal:\n",
    "\n",
    "    def fly(self):\n",
    "        print(\"I'm flying\")\n",
    "\n",
    "class SwimmingAnimal:\n",
    "\n",
    "    def swim(self):\n",
    "        print(\"I'm swimming\")\n",
    "\n",
    "# the Duck is derived from two parents\n",
    "class Duck(FlyingAnimal, SwimmingAnimal): pass\n",
    "\n",
    "d1 = Duck()\n",
    "# duck can access behaviour from all parents\n",
    "d1.fly()\n",
    "d1.swim()"
   ]
  },
  {
   "cell_type": "markdown",
   "metadata": {},
   "source": [
    "Getting behaviour from all parents is usefull in different contexts. Sometimes such classes are being called 'mixins' (both parent and derived ones). The main problem with multiple inheritance is a possibility of a conflict between parent behaviour with identical names:"
   ]
  },
  {
   "cell_type": "code",
   "execution_count": 12,
   "metadata": {},
   "outputs": [
    {
     "name": "stdout",
     "output_type": "stream",
     "text": [
      "I'm flying\n"
     ]
    }
   ],
   "source": [
    "class FlyingAnimal:\n",
    "\n",
    "    def move(self):\n",
    "        print(\"I'm flying\")\n",
    "\n",
    "class SwimmingAnimal:\n",
    "\n",
    "    def move(self):\n",
    "        print(\"I'm swimming\")\n",
    "\n",
    "# both parents provide the move() behaviour\n",
    "class Duck(FlyingAnimal, SwimmingAnimal): pass\n",
    "\n",
    "d1 = Duck()\n",
    "# derived class needs to choose only one implementation\n",
    "d1.move()"
   ]
  },
  {
   "cell_type": "markdown",
   "metadata": {},
   "source": [
    "The diamond problem, also known as the \"deadly diamond of death,\" is a multiple inheritance issue that arises when a class inherits from two or more classes that have a common ancestor. It occurs when there is an ambiguity in resolving the method or attribute inheritance due to the multiple paths of inheritance.\n",
    "\n",
    "Let's consider an example to illustrate the diamond problem:"
   ]
  },
  {
   "cell_type": "code",
   "execution_count": 14,
   "metadata": {},
   "outputs": [
    {
     "name": "stdout",
     "output_type": "stream",
     "text": [
      "Method from B\n"
     ]
    }
   ],
   "source": [
    "class A:\n",
    "    def method(self):\n",
    "        print(\"Method from A\")\n",
    "\n",
    "class B(A):\n",
    "    def method(self):\n",
    "        print(\"Method from B\")\n",
    "\n",
    "class C(A):\n",
    "    def method(self):\n",
    "        print(\"Method from C\")\n",
    "\n",
    "class D(B, C):\n",
    "    pass\n",
    "\n",
    "d = D()\n",
    "d.method()  # Ambiguity: which method should be called?\n",
    "\n",
    "# note that it will not result in any error\n",
    "# moreover, some method is chosen automatically"
   ]
  },
  {
   "cell_type": "markdown",
   "metadata": {},
   "source": [
    "In this example, class `D` inherits from both classes `B` and `C`, which in turn inherit from class `A`. Both classes `B` and `C` override the `method()` defined in class `A`.\n",
    "\n",
    "When an instance of class `D` calls the `method()`, there is an ambiguity regarding which implementation of `method()` should be invoked. Should it be the one from class `B` or the one from class `C`?\n",
    "\n",
    "This ambiguity arises because there are multiple paths of inheritance from class `D` to class `A`. The inheritance hierarchy forms a diamond-like shape, hence the name \"diamond problem.\"\n",
    "\n",
    "In Python, the method resolution order (MRO) is used to resolve the diamond problem. The MRO determines the order in which methods are searched for and executed in a class hierarchy. Python uses the C3 linearization algorithm to calculate the MRO, which guarantees a consistent and predictable order of method resolution.\n",
    "\n",
    "In the above example, the MRO of class `D` would be: `[D, B, C, A, object]` (all classes in Python are automatically derived from `object` class which is source of some basic logic for every object). Python resolves the diamond problem by following the MRO and selecting the first occurrence of the method in the order.\n",
    "\n",
    "To avoid the diamond problem and maintain a clear and unambiguous inheritance hierarchy, it's generally recommended to use single inheritance whenever possible. If multiple inheritance is necessary, it's important to design the class hierarchy carefully and ensure that the method resolution order is well-defined and unambiguous.\n",
    "\n",
    "In some cases, you can use mixins (as discussed in the previous answer) to provide additional functionality without creating a complex multiple inheritance hierarchy, thereby avoiding the diamond problem altogether.\n",
    "\n",
    "It's worth noting that not all programming languages handle the diamond problem in the same way. Some languages, like C++, require explicit resolution of the ambiguity by the programmer, while others, like Python, have specific rules and algorithms to resolve the problem automatically."
   ]
  },
  {
   "cell_type": "markdown",
   "metadata": {},
   "source": [
    "## Homework"
   ]
  },
  {
   "cell_type": "markdown",
   "metadata": {},
   "source": [
    "Implement any ONE of the below:"
   ]
  },
  {
   "cell_type": "markdown",
   "metadata": {},
   "source": [
    "1. Shape Hierarchy:\n",
    "\n",
    "- Create a base class called Shape with methods like calculate_area() and calculate_perimeter().\n",
    "- Implement subclasses like Rectangle, Circle, and Triangle that inherit from the Shape class.\n",
    "- Override the calculate_area() and calculate_perimeter() methods in each subclass to provide the specific implementation for each shape.\n",
    "- Create instances of each shape class and demonstrate the usage of inherited and specific methods.\n",
    "\n",
    "2. Animal Kingdom:\n",
    "\n",
    "- Create a base class called Animal with methods like sound() and move().\n",
    "Implement subclasses like Mammal, Bird, and Fish that inherit from the Animal class.\n",
    "- Override the sound() and move() methods in each subclass to provide the specific implementation for each animal type.\n",
    "- Create instances of each shape class and demonstrate the usage of inherited and specific methods.\n",
    "\n",
    "3. Vehicle Hierarchy:\n",
    "\n",
    "- Create a base class called Vehicle with attributes like brand, model, and year, and methods like start() and stop().\n",
    "- Implement subclasses like Car, Motorcycle, and Truck that inherit from the Vehicle class.\n",
    "- Add specific attributes and methods to each subclass that are relevant to that type of vehicle.\n",
    "- Create instances of each vehicle class and demonstrate the usage of inherited and specific methods.\n",
    "\n",
    "4. Employee Management System:\n",
    "\n",
    "- Create a base class called Employee with attributes like name, employee_id, and salary, and methods like calculate_salary() and get_details().\n",
    "- Implement subclasses like Manager, Developer, and SalesRepresentative that inherit from the Employee class.\n",
    "- Override the calculate_salary() method in each subclass to provide specific salary calculation logic based on the employee type.\n",
    "- Create instances of each employee class and demonstrate the usage of inherited and specific methods.\n",
    "\n",
    "5. Banking System:\n",
    "\n",
    "- Create a base class called Account with attributes like account_number and balance, and methods like deposit() and withdraw().\n",
    "- Implement subclasses like SavingsAccount and CheckingAccount that inherit from the Account class.\n",
    "- Add specific attributes and methods to each subclass that are relevant to that type of account, such as interest_rate for SavingsAccount and overdraft_limit for CheckingAccount.\n",
    "- Create instances of each vehicle class and demonstrate the usage of inherited and specific methods."
   ]
  }
 ],
 "metadata": {
  "kernelspec": {
   "display_name": "Python 3",
   "language": "python",
   "name": "python3"
  },
  "language_info": {
   "codemirror_mode": {
    "name": "ipython",
    "version": 3
   },
   "file_extension": ".py",
   "mimetype": "text/x-python",
   "name": "python",
   "nbconvert_exporter": "python",
   "pygments_lexer": "ipython3",
   "version": "3.11.4"
  }
 },
 "nbformat": 4,
 "nbformat_minor": 2
}
