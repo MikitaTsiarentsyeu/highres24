{
 "cells": [
  {
   "cell_type": "markdown",
   "metadata": {},
   "source": [
    "# Lesson 6 - functional programming, lambda, nested funcs"
   ]
  },
  {
   "cell_type": "markdown",
   "metadata": {},
   "source": [
    "Functional programming is a programming paradigm that treats computation as the evaluation of mathematical functions and avoids changing state and mutable data. It emphasizes the application of functions to inputs to produce outputs, without modifying the inputs themselves. In functional programming, functions are treated as first-class citizens, meaning they can be assigned to variables, passed as arguments to other functions, and returned as values from functions. This allows for the creation of higher-order functions, which can take other functions as arguments or return functions as results, enabling powerful abstractions and code reuse."
   ]
  },
  {
   "cell_type": "markdown",
   "metadata": {},
   "source": [
    "Python supports first-class functions, meaning that functions can be assigned to variables, passed as arguments to other functions, and returned as values from functions. This enables the creation of higher-order functions and facilitates functional programming techniques. Python also provides several built-in functions that are commonly used in functional programming, such as `map()`, `filter()`, and `reduce()`, which allow for the transformation and processing of data without explicitly writing loops. Additionally, Python's lambda expressions allow for the creation of small, anonymous functions inline, which can be useful for functional programming patterns and creating concise, readable code."
   ]
  },
  {
   "cell_type": "markdown",
   "metadata": {},
   "source": [
    "## Lambda"
   ]
  },
  {
   "cell_type": "markdown",
   "metadata": {},
   "source": [
    "Lambda expressions in Python are a way to create small, anonymous functions inline, without using the def keyword. They are defined using the `lambda` keyword, followed by a comma-separated list of parameters, a colon, and an expression that is evaluated and returned as the result of the function. Lambda functions are typically used for short, one-line functions that perform a specific task and can be passed as arguments to higher-order functions like `map()`, `filter()`, and `sort()`. While lambda functions can be useful for creating concise and readable code, they are limited to a single expression and cannot contain multiple statements or complex logic. It's important to use lambda functions judiciously and prefer named functions for more complex or reusable functionality."
   ]
  },
  {
   "cell_type": "code",
   "execution_count": 2,
   "metadata": {},
   "outputs": [
    {
     "data": {
      "text/plain": [
       "<function __main__.<lambda>(x, y)>"
      ]
     },
     "execution_count": 2,
     "metadata": {},
     "output_type": "execute_result"
    }
   ],
   "source": [
    "lambda x, y: x+y # the function to sum two parameters, it's being created but not called and there's no name to call it"
   ]
  },
  {
   "cell_type": "code",
   "execution_count": 4,
   "metadata": {},
   "outputs": [
    {
     "data": {
      "text/plain": [
       "5"
      ]
     },
     "execution_count": 4,
     "metadata": {},
     "output_type": "execute_result"
    }
   ],
   "source": [
    "my_sum = lambda x, y: x+y # it can be assigned to a variable explicitly and called by the name, though it's not being used oftenly\n",
    "\n",
    "my_sum(2, 3)"
   ]
  },
  {
   "cell_type": "code",
   "execution_count": 5,
   "metadata": {},
   "outputs": [
    {
     "data": {
      "text/plain": [
       "5"
      ]
     },
     "execution_count": 5,
     "metadata": {},
     "output_type": "execute_result"
    }
   ],
   "source": [
    "(lambda x, y: x+y)(2, 3) # can be called like this as well, not being used at all"
   ]
  },
  {
   "cell_type": "markdown",
   "metadata": {},
   "source": [
    "In the following example we will usa a function as another function's parameter:"
   ]
  },
  {
   "cell_type": "code",
   "execution_count": 8,
   "metadata": {},
   "outputs": [
    {
     "name": "stdout",
     "output_type": "stream",
     "text": [
      "15\n",
      "15\n"
     ]
    }
   ],
   "source": [
    "def operate(items:list, operation:callable): # operation expected to be a function (callable)\n",
    "    \n",
    "    if not items:\n",
    "        return\n",
    "\n",
    "    res = items[0]\n",
    "    for i in range(1, len(items)):\n",
    "        res = operation(res, items[i]) # function usage\n",
    "\n",
    "    return res\n",
    "\n",
    "def my_sum(x, y):\n",
    "    return x+y\n",
    "\n",
    "print(operate([1,2,3,4,5], my_sum)) # pass of my_sum without calling it\n",
    "\n",
    "print(operate([1,2,3,4,5], lambda x, y: x+y)) # pass of lambda"
   ]
  },
  {
   "cell_type": "markdown",
   "metadata": {},
   "source": [
    "Lambdas are short and concise, they are usefull in cases when a function will be used only once in some context. Here's an example with the built-in sorting function which allows modifying sort logic with the `key` param: "
   ]
  },
  {
   "cell_type": "code",
   "execution_count": 14,
   "metadata": {},
   "outputs": [
    {
     "name": "stdout",
     "output_type": "stream",
     "text": [
      "[('one', 1), ('three', 3), ('two', 2)]\n",
      "[('one', 1), ('two', 2), ('three', 3)]\n"
     ]
    }
   ],
   "source": [
    "numbers = [(\"three\", 3), (\"one\", 1), (\"two\", 2)]\n",
    "\n",
    "print(sorted(numbers)) # by default will be sorted by first elements of nested tuples\n",
    "\n",
    "print(sorted(numbers, key=lambda x: x[1])) # sorting by a second element"
   ]
  },
  {
   "cell_type": "markdown",
   "metadata": {},
   "source": [
    "## `map`, `filter`, `reduce`"
   ]
  },
  {
   "cell_type": "markdown",
   "metadata": {},
   "source": [
    "The `map()` function in Python is a built-in higher-order function that applies a given function to each item in an iterable and returns an iterator (an objects which support linear iteration without any additional logic) with the results. It can be converted to a list, tuple, or any other iterable type.\n",
    "\n",
    "Here are a few simple examples of using the map() function:"
   ]
  },
  {
   "cell_type": "code",
   "execution_count": 15,
   "metadata": {},
   "outputs": [
    {
     "name": "stdout",
     "output_type": "stream",
     "text": [
      "[1, 4, 9, 16, 25]\n"
     ]
    }
   ],
   "source": [
    "numbers = [1, 2, 3, 4, 5]\n",
    "squared_numbers = map(lambda x: x**2, numbers)\n",
    "print(list(squared_numbers))"
   ]
  },
  {
   "cell_type": "code",
   "execution_count": 17,
   "metadata": {},
   "outputs": [
    {
     "name": "stdout",
     "output_type": "stream",
     "text": [
      "['APPLE', 'BANANA', 'CHERRY']\n"
     ]
    }
   ],
   "source": [
    "fruits = ['apple', 'banana', 'cherry']\n",
    "uppercase_fruits = map(str.upper, fruits)\n",
    "print(list(uppercase_fruits))"
   ]
  },
  {
   "cell_type": "code",
   "execution_count": 18,
   "metadata": {},
   "outputs": [
    {
     "name": "stdout",
     "output_type": "stream",
     "text": [
      "[1, 2, 3, 4, 5]\n"
     ]
    }
   ],
   "source": [
    "numbers_as_strings = ['1', '2', '3', '4', '5']\n",
    "numbers = map(int, numbers_as_strings)\n",
    "print(list(numbers))"
   ]
  },
  {
   "cell_type": "markdown",
   "metadata": {},
   "source": [
    "In these examples, the `map()` function applies the specified function (either a lambda function or a built-in function) to each item in the iterable and returns an iterator with the transformed results. The `list()` function is then used to convert the iterator to a list for printing or further processing.\n",
    "\n",
    "The map() function is useful when you need to apply a function to each item in an iterable and obtain the transformed results in a concise and readable way, without explicitly writing a loop."
   ]
  },
  {
   "cell_type": "markdown",
   "metadata": {},
   "source": [
    "---"
   ]
  },
  {
   "cell_type": "markdown",
   "metadata": {},
   "source": [
    "The `filter()` function in Python is a built-in higher-order function that takes a function and an iterable as arguments and returns an iterator with the elements from the iterable for which the function returns True.\n",
    "\n",
    "Examples:"
   ]
  },
  {
   "cell_type": "code",
   "execution_count": 19,
   "metadata": {},
   "outputs": [
    {
     "name": "stdout",
     "output_type": "stream",
     "text": [
      "[2, 4, 6, 8, 10]\n"
     ]
    }
   ],
   "source": [
    "numbers = [1, 2, 3, 4, 5, 6, 7, 8, 9, 10]\n",
    "even_numbers = filter(lambda x: x % 2 == 0, numbers)\n",
    "print(list(even_numbers))"
   ]
  },
  {
   "cell_type": "code",
   "execution_count": 20,
   "metadata": {},
   "outputs": [
    {
     "name": "stdout",
     "output_type": "stream",
     "text": [
      "['banana', 'cherry', 'elderberry']\n"
     ]
    }
   ],
   "source": [
    "fruits = ['apple', 'banana', 'cherry', 'date', 'elderberry']\n",
    "long_fruits = filter(lambda x: len(x) > 5, fruits)\n",
    "print(list(long_fruits))"
   ]
  },
  {
   "cell_type": "code",
   "execution_count": 22,
   "metadata": {},
   "outputs": [
    {
     "name": "stdout",
     "output_type": "stream",
     "text": [
      "['test', 'print', 'python']\n"
     ]
    }
   ],
   "source": [
    "strings = ['test', '', 'print', '', 'python']\n",
    "non_empty_strings = filter(bool, strings)\n",
    "print(list(non_empty_strings))"
   ]
  },
  {
   "cell_type": "markdown",
   "metadata": {},
   "source": [
    "In the last example, the `bool` function is used as the filtering function. It evaluates each element in the iterable, and elements that are considered \"truthy\" (non-empty strings, non-zero numbers, etc.) are included in the result, while \"falsy\" elements (empty strings, zero, None, etc.) are excluded."
   ]
  },
  {
   "cell_type": "markdown",
   "metadata": {},
   "source": [
    "---"
   ]
  },
  {
   "cell_type": "markdown",
   "metadata": {},
   "source": [
    "The `reduce()` function in Python is a higher-order function that applies a given function to the elements of an iterable in a cumulative way, reducing the iterable to a single value. It needs to be imported before usage:"
   ]
  },
  {
   "cell_type": "code",
   "execution_count": null,
   "metadata": {},
   "outputs": [
    {
     "name": "stdout",
     "output_type": "stream",
     "text": [
      "15\n",
      "9\n",
      "test str!\n"
     ]
    }
   ],
   "source": [
    "from functools import reduce\n",
    "\n",
    "numbers = [1, 2, 3, 4, 5]\n",
    "sum_of_numbers = reduce(lambda x, y: x + y, numbers)\n",
    "print(sum_of_numbers) \n",
    "\n",
    "numbers = [5, 2, 8, 1, 9, 3]\n",
    "maximum_number = reduce(lambda x, y: x if x > y else y, numbers)\n",
    "print(maximum_number)\n",
    "\n",
    "words = ['test', ' ', 'str', '!']\n",
    "sentence = reduce(lambda x, y: x + y, words)\n",
    "print(sentence) "
   ]
  },
  {
   "cell_type": "markdown",
   "metadata": {},
   "source": [
    "`reduce()` goes across the iterable applying passed function to each of elements and the latest result, hence, the function should be of two arguments"
   ]
  },
  {
   "cell_type": "markdown",
   "metadata": {},
   "source": [
    "---"
   ]
  },
  {
   "cell_type": "markdown",
   "metadata": {},
   "source": [
    "since both `map` and `filter` return an iterable they can be easily combined (and then passed to `reduce` as well):"
   ]
  },
  {
   "cell_type": "code",
   "execution_count": 32,
   "metadata": {},
   "outputs": [
    {
     "name": "stdout",
     "output_type": "stream",
     "text": [
      "3.75\n"
     ]
    }
   ],
   "source": [
    "words = ['python', '', 'test', 'fu', '', '', 'bar']\n",
    "\n",
    "total_length = reduce(lambda x, y: x + y, map(len, filter(bool, words)))\n",
    "count = len(list(filter(bool, words)))\n",
    "print(total_length/count)\n",
    "\n",
    "# all of this can be done in simpler terms though, it's just a demonstration "
   ]
  },
  {
   "cell_type": "markdown",
   "metadata": {},
   "source": [
    "## Nested functions"
   ]
  },
  {
   "cell_type": "markdown",
   "metadata": {},
   "source": [
    "In Python, nested functions, also known as inner functions or local functions, are functions defined inside another function. They are created and used within the scope of the enclosing function and can access variables from the outer function."
   ]
  },
  {
   "cell_type": "code",
   "execution_count": 33,
   "metadata": {},
   "outputs": [
    {
     "name": "stdout",
     "output_type": "stream",
     "text": [
      "This is the outer function\n",
      "This is the inner function\n"
     ]
    }
   ],
   "source": [
    "def outer_function():\n",
    "    def inner_function():\n",
    "        print(\"This is the inner function\")\n",
    "    \n",
    "    print(\"This is the outer function\")\n",
    "    inner_function()\n",
    "\n",
    "outer_function()"
   ]
  },
  {
   "cell_type": "markdown",
   "metadata": {},
   "source": [
    "`PAY ATTENTION!` The code above can be easily refactored to eliminate the nesting (the nesting in this simple example not only provides no benefits but also makes the code less readable) "
   ]
  },
  {
   "cell_type": "code",
   "execution_count": 34,
   "metadata": {},
   "outputs": [
    {
     "name": "stdout",
     "output_type": "stream",
     "text": [
      "This is the outer function\n",
      "This is the inner function\n"
     ]
    }
   ],
   "source": [
    "def outer_function():\n",
    "    \n",
    "    print(\"This is the outer function\")\n",
    "    inner_function()\n",
    "\n",
    "def inner_function():\n",
    "    print(\"This is the inner function\")\n",
    "\n",
    "outer_function()"
   ]
  },
  {
   "cell_type": "markdown",
   "metadata": {},
   "source": [
    "The results are the same. Do not use nesting in cases like that when it can be reworked."
   ]
  },
  {
   "cell_type": "markdown",
   "metadata": {},
   "source": [
    "### reasons for nesting"
   ]
  },
  {
   "cell_type": "markdown",
   "metadata": {},
   "source": [
    "There are exactly `2` reasons for nesting:\n",
    "- 'encapsulation': nested function is not visible outside its higher level parent function, hence, cannot be used outside its scope\n",
    "- 'inheritance'/generation: parent function can affect logic of child function, usually involves returning child function as a result of parent function\n",
    "\n",
    "It's not `OOP` yet, but it's really close.\n",
    "\n",
    "`PAY ATTENTION!` if you are finding yourself trying to nest some functions - check with these 2 reasons and do not do `StUpId ThInGs`."
   ]
  },
  {
   "cell_type": "code",
   "execution_count": 35,
   "metadata": {},
   "outputs": [
    {
     "name": "stdout",
     "output_type": "stream",
     "text": [
      "Addition: 8\n",
      "Subtraction: 3\n",
      "Multiplication: 24\n",
      "Division: 5.0\n"
     ]
    }
   ],
   "source": [
    "# a simple encapsulation example\n",
    "\n",
    "def calculator():\n",
    "\n",
    "    # hidden business logic\n",
    "    def add(a, b):\n",
    "        return a + b\n",
    "    \n",
    "    def subtract(a, b):\n",
    "        return a - b\n",
    "    \n",
    "    def multiply(a, b):\n",
    "        return a * b\n",
    "    \n",
    "    def divide(a, b):\n",
    "        if b != 0:\n",
    "            return a / b\n",
    "        else:\n",
    "            return\n",
    "    \n",
    "    # 'constructor'\n",
    "    return {\n",
    "        \"add\": add,\n",
    "        \"subtract\": subtract,\n",
    "        \"multiply\": multiply,\n",
    "        \"divide\": divide\n",
    "    }\n",
    "\n",
    "# Create an 'instance' of the calculator\n",
    "my_calculator = calculator()\n",
    "\n",
    "# Perform calculations using the calculator 'attributes'\n",
    "result1 = my_calculator[\"add\"](5, 3)\n",
    "print(\"Addition:\", result1)\n",
    "\n",
    "result2 = my_calculator[\"subtract\"](10, 7)\n",
    "print(\"Subtraction:\", result2)\n",
    "\n",
    "result3 = my_calculator[\"multiply\"](4, 6)\n",
    "print(\"Multiplication:\", result3)\n",
    "\n",
    "result4 = my_calculator[\"divide\"](10, 2)\n",
    "print(\"Division:\", result4)"
   ]
  },
  {
   "cell_type": "code",
   "execution_count": 36,
   "metadata": {},
   "outputs": [
    {
     "name": "stdout",
     "output_type": "stream",
     "text": [
      "5\n"
     ]
    }
   ],
   "source": [
    "# a simple inheritance example\n",
    "\n",
    "def calculator(operation):\n",
    "\n",
    "    if operation == \"+\":\n",
    "        def result(a, b):\n",
    "            return a + b\n",
    "    \n",
    "    elif operation == \"-\":\n",
    "        def result(a, b):\n",
    "            return a - b\n",
    "    \n",
    "    elif operation == \"*\":\n",
    "        def result(a, b):\n",
    "            return a * b\n",
    "    \n",
    "    elif operation == \"/\":\n",
    "        def result(a, b):\n",
    "            if b != 0:\n",
    "                return a / b\n",
    "            else:\n",
    "                return\n",
    "    \n",
    "    else:\n",
    "        return\n",
    "    \n",
    "    return result\n",
    "\n",
    "my_sum = calculator(\"+\") # new 'instance' of sum calculator\n",
    "\n",
    "print(my_sum(2, 3))"
   ]
  },
  {
   "cell_type": "markdown",
   "metadata": {},
   "source": [
    "### closure"
   ]
  },
  {
   "cell_type": "markdown",
   "metadata": {},
   "source": [
    "Nested functions can capture and retain the state of the outer function's variables, even after the outer function has finished executing. This is known as a `closure`, where the inner function \"remembers\" the values of the enclosing scope's variables."
   ]
  },
  {
   "cell_type": "code",
   "execution_count": 38,
   "metadata": {},
   "outputs": [
    {
     "name": "stdout",
     "output_type": "stream",
     "text": [
      "INFO: This is an informational message.\n",
      "ERROR: An error occurred.\n"
     ]
    }
   ],
   "source": [
    "def logger(prefix):\n",
    "    def log_message(message):\n",
    "        print(f\"{prefix}: {message}\")\n",
    "    \n",
    "    return log_message\n",
    "\n",
    "info_logger = logger(\"INFO\") # new 'instance' of log_message which remembers prefix INFO\n",
    "error_logger = logger(\"ERROR\") # new 'instance' of log_message which remembers prefix ERROR\n",
    "\n",
    "info_logger(\"This is an informational message.\")\n",
    "error_logger(\"An error occurred.\")"
   ]
  },
  {
   "cell_type": "markdown",
   "metadata": {},
   "source": [
    "### decorators"
   ]
  },
  {
   "cell_type": "markdown",
   "metadata": {},
   "source": [
    "Nested functions are commonly used to create decorators in Python. Decorators are a way to modify or enhance the behavior of functions or classes without directly modifying their code (say 'hi' to OOP once again). They are implemented using nested functions and the `@` syntax usually though it can also be done without `@` in a 'manual' way."
   ]
  },
  {
   "cell_type": "code",
   "execution_count": 40,
   "metadata": {},
   "outputs": [
    {
     "name": "stdout",
     "output_type": "stream",
     "text": [
      "HELLO, WORLD!\n"
     ]
    }
   ],
   "source": [
    "def uppercase_decorator(func):\n",
    "    def wrapper():\n",
    "        result = func()\n",
    "        return result.upper()\n",
    "    \n",
    "    return wrapper\n",
    "\n",
    "def greet():\n",
    "    return \"hello, world!\"\n",
    "\n",
    "greet = uppercase_decorator(greet) # the 'manual' way to to decorators\n",
    "print(greet())  "
   ]
  },
  {
   "cell_type": "code",
   "execution_count": 41,
   "metadata": {},
   "outputs": [
    {
     "name": "stdout",
     "output_type": "stream",
     "text": [
      "HELLO, WORLD!\n"
     ]
    }
   ],
   "source": [
    "def uppercase_decorator(func):\n",
    "    def wrapper():\n",
    "        result = func()\n",
    "        return result.upper()\n",
    "    \n",
    "    return wrapper\n",
    "\n",
    "@uppercase_decorator # automation, the decorator will be applied at time of function creation\n",
    "def greet():\n",
    "    return \"hello, world!\"\n",
    "\n",
    "print(greet()) "
   ]
  },
  {
   "cell_type": "code",
   "execution_count": 43,
   "metadata": {},
   "outputs": [
    {
     "name": "stdout",
     "output_type": "stream",
     "text": [
      "25\n",
      "{5: 25}\n",
      "25\n",
      "{5: 25}\n",
      "36\n",
      "{5: 25, 6: 36}\n",
      "36\n",
      "{5: 25, 6: 36}\n"
     ]
    }
   ],
   "source": [
    "cache_data = {} # do not put cache_data on the global level; here it's for demonstration\n",
    "\n",
    "def cache(func):\n",
    "    # cache_data = {} # here is where cache_data belongs\n",
    "    \n",
    "    def wrapper(x):\n",
    "        if x in cache_data:\n",
    "            return cache_data[x]\n",
    "        else:\n",
    "            result = func(x) # note that decorators are based on closure\n",
    "            cache_data[x] = result\n",
    "            return result\n",
    "    \n",
    "    return wrapper\n",
    "\n",
    "@cache\n",
    "def square(x):\n",
    "    return x ** 2\n",
    "\n",
    "print(square(5))\n",
    "print(cache_data)\n",
    "print(square(5))\n",
    "print(cache_data)\n",
    "print(square(6))\n",
    "print(cache_data)\n",
    "print(square(6))\n",
    "print(cache_data)\n"
   ]
  },
  {
   "cell_type": "markdown",
   "metadata": {},
   "source": [
    "## Homework"
   ]
  },
  {
   "cell_type": "markdown",
   "metadata": {},
   "source": [
    "Task 1. Custom Sorting with Key Function:\n",
    "\n",
    "Write a function `custom_sort(iterable, key_func)` that sorts the given iterable based on a custom key function. The key_func should be a function that takes an element from the iterable and returns a value to be used for sorting. Use any sorting algorithm you'd like."
   ]
  },
  {
   "cell_type": "markdown",
   "metadata": {},
   "source": [
    "Task 2. Decorator for Timing Function Execution:\n",
    "\n",
    "Create a decorator function `timer(func)` that measures the execution time of the decorated function. The decorator should print the function name and the time taken (in seconds) to execute the function. Apply the timer decorator to a few different functions, including some with time-consuming operations, and analyze their execution times.\n",
    "\n",
    "(If you want some challenge try not printing but returning the timings, but do not forget about results of decorated function either)"
   ]
  }
 ],
 "metadata": {
  "kernelspec": {
   "display_name": "Python 3 (ipykernel)",
   "language": "python",
   "name": "python3"
  },
  "language_info": {
   "codemirror_mode": {
    "name": "ipython",
    "version": 3
   },
   "file_extension": ".py",
   "mimetype": "text/x-python",
   "name": "python",
   "nbconvert_exporter": "python",
   "pygments_lexer": "ipython3",
   "version": "3.12.2"
  }
 },
 "nbformat": 4,
 "nbformat_minor": 4
}
