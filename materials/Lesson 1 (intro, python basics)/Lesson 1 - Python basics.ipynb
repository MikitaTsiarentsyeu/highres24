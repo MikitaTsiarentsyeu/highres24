{
 "cells": [
  {
   "cell_type": "markdown",
   "metadata": {},
   "source": [
    "# Lesson 1 - Python basics"
   ]
  },
  {
   "cell_type": "markdown",
   "metadata": {},
   "source": [
    "## Part 1. Interpreter."
   ]
  },
  {
   "cell_type": "markdown",
   "metadata": {},
   "source": [
    "An interpreter is a computer program that reads and executes code line by line, translating it into machine-readable instructions on the fly. In Python, the interpreter is responsible for executing Python code and providing an interactive environment for running Python programs.\n",
    "\n",
    "When you write Python code in a file or in an interactive shell, the interpreter follows these steps:\n",
    "\n",
    "1. It reads the Python code line by line.\n",
    "2. It checks the syntax of each line and translates it into bytecode, which is a low-level representation of the code that can be executed by the Python virtual machine.\n",
    "3. If there are no syntax errors, the interpreter executes the bytecode, performing the specified operations and generating the desired output.\n",
    "4. If there are syntax errors or runtime errors, the interpreter raises an exception and provides an error message indicating the location and nature of the error.\n",
    "5. The interpreter continues executing the code line by line until it reaches the end of the program or encounters an error that terminates the execution.\n",
    "\n",
    "The Python interpreter is an essential component of the Python programming language (we can even call it Python platform), allowing developers to write and execute Python code easily and interactively."
   ]
  },
  {
   "cell_type": "markdown",
   "metadata": {},
   "source": [
    "## Part 2. Syntax basics"
   ]
  },
  {
   "cell_type": "markdown",
   "metadata": {},
   "source": [
    "### Literals"
   ]
  },
  {
   "cell_type": "markdown",
   "metadata": {},
   "source": [
    "Fixed values that are directly represented in the code without any computation or assignment. They are used to represent specific values of different data types, such as numbers, strings, booleans. Python supports various types of literals, including numeric literals (integers, floats, complex numbers), string literals (single quotes, double quotes, triple quotes), boolean literals (True, False), and special literals (None)."
   ]
  },
  {
   "cell_type": "code",
   "execution_count": null,
   "metadata": {},
   "outputs": [],
   "source": [
    "10"
   ]
  },
  {
   "cell_type": "code",
   "execution_count": null,
   "metadata": {},
   "outputs": [],
   "source": [
    "15.125"
   ]
  },
  {
   "cell_type": "code",
   "execution_count": null,
   "metadata": {},
   "outputs": [],
   "source": [
    "\"test string\", 'test string', \"\"\"test string\"\"\""
   ]
  },
  {
   "cell_type": "markdown",
   "metadata": {},
   "source": [
    "### Variables"
   ]
  },
  {
   "cell_type": "markdown",
   "metadata": {},
   "source": [
    "Are used to store and reference data values. They act as named containers that hold data of different types, such as numbers, strings, or objects. Variables are created using the assignment operator (=), where the value on the right side of the operator is assigned to the variable on the left side. Python variables are dynamically typed, meaning you don't need to specify the type of data a variable will hold in advance. The type of a variable is determined by the value assigned to it and can change during the execution of the program.\n",
    "\n",
    "Python has certain naming rules and conventions for variables, functions, and other identifiers. Here are the key rules and guidelines:\n",
    "\n",
    "- Valid characters: Variable names can contain letters (a-z, A-Z), digits (0-9), and underscores (_). They cannot start with a digit.\n",
    "\n",
    "- Case-sensitivity: Python is case-sensitive, so \"myVariable\" and \"myvariable\" are considered different variables.\n",
    "\n",
    "- Reserved words: Certain words are reserved by Python for special purposes and cannot be used as variable names. Examples include \"if\", \"else\", \"while\", \"for\", \"def\", \"class\", etc."
   ]
  },
  {
   "cell_type": "code",
   "execution_count": 27,
   "metadata": {},
   "outputs": [
    {
     "name": "stdout",
     "output_type": "stream",
     "text": [
      "45.77\n"
     ]
    }
   ],
   "source": [
    "x = 45.77\n",
    "print(x)"
   ]
  },
  {
   "cell_type": "code",
   "execution_count": 28,
   "metadata": {},
   "outputs": [
    {
     "name": "stdout",
     "output_type": "stream",
     "text": [
      "2 test\n"
     ]
    }
   ],
   "source": [
    "a, b = 2, \"test\"\n",
    "print(a, b)"
   ]
  },
  {
   "cell_type": "code",
   "execution_count": 29,
   "metadata": {},
   "outputs": [
    {
     "name": "stdout",
     "output_type": "stream",
     "text": [
      "test 2\n"
     ]
    }
   ],
   "source": [
    "b, a = a, b\n",
    "print(a, b)"
   ]
  },
  {
   "cell_type": "code",
   "execution_count": 30,
   "metadata": {},
   "outputs": [
    {
     "name": "stdout",
     "output_type": "stream",
     "text": [
      "test test test\n"
     ]
    }
   ],
   "source": [
    "p1 = p2 = p3 = \"test\"\n",
    "print(p1, p2, p3)"
   ]
  },
  {
   "cell_type": "markdown",
   "metadata": {},
   "source": [
    "### Operators"
   ]
  },
  {
   "cell_type": "markdown",
   "metadata": {},
   "source": [
    "Are special symbols or keywords in Python that invoke specific operations on one or more values or variables. "
   ]
  },
  {
   "cell_type": "markdown",
   "metadata": {},
   "source": [
    "| Operator Type | Operators |\n",
    "| :-- | :-- |\n",
    "| Arithmetic Operators | + (Addition)<br>- (Subtraction)<br>* (Multiplication)<br>/ (Division)<br>// (Floor Division)<br>% (Modulo)<br>** (Exponentiation) |\n",
    "| Comparison Operators | == (Equal to)<br>!= (Not equal to)<br>> (Greater than)<br>< (Less than)<br>>= (Greater than or equal to)<br><= (Less than or equal to) |\n",
    "| Logical Operators | and (Logical AND)<br>or (Logical OR)<br>not (Logical NOT) |\n",
    "| Assignment Operators | = (Assignment)<br>+= (Addition assignment)<br>-= (Subtraction assignment)<br>*= (Multiplication assignment)<br>/= (Division assignment)<br>//= (Floor division assignment)<br>%= (Modulo assignment)<br>**= (Exponentiation assignment) |\n"
   ]
  },
  {
   "cell_type": "code",
   "execution_count": null,
   "metadata": {},
   "outputs": [],
   "source": [
    "10 + 2"
   ]
  },
  {
   "cell_type": "code",
   "execution_count": null,
   "metadata": {},
   "outputs": [],
   "source": [
    "True + False"
   ]
  },
  {
   "cell_type": "code",
   "execution_count": null,
   "metadata": {},
   "outputs": [],
   "source": [
    "\"test\" + \"test\""
   ]
  },
  {
   "cell_type": "code",
   "execution_count": null,
   "metadata": {},
   "outputs": [],
   "source": [
    "10 < 10.000000000000000000000000001"
   ]
  },
  {
   "cell_type": "markdown",
   "metadata": {},
   "source": [
    "### Expressions"
   ]
  },
  {
   "cell_type": "markdown",
   "metadata": {},
   "source": [
    "Are combinations of values, variables, operators, and function calls that evaluate to a single value. Expressions can be as simple as a single value or variable, or they can be complex combinations of multiple elements. Python evaluates expressions based on the precedence and associativity rules of the operators involved, and the result of an expression can be assigned to a variable, used as an argument to a function, or combined with other expressions to form more complex expressions."
   ]
  },
  {
   "cell_type": "code",
   "execution_count": 19,
   "metadata": {},
   "outputs": [],
   "source": [
    "x = 15 # not an expression"
   ]
  },
  {
   "cell_type": "code",
   "execution_count": null,
   "metadata": {},
   "outputs": [],
   "source": [
    "x / 3 # an expressions"
   ]
  },
  {
   "cell_type": "code",
   "execution_count": 17,
   "metadata": {},
   "outputs": [],
   "source": [
    "y = x // 3 # contains an expression"
   ]
  },
  {
   "cell_type": "code",
   "execution_count": null,
   "metadata": {},
   "outputs": [],
   "source": [
    "True or print(y) # an expressions"
   ]
  },
  {
   "cell_type": "markdown",
   "metadata": {},
   "source": [
    "### Statements"
   ]
  },
  {
   "cell_type": "markdown",
   "metadata": {},
   "source": [
    "Are the basic units of execution in a Python program. While expressions evaluate to a single value, statements are used to perform actions, control the flow of the program, and define the structure of the code."
   ]
  },
  {
   "cell_type": "code",
   "execution_count": 23,
   "metadata": {},
   "outputs": [],
   "source": [
    "x = 77"
   ]
  },
  {
   "cell_type": "code",
   "execution_count": 24,
   "metadata": {},
   "outputs": [],
   "source": [
    "x += 22"
   ]
  },
  {
   "cell_type": "code",
   "execution_count": null,
   "metadata": {},
   "outputs": [],
   "source": [
    "print(x - 11)"
   ]
  },
  {
   "cell_type": "markdown",
   "metadata": {},
   "source": [
    "### Blocks"
   ]
  },
  {
   "cell_type": "markdown",
   "metadata": {},
   "source": [
    "In Python, blocks of code are defined using indentation rather than explicit delimiters like curly braces or keywords. Indentation plays a crucial role in determining the grouping and hierarchy of statements within a Python program. A block is a group of statements that are executed together and have the same level of indentation. Python uses a consistent indentation style, typically four spaces per level, to indicate which statements belong to a particular block. The indentation level determines the scope and nesting of statements, such as the body of a function, the statements inside a loop, or the code within a conditional block. Proper indentation is mandatory in Python, and incorrect indentation can lead to syntax errors or unexpected behavior."
   ]
  },
  {
   "cell_type": "code",
   "execution_count": null,
   "metadata": {},
   "outputs": [],
   "source": [
    "int x = 10; // an example of code in C-like style\n",
    "\n",
    "if (x == 0) { \n",
    "    x++;\n",
    "    if (x > 100){\n",
    "        x--;\n",
    "    }\n",
    "}\n",
    "else {\n",
    "    x = 0;\n",
    "}"
   ]
  },
  {
   "cell_type": "code",
   "execution_count": 37,
   "metadata": {},
   "outputs": [],
   "source": [
    "x = 10 # the same logic in Python\n",
    "\n",
    "if x == 0:\n",
    "    x += 1\n",
    "    if x > 100:\n",
    "        x -= 1\n",
    "else:\n",
    "    x = 0"
   ]
  },
  {
   "cell_type": "markdown",
   "metadata": {},
   "source": [
    "### Dynamic typing"
   ]
  },
  {
   "cell_type": "markdown",
   "metadata": {},
   "source": [
    "Python is a dynamically-typed language, which means that variables in Python can hold values of any type. In contrast to statically-typed languages, where variables have a fixed type declared at compile-time which also affects types of objects themselves, Python determines the type of a an object (not a variable!) at runtime based on the value assigned to it. Variables in Python do not have types at all, they only reference some object in memory. This dynamic typing allows for flexibility and ease of use, as you don't need to specify the type of a variable explicitly. Python's dynamic typing system also enables variables to be reassigned with values of different types throughout the program, providing adaptability and reducing the need for explicit type conversions."
   ]
  },
  {
   "cell_type": "code",
   "execution_count": 38,
   "metadata": {},
   "outputs": [
    {
     "data": {
      "text/plain": [
       "int"
      ]
     },
     "execution_count": 38,
     "metadata": {},
     "output_type": "execute_result"
    }
   ],
   "source": [
    "x = 10\n",
    "type(x)"
   ]
  },
  {
   "cell_type": "code",
   "execution_count": 39,
   "metadata": {},
   "outputs": [
    {
     "data": {
      "text/plain": [
       "float"
      ]
     },
     "execution_count": 39,
     "metadata": {},
     "output_type": "execute_result"
    }
   ],
   "source": [
    "x = 10.1\n",
    "type(x)"
   ]
  },
  {
   "cell_type": "code",
   "execution_count": 40,
   "metadata": {},
   "outputs": [
    {
     "data": {
      "text/plain": [
       "str"
      ]
     },
     "execution_count": 40,
     "metadata": {},
     "output_type": "execute_result"
    }
   ],
   "source": [
    "x = \"test\"\n",
    "type(x)"
   ]
  },
  {
   "cell_type": "code",
   "execution_count": 46,
   "metadata": {},
   "outputs": [
    {
     "data": {
      "text/plain": [
       "140732433359848"
      ]
     },
     "execution_count": 46,
     "metadata": {},
     "output_type": "execute_result"
    }
   ],
   "source": [
    "x = 7 # id() returns an address of an object in the memory\n",
    "id(x)"
   ]
  },
  {
   "cell_type": "code",
   "execution_count": 42,
   "metadata": {},
   "outputs": [
    {
     "data": {
      "text/plain": [
       "1592595159600"
      ]
     },
     "execution_count": 42,
     "metadata": {},
     "output_type": "execute_result"
    }
   ],
   "source": [
    "x = 7.0\n",
    "id(x)"
   ]
  },
  {
   "cell_type": "code",
   "execution_count": 44,
   "metadata": {},
   "outputs": [
    {
     "data": {
      "text/plain": [
       "1592601393968"
      ]
     },
     "execution_count": 44,
     "metadata": {},
     "output_type": "execute_result"
    }
   ],
   "source": [
    "x = str(x)\n",
    "id(x)"
   ]
  },
  {
   "cell_type": "markdown",
   "metadata": {},
   "source": [
    "## Homework 1"
   ]
  },
  {
   "cell_type": "markdown",
   "metadata": {},
   "source": [
    "Install Python and preffered IDE"
   ]
  }
 ],
 "metadata": {
  "kernelspec": {
   "display_name": "Python 3",
   "language": "python",
   "name": "python3"
  },
  "language_info": {
   "codemirror_mode": {
    "name": "ipython",
    "version": 3
   },
   "file_extension": ".py",
   "mimetype": "text/x-python",
   "name": "python",
   "nbconvert_exporter": "python",
   "pygments_lexer": "ipython3",
   "version": "3.11.4"
  }
 },
 "nbformat": 4,
 "nbformat_minor": 2
}
