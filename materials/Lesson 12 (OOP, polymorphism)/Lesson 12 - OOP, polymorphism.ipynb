{
 "cells": [
  {
   "cell_type": "markdown",
   "metadata": {},
   "source": [
    "# Lesson 12 - OOP, polymorphism"
   ]
  },
  {
   "cell_type": "markdown",
   "metadata": {},
   "source": [
    "Polymorphism is a fundamental principle in Object-Oriented Programming (OOP) that allows objects of different classes to be treated as objects of a common superclass, enabling flexibility and extensibility in the design and implementation of software systems. It enables the use of a single interface or base class to represent multiple related classes, providing a way to write more generic and reusable code. Polymorphism is closely related to inheritance, as it relies on the ability of subclasses to override or extend the methods defined in their superclasses. There are two main types of polymorphism: compile-time polymorphism (method overloading) and runtime polymorphism (method overriding and virtual functions). Compile-time polymorphism allows multiple methods with the same name but different parameters within a class, while runtime polymorphism enables subclasses to provide their own implementations of methods inherited from the superclass. *Note that Python has only runtime polymorphism and will not have the compile type in the nearest future.* \n",
    "\n",
    "Polymorphism promotes code modularity, extensibility, and maintainability by allowing the addition of new classes that adhere to a common interface without modifying the existing codebase, facilitating the development of more flexible and adaptable software systems."
   ]
  },
  {
   "cell_type": "markdown",
   "metadata": {},
   "source": [
    "## Polymorphism in Python"
   ]
  },
  {
   "cell_type": "markdown",
   "metadata": {},
   "source": [
    "\n",
    "In Python, polymorphism is achieved through duck typing, which is a concept that focuses on the behavior of objects rather than their actual types. Duck typing allows objects of different classes to be used interchangeably as long as they provide the required methods or attributes, without the need for explicit inheritance or type checking. Python's dynamic typing and lack of explicit method signatures enable polymorphism to be implemented in a more flexible and less restrictive manner compared to statically-typed languages. \n",
    "\n",
    "Polymorphism in Python is commonly demonstrated through method overriding, where subclasses provide their own implementations of methods inherited from the superclass, and through the use of abstract base classes and interfaces, which define a common interface that can be implemented by multiple classes."
   ]
  },
  {
   "cell_type": "code",
   "execution_count": 3,
   "metadata": {},
   "outputs": [
    {
     "name": "stdout",
     "output_type": "stream",
     "text": [
      "5\n",
      "23\n",
      "unsupported operand type(s) for +: 'NoneType' and 'NoneType'\n"
     ]
    }
   ],
   "source": [
    "# the simpliest example with polymorphism underneath\n",
    "\n",
    "def add_two_objects(a, b):\n",
    "    # the function does not check any types\n",
    "    # it operates on the __add__ interface which is hidden by the '+' operator\n",
    "    return a+b\n",
    "\n",
    "print(add_two_objects(2, 3))\n",
    "print(add_two_objects('2', '3'))\n",
    "# some objects do not have the __add__ interface which will result in error\n",
    "try:\n",
    "    print(add_two_objects(None, None))\n",
    "except TypeError as e:\n",
    "# the error happens at runtime because the interface check happens at runtime\n",
    "    print(e)"
   ]
  },
  {
   "cell_type": "markdown",
   "metadata": {},
   "source": [
    "In Python it's actually enough for several functions to have the same name to achieve the runtime polymorphism. The functions may not be related in any way, and if these are methods then their calsses also may have nothing in common."
   ]
  },
  {
   "cell_type": "code",
   "execution_count": null,
   "metadata": {},
   "outputs": [
    {
     "name": "stdout",
     "output_type": "stream",
     "text": [
      "meow\n",
      "bark\n",
      "bark\n",
      "meow\n",
      "bark\n",
      "meow\n",
      "meow\n",
      "meow\n",
      "meow\n",
      "meow\n",
      "bark\n",
      "meow\n"
     ]
    }
   ],
   "source": [
    "# classes Dog and Cat below do not relate in any way\n",
    "# but they have a method with identical name\n",
    "\n",
    "class Cat:\n",
    "\n",
    "    def say_something(self):\n",
    "        print(\"meow\")\n",
    "\n",
    "class Dog:\n",
    "\n",
    "    def say_something(self):\n",
    "        print(\"bark\")\n",
    "\n",
    "c = Cat()\n",
    "d = Dog()\n",
    "\n",
    "# this would not be a runtime polymorphism but a direct call of a method on an object\n",
    "c.say_something()\n",
    "d.say_something()\n",
    "\n",
    "import random\n",
    "\n",
    "# object animal here is of unknown origin, it can be anything\n",
    "# the interface check will be executed at runtime\n",
    "def talk(animal):\n",
    "    animal.say_something()\n",
    "\n",
    "animals = (Cat(), Dog())\n",
    "\n",
    "# a random odject is being passed, though all of them have the same interface\n",
    "for i in range(10):\n",
    "    talk(random.choice(animals))\n",
    "    "
   ]
  },
  {
   "cell_type": "markdown",
   "metadata": {},
   "source": [
    "Basically, polymorphism is a difference of execution logic at runtime. In Python it's enough to have identical methods (or just functions) names. Even parameters list does not have anything to do with the polymorphism, although a difference in a parameter count may lead to an error in some cases. The most natural way to achive the polymorphism is inheritance, since its promototes the same interface across a liniage of objects."
   ]
  },
  {
   "cell_type": "code",
   "execution_count": 10,
   "metadata": {},
   "outputs": [
    {
     "name": "stdout",
     "output_type": "stream",
     "text": [
      "what's up\n",
      "what's up\n",
      "meow\n",
      "bark\n",
      "what's up\n",
      "bark\n",
      "what's up\n",
      "bark\n",
      "what's up\n",
      "bark\n"
     ]
    }
   ],
   "source": [
    "# parent class for interface propagation\n",
    "class Animal:\n",
    "\n",
    "    def say_something(self):\n",
    "        print(\"what's up\")\n",
    "\n",
    "# basic version of the interface\n",
    "class Human(Animal): pass\n",
    "\n",
    "# overriden version\n",
    "class Cat(Animal):\n",
    "\n",
    "    def say_something(self):\n",
    "        print(\"meow\")\n",
    "\n",
    "# overriden version\n",
    "class Dog(Animal):\n",
    "\n",
    "    def say_something(self):\n",
    "        print(\"bark\")\n",
    "\n",
    "animals = (Cat(), Dog(), Human())\n",
    "\n",
    "import random\n",
    "\n",
    "# here it's posible to use type hint to specify the general type which should provide the common interface\n",
    "def talk(animal:Animal):\n",
    "    animal.say_something() # this call now looks very logical, every animal should have this interface\n",
    "\n",
    "# but each animal will have its own implementation of the interface\n",
    "for i in range(10):\n",
    "    talk(random.choice(animals))"
   ]
  },
  {
   "cell_type": "markdown",
   "metadata": {},
   "source": [
    "In the example above we forced the specific implementation of the interface `say_something` onto the Animal class which may not be a good approach in most cases (the logic may be too specific for the high level of abstraction). It's more common approach to have the abstract parent only as a support for an interface without providing a specific implementation. Additionally, it's important to be sure that all derived classes will actually implement the interface (or it will lead to errors). To help with such cases you can use the `abc` concept. `abc` stands for 'abstract base class' and it provides a way to enforce an interface implementation in derived classes."
   ]
  },
  {
   "cell_type": "code",
   "execution_count": 17,
   "metadata": {},
   "outputs": [
    {
     "name": "stdout",
     "output_type": "stream",
     "text": [
      "Can't instantiate abstract class Human with abstract method say_something\n",
      "what's up\n",
      "meow\n",
      "bark\n"
     ]
    }
   ],
   "source": [
    "from abc import ABC, abstractmethod\n",
    "\n",
    "# Animal becomes an abstract class\n",
    "# that means that all derived class should implement methods marked as abstract\n",
    "# without such an implementation a class could not be instanciated\n",
    "class Animal(ABC):\n",
    "\n",
    "    @abstractmethod\n",
    "    def say_something(self):\n",
    "        pass # no more specific logic in the abstraction\n",
    "\n",
    "# the abstarct interface is not implemented, the abc contract is broken \n",
    "class Human(Animal): pass\n",
    "\n",
    "try:\n",
    "    # an error will happen\n",
    "    h = Human()\n",
    "    h.say_something()\n",
    "except TypeError as e:\n",
    "    print(e)\n",
    "\n",
    "class Human(Animal):\n",
    "\n",
    "    def say_something(self):\n",
    "        print(\"what's up\")\n",
    "\n",
    "try:\n",
    "    # no more errors\n",
    "    h = Human()\n",
    "    h.say_something()\n",
    "except TypeError as e:\n",
    "    print(e)\n",
    "\n",
    "# overriden version\n",
    "class Cat(Animal):\n",
    "\n",
    "    def say_something(self):\n",
    "        print(\"meow\")\n",
    "\n",
    "try:\n",
    "    # no errors\n",
    "    c = Cat()\n",
    "    c.say_something()\n",
    "except TypeError as e:\n",
    "    print(e)\n",
    "\n",
    "# overriden version\n",
    "class Dog(Animal):\n",
    "\n",
    "    def say_something(self):\n",
    "        print(\"bark\")\n",
    "\n",
    "try:\n",
    "    # no errors\n",
    "    d = Dog()\n",
    "    d.say_something()\n",
    "except TypeError as e:\n",
    "    print(e)\n"
   ]
  },
  {
   "cell_type": "markdown",
   "metadata": {},
   "source": [
    "## Pssst, wanna see some magic?"
   ]
  },
  {
   "cell_type": "markdown",
   "metadata": {},
   "source": [
    "Magic methods, also known as dunder methods (double underscore methods), are special methods in Python that have double underscores before and after their names. These methods are automatically called by Python in specific situations or when certain operations are performed on objects. Magic methods allow you to define the behavior of objects in a customized way and enable them to interact seamlessly with built-in functions and operators.\n",
    "\n",
    "Here are some commonly used magic methods in Python:\n",
    "\n",
    "- `__init__`(self, ...): The constructor/initializer method that is called when an object is created. It initializes the object's attributes.\n",
    "\n",
    "- `__str__`(self): Returns a string representation of the object. It is called when str() is used on an object or when an object is printed.\n",
    "\n",
    "- `__repr__`(self): Returns a detailed string representation of the object, typically used for debugging or logging purposes.\n",
    "\n",
    "- `__len__`(self): Returns the length of the object. It is called when len() is used on an object.\n",
    "\n",
    "- `__eq__`(self, other): Defines the behavior for the equality operator ==. It is called when two objects are compared for equality.\n",
    "\n",
    "- `__lt__`(self, other), `__gt__`(self, other), `__le__`(self, other), `__ge__`(self, other): Define the behavior for comparison operators (<, >, <=, >=).\n",
    "\n",
    "- `__add__`(self, other), `__sub__`(self, other), `__mul__`(self, other), `__div__`(self, other): Define the behavior for arithmetic operators (+, -, *, /).\n",
    "\n",
    "By implementing magic methods in your classes, you can customize the behavior of objects and make them behave like built-in types. For example, you can define how objects are compared, how they are represented as strings, how they respond to arithmetic operations, or how they can be iterated over.\n",
    "\n",
    "Magic methods allow you to write more expressive and intuitive code by leveraging Python's language features and conventions. They provide a way to create objects that feel natural and integrate seamlessly with the rest of the Python ecosystem."
   ]
  },
  {
   "cell_type": "code",
   "execution_count": 19,
   "metadata": {},
   "outputs": [
    {
     "name": "stdout",
     "output_type": "stream",
     "text": [
      "I'm a FreightTrain of 3 carts, choo-choo!\n",
      "I'm a FreightTrain of 10 carts, choo-choo!\n",
      "3\n",
      "I'm a FreightTrain of 13 carts, choo-choo!\n",
      "False\n",
      "True\n",
      "100\n"
     ]
    }
   ],
   "source": [
    "# an example of using magic methods in a class\n",
    "\n",
    "class FreightTrain:\n",
    "\n",
    "    __cart_len = 10\n",
    "   \n",
    "    def __init__(self, cart_count) -> None:\n",
    "        self.cart_count = cart_count\n",
    "   \n",
    "    # string representation\n",
    "    def __str__(self) -> str:\n",
    "        # there are magic attrs as well like __class__ and __name__\n",
    "        return f\"I'm a {self.__class__.__name__} of {self.cart_count} carts, choo-choo!\"\n",
    "   \n",
    "    # conversion to int\n",
    "    def __int__(self):\n",
    "        return self.cart_count\n",
    "   \n",
    "    # sum with '+' operator\n",
    "    def __add__(self, other):\n",
    "        try:\n",
    "            return FreightTrain(self.cart_count + other.cart_count)\n",
    "        except:\n",
    "            raise TypeError(\"cannot add non-FreightTrain object\")\n",
    "   \n",
    "    # conmparison of trains\n",
    "    def __eq__(self, __o: object) -> bool:\n",
    "        if not isinstance(__o, FreightTrain):\n",
    "            return False\n",
    "       \n",
    "        return self.cart_count == __o.cart_count\n",
    "    # length of a train\n",
    "    def __len__(self):\n",
    "        return self.cart_count * self.__cart_len\n",
    "\n",
    "shorty = FreightTrain(3)\n",
    "loooong = FreightTrain(10)\n",
    "\n",
    "# string representation\n",
    "print(shorty)\n",
    "print(loooong)\n",
    "\n",
    "# conversion to int\n",
    "print(int(shorty))\n",
    "\n",
    "# sum\n",
    "print(shorty + loooong)\n",
    "# eq\n",
    "print(shorty == loooong)\n",
    "\n",
    "# sum and eq\n",
    "print(shorty + loooong == FreightTrain(13))\n",
    "\n",
    "# length\n",
    "print(len(loooong))"
   ]
  },
  {
   "cell_type": "markdown",
   "metadata": {},
   "source": [
    "## Homework"
   ]
  },
  {
   "cell_type": "markdown",
   "metadata": {},
   "source": [
    "Implement ONE of the following:"
   ]
  },
  {
   "cell_type": "markdown",
   "metadata": {},
   "source": [
    "1. Shape Calculator:\n",
    "\n",
    "    - Create a base class called Shape with methods like area() and perimeter(). Implement subclasses like Rectangle, Circle, and Triangle that inherit from the Shape class.\n",
    "    - Override the area() and perimeter() methods in each subclass to provide the specific calculations for each shape.\n",
    "    - Create a function that takes a list of Shape objects and calculates the total area and perimeter of all the shapes.\n",
    "    - Demonstrate polymorphism by creating instances of different shape classes and passing them to the function.\n",
    "\n",
    "2. Animal Sounds:\n",
    "\n",
    "    - Create a base class called Animal with a method called make_sound(). Implement subclasses like Dog, Cat, and Cow that inherit from the Animal class.\n",
    "    - Override the make_sound() method in each subclass to provide the specific sound for each animal.\n",
    "    - Create a function that takes a list of Animal objects and calls the make_sound() method on each object.\n",
    "    - Demonstrate polymorphism by creating instances of different animal classes and passing them to the function.\n",
    "\n",
    "3. Vehicle Rental System:\n",
    "\n",
    "    - Create a base class called Vehicle with methods like rent() and return_vehicle(). Implement subclasses like Car, Motorcycle, and Bicycle that inherit from the Vehicle class.\n",
    "    - Override the rent() method in each subclass to provide specific rental procedures for each vehicle type.\n",
    "    - Create a RentalSystem class that manages a list of Vehicle objects and provides methods like add_vehicle() and rent_vehicle().\n",
    "    - Demonstrate polymorphism by adding instances of different vehicle classes to the rental system and calling the rent_vehicle() method.\n",
    "\n",
    "4. Employee Payroll:\n",
    "\n",
    "    - Create a base class called Employee with a method called calculate_payroll(). Implement subclasses like HourlyEmployee, SalaryEmployee, and CommissionEmployee that inherit from the Employee class.\n",
    "    - Override the calculate_payroll() method in each subclass to provide specific payroll calculations based on the employee type.\n",
    "    - Create a function that takes a list of Employee objects and calculates the total payroll for all employees.\n",
    "    - Demonstrate polymorphism by creating instances of different employee classes and passing them to the function.\n",
    "\n",
    "5. File Converter:\n",
    "\n",
    "    - Create a base class called FileConverter with a method called convert(). Implement subclasses like TextFileConverter, ImageFileConverter, and AudioFileConverter that inherit from the FileConverter class.\n",
    "    - Override the convert() method in each subclass to provide specific file conversion logic for each file type.\n",
    "    - Create a function that takes a list of FileConverter objects and a source file, and converts the file using the appropriate converter.\n",
    "    - Demonstrate polymorphism by creating instances of different file converter classes and passing them to the function along with different file types."
   ]
  }
 ],
 "metadata": {
  "kernelspec": {
   "display_name": "Python 3",
   "language": "python",
   "name": "python3"
  },
  "language_info": {
   "codemirror_mode": {
    "name": "ipython",
    "version": 3
   },
   "file_extension": ".py",
   "mimetype": "text/x-python",
   "name": "python",
   "nbconvert_exporter": "python",
   "pygments_lexer": "ipython3",
   "version": "3.11.4"
  }
 },
 "nbformat": 4,
 "nbformat_minor": 2
}
