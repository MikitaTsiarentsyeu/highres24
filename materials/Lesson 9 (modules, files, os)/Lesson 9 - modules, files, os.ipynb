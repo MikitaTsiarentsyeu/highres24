{
 "cells": [
  {
   "cell_type": "markdown",
   "metadata": {},
   "source": [
    "# Lesson 9 - files, os"
   ]
  },
  {
   "cell_type": "markdown",
   "metadata": {},
   "source": [
    "### modules"
   ]
  },
  {
   "cell_type": "markdown",
   "metadata": {},
   "source": [
    "Modules provide a high level option of separation of concerns in Python. Similarly to functions, modules allow to store your code in some reusable container to achieve that separation. Technically, any .Py file can be treated as a module. Probably you've already seen some examples of importing some module into your file - you may notice how only some simple name (without the file extention or the path) is being used. The Python interpreter will perform a search automatically based on the provided name. Some main areas of that search would be the current working directory (from where the file is being executed), standard library and site-packages folders (near to the installation place of the interpreter). It can be configured additionally if some non-standard file placement needs to be supported (rarely). "
   ]
  },
  {
   "cell_type": "markdown",
   "metadata": {},
   "source": [
    "Notice that the current directory contains file `test_module.py`. Let's try to import it:"
   ]
  },
  {
   "cell_type": "code",
   "execution_count": null,
   "metadata": {},
   "outputs": [
    {
     "name": "stdout",
     "output_type": "stream",
     "text": [
      "global value\n",
      "5\n",
      "global value\n"
     ]
    }
   ],
   "source": [
    "import test_module # just the name, which becomes a variable\n",
    "\n",
    "print(test_module.global_variable)\n",
    "test_module.test_func(5) # trough that name we can access internal global variables"
   ]
  },
  {
   "cell_type": "markdown",
   "metadata": {},
   "source": [
    "Note how test_module falls into the global scope after the import. This would mean that we should not use any other vars with such a name or we would overwrite the module link. Sometimes it makes sense to have more control over the variable name:"
   ]
  },
  {
   "cell_type": "code",
   "execution_count": 5,
   "metadata": {},
   "outputs": [
    {
     "name": "stdout",
     "output_type": "stream",
     "text": [
      "10\n",
      "global value\n"
     ]
    }
   ],
   "source": [
    "import test_module as tm #the module link is now accessible via tm variable\n",
    "\n",
    "tm.test_func(10)"
   ]
  },
  {
   "cell_type": "markdown",
   "metadata": {},
   "source": [
    "There is a way to do more precise importing:"
   ]
  },
  {
   "cell_type": "code",
   "execution_count": 6,
   "metadata": {},
   "outputs": [
    {
     "name": "stdout",
     "output_type": "stream",
     "text": [
      "global value\n",
      "15\n",
      "global value\n"
     ]
    }
   ],
   "source": [
    "from test_module import global_variable as gv, test_func as tf\n",
    "\n",
    "print(gv)\n",
    "tf(15)"
   ]
  },
  {
   "cell_type": "markdown",
   "metadata": {},
   "source": [
    "As well as less precise:"
   ]
  },
  {
   "cell_type": "code",
   "execution_count": 8,
   "metadata": {},
   "outputs": [
    {
     "name": "stdout",
     "output_type": "stream",
     "text": [
      "global value\n",
      "20\n",
      "global value\n"
     ]
    }
   ],
   "source": [
    "from test_module import * # this adds all global names from the imported file to the current one\n",
    "\n",
    "print(global_variable)\n",
    "test_func(20)"
   ]
  },
  {
   "cell_type": "markdown",
   "metadata": {},
   "source": [
    "The latter option is the least reccomended one since it brings the highest possibility of a conflict between names of current and imported files."
   ]
  },
  {
   "cell_type": "markdown",
   "metadata": {},
   "source": [
    "### os and file systems"
   ]
  },
  {
   "cell_type": "markdown",
   "metadata": {},
   "source": [
    "Python, as a high-level programming language, offers several advantages when working with the operating system (OS) and files. Its standard library provides a wide range of modules and functions that simplify common tasks related to file and OS operations. Python's `os` module allows you to interact with the underlying operating system (even without knowing which os is being used), enabling you to perform operations such as file and directory management, process control, and environment configuration. The `os.path` module provides a convenient way to manipulate file paths, making it easy to work with files and directories across different operating systems. Python's file handling capabilities, including the built-in `open()` function and file object methods, allow you to read from and write to files efficiently, with support for various file modes and encodings."
   ]
  },
  {
   "cell_type": "markdown",
   "metadata": {},
   "source": [
    "### working with OS"
   ]
  },
  {
   "cell_type": "markdown",
   "metadata": {},
   "source": [
    "The `os` module is a part of standard library, it should be imported to get a high level access to the current OS and a set of usual operations. Since Python is cross-platform, it's important to write a code which will not depend directly on some specific OS versions. The `os` module allows decoupling of the code and the specific of some environment in which the code is running. "
   ]
  },
  {
   "cell_type": "code",
   "execution_count": 1,
   "metadata": {},
   "outputs": [
    {
     "name": "stdout",
     "output_type": "stream",
     "text": [
      "nt\n"
     ]
    }
   ],
   "source": [
    "import os\n",
    "\n",
    "print(os.name) # current os, it will be either nt for Windows or unix for everything else\n",
    "\n",
    "# the os name is being used for debug purposes only, not for the actual program logic "
   ]
  },
  {
   "cell_type": "code",
   "execution_count": null,
   "metadata": {},
   "outputs": [
    {
     "ename": "NameError",
     "evalue": "name 'os' is not defined",
     "output_type": "error",
     "traceback": [
      "\u001b[31m---------------------------------------------------------------------------\u001b[39m",
      "\u001b[31mNameError\u001b[39m                                 Traceback (most recent call last)",
      "\u001b[36mCell\u001b[39m\u001b[36m \u001b[39m\u001b[32mIn[1]\u001b[39m\u001b[32m, line 1\u001b[39m\n\u001b[32m----> \u001b[39m\u001b[32m1\u001b[39m current_dir = \u001b[43mos\u001b[49m.getcwd() \u001b[38;5;66;03m# getting the directory path, from which the current instance of interpreter is running\u001b[39;00m\n\u001b[32m      2\u001b[39m \u001b[38;5;28mprint\u001b[39m(\u001b[33m\"\u001b[39m\u001b[33mCurrent working directory:\u001b[39m\u001b[33m\"\u001b[39m, current_dir)\n",
      "\u001b[31mNameError\u001b[39m: name 'os' is not defined"
     ]
    },
    {
     "ename": "",
     "evalue": "",
     "output_type": "error",
     "traceback": [
      "\u001b[1;31mThe Kernel crashed while executing code in the current cell or a previous cell. \n",
      "\u001b[1;31mPlease review the code in the cell(s) to identify a possible cause of the failure. \n",
      "\u001b[1;31mClick <a href='https://aka.ms/vscodeJupyterKernelCrash'>here</a> for more info. \n",
      "\u001b[1;31mView Jupyter <a href='command:jupyter.viewOutput'>log</a> for further details."
     ]
    }
   ],
   "source": [
    "current_dir = os.getcwd() # getting the directory path, from which the current instance of interpreter is running\n",
    "print(\"Current working directory:\", current_dir)"
   ]
  },
  {
   "cell_type": "code",
   "execution_count": null,
   "metadata": {},
   "outputs": [
    {
     "name": "stdout",
     "output_type": "stream",
     "text": [
      "Contents of the current directory:\n",
      "Lesson 9 - files, os.ipynb\n"
     ]
    }
   ],
   "source": [
    "# List files and directories in the current directory\n",
    "contents = os.listdir()\n",
    "print(\"Contents of the current directory:\")\n",
    "for item in contents:\n",
    "    print(item)"
   ]
  },
  {
   "cell_type": "code",
   "execution_count": 6,
   "metadata": {},
   "outputs": [
    {
     "name": "stdout",
     "output_type": "stream",
     "text": [
      "/path/to/file_or_directory does not exist.\n"
     ]
    }
   ],
   "source": [
    "# checking if a file or directory exists and deleting\n",
    "path = \"/path/to/file_or_directory\"\n",
    "if os.path.exists(path):\n",
    "    print(f\"{path} exists.\")\n",
    "    os.remove(path)\n",
    "    print(\"not anymore\")\n",
    "else:\n",
    "    print(f\"{path} does not exist.\")"
   ]
  },
  {
   "cell_type": "markdown",
   "metadata": {},
   "source": [
    "### working with files"
   ]
  },
  {
   "cell_type": "markdown",
   "metadata": {},
   "source": [
    "The standard way of operating on files is by opening them with `open()`. It returns a file object allowing interactions with files on a computer's file system, specifically to read from or write to files. Everything happens on the high level, an opened file is represented by an interactive object, there is no need to deep dive into io streams or file cursors.  "
   ]
  },
  {
   "cell_type": "code",
   "execution_count": 14,
   "metadata": {},
   "outputs": [
    {
     "name": "stdout",
     "output_type": "stream",
     "text": [
      "the file does not exist\n"
     ]
    }
   ],
   "source": [
    "try:\n",
    "    file_obj = open(\"test.txt\") # opening by file path (or a name of file from cwd)\n",
    "except FileNotFoundError:\n",
    "    print(\"the file does not exist\")\n",
    "else:\n",
    "    file_obj.close() # closing file if it was open when it's not needed anymore"
   ]
  },
  {
   "cell_type": "markdown",
   "metadata": {},
   "source": [
    "Closing files after you're done using them is important for several reasons:\n",
    "\n",
    "- Resource Management:\n",
    "\n",
    "    When you open a file, the operating system allocates certain resources to handle the file operations, such as memory buffers and file descriptors.\n",
    "    If you don't close the file properly, these resources may remain allocated even after your program has finished executing.\n",
    "    Failing to close files can lead to resource leaks, where the allocated resources are not freed up for other programs or processes to use.\n",
    "    Over time, if you open many files without closing them, it can lead to resource exhaustion, potentially causing your program or even the operating system to become unresponsive.\n",
    "\n",
    "- Data Integrity:\n",
    "\n",
    "    When you write data to a file, it is often buffered in memory before being written to the physical storage device.\n",
    "    If you don't close the file properly, there's a risk that some of the buffered data may not be written to the file, leading to data loss or inconsistencies.\n",
    "    Closing the file ensures that all the buffered data is flushed and written to the file, guaranteeing data integrity.\n",
    "\n",
    "- File Locking and Concurrency:\n",
    "\n",
    "    In some cases, when you open a file, the operating system may lock the file to prevent other processes or programs from accessing it simultaneously.\n",
    "    If you don't close the file, the lock may remain in place, preventing other parts of your program or other programs from accessing the file.\n",
    "    This can lead to concurrency issues, where multiple processes or threads are unable to access the file simultaneously, potentially causing delays or deadlocks."
   ]
  },
  {
   "cell_type": "markdown",
   "metadata": {},
   "source": [
    "The simpliest way to manage a file is to use `with` statement like this:"
   ]
  },
  {
   "cell_type": "code",
   "execution_count": 18,
   "metadata": {},
   "outputs": [],
   "source": [
    "with open(\"test.txt\", 'w') as f: # file object is assigned to variable f\n",
    "    pass # some logic goes here \n",
    "\n",
    "# closing happens automatically as soon as the code block ends, no need to call close()"
   ]
  },
  {
   "cell_type": "markdown",
   "metadata": {},
   "source": [
    "In the example above there is an additional parameter with value `'w'` in the `open()` call. This is so-called mode. The mode determines the operations you can perform on the opened file.\n",
    "\n",
    "Here are the commonly used modes:\n",
    "\n",
    "- `'r'` (Read Mode): This is the default mode. It opens the file for reading. If the file does not exist, it raises a FileNotFoundError.\n",
    "- `'w'` (Write Mode): Opens the file for writing. If the file already exists, its contents are truncated (deleted). If the file does not exist, a new file is created.\n",
    "- `'a'` (Append Mode): Opens the file for appending. If the file exists, the new data is written at the end of the file, preserving the existing contents. If the file does not exist, a new file is created.\n",
    "- `'x'` (Exclusive Creation Mode): Opens the file for exclusive creation. If the file already exists, a FileExistsError is raised.\n",
    "- `'b'` (Binary sub-Mode): Used in conjunction with other modes (like `'wb'`) to open the file in binary mode, allowing you to read or write binary data.\n",
    "- `'t'` (Text sub-Mode): Used in conjunction with other modes (like `'rt'`) to open the file in text mode, allowing you to read or write string data. This is the default mode.\n",
    "- `'+'` (Plus sub-Mode): Used in conjunction with other modes (like `'a+'` or `'rb+'`), add missing operations while presuming the main mode logic, e.g. `'w+'` would allow reading from the file while still truncating it on opening.\n",
    "\n",
    "It's hard to choose a mode sometimes. It's better to not enable functionality which is not needed at the momemnt and use either `'r'` or `'w'`. Though, the `'a+'` is the most safest mode which still provides the most functionaity.  "
   ]
  },
  {
   "cell_type": "code",
   "execution_count": 50,
   "metadata": {},
   "outputs": [
    {
     "name": "stdout",
     "output_type": "stream",
     "text": [
      "'line 1\\nline 2\\nline 3'\n"
     ]
    }
   ],
   "source": [
    "with open(\"example_file.txt\", \"r\") as file:\n",
    "    content = file.read()  # Read the whiole content\n",
    "    print(repr(content))"
   ]
  },
  {
   "cell_type": "code",
   "execution_count": 49,
   "metadata": {},
   "outputs": [
    {
     "name": "stdout",
     "output_type": "stream",
     "text": [
      "'l'\n"
     ]
    }
   ],
   "source": [
    "with open(\"example_file.txt\", \"r\") as file:\n",
    "    content = file.read(1)  # Read a single char in an ideal world\n",
    "    print(repr(content))\n",
    "\n",
    "# the read operation depend on file encoding, it may not work properly for any passed value with any ecoding\n",
    "# the encoding can be specified as the open() parameter"
   ]
  },
  {
   "cell_type": "code",
   "execution_count": 48,
   "metadata": {},
   "outputs": [
    {
     "name": "stdout",
     "output_type": "stream",
     "text": [
      "'line 1\\nline 2\\nline 3'\n"
     ]
    }
   ],
   "source": [
    "with open(\"example_file.txt\", \"r\") as file:\n",
    "    content = file.read(10000000)  # it's possible to pass anu huge number, the file will be read till the end\n",
    "    print(repr(content))"
   ]
  },
  {
   "cell_type": "code",
   "execution_count": 47,
   "metadata": {},
   "outputs": [
    {
     "name": "stdout",
     "output_type": "stream",
     "text": [
      "'line 1\\n'\n"
     ]
    }
   ],
   "source": [
    "with open(\"example_file.txt\", \"r\") as file:\n",
    "    content = file.readline()  # Read a single line\n",
    "    print(repr(content))\n",
    "\n",
    "# readline() reads until newline sign/s like \\n or \\r\\n"
   ]
  },
  {
   "cell_type": "code",
   "execution_count": 46,
   "metadata": {},
   "outputs": [
    {
     "name": "stdout",
     "output_type": "stream",
     "text": [
      "'line 1\\n'\n",
      "'line 2\\n'\n",
      "'line 3'\n"
     ]
    }
   ],
   "source": [
    "with open(\"example_file.txt\", \"r\") as file:\n",
    "    for line in file:\n",
    "        print(repr(line)) # Read the file line by line"
   ]
  },
  {
   "cell_type": "code",
   "execution_count": null,
   "metadata": {},
   "outputs": [
    {
     "ename": "UnsupportedOperation",
     "evalue": "not readable",
     "output_type": "error",
     "traceback": [
      "\u001b[1;31m---------------------------------------------------------------------------\u001b[0m",
      "\u001b[1;31mUnsupportedOperation\u001b[0m                      Traceback (most recent call last)",
      "Cell \u001b[1;32mIn[35], line 2\u001b[0m\n\u001b[0;32m      1\u001b[0m \u001b[38;5;28;01mwith\u001b[39;00m \u001b[38;5;28mopen\u001b[39m(\u001b[38;5;124m\"\u001b[39m\u001b[38;5;124msecond_example_file.txt\u001b[39m\u001b[38;5;124m\"\u001b[39m, \u001b[38;5;124m\"\u001b[39m\u001b[38;5;124mw\u001b[39m\u001b[38;5;124m\"\u001b[39m) \u001b[38;5;28;01mas\u001b[39;00m file: \u001b[38;5;66;03m# be carefull, the file is being recreated every time with 'w'\u001b[39;00m\n\u001b[1;32m----> 2\u001b[0m     \u001b[38;5;28mprint\u001b[39m(\u001b[43mfile\u001b[49m\u001b[38;5;241;43m.\u001b[39;49m\u001b[43mread\u001b[49m\u001b[43m(\u001b[49m\u001b[43m)\u001b[49m) \u001b[38;5;66;03m# nope\u001b[39;00m\n",
      "\u001b[1;31mUnsupportedOperation\u001b[0m: not readable"
     ]
    }
   ],
   "source": [
    "with open(\"second_example_file.txt\", \"w\") as file: # be carefull, the file is being recreated every time with 'w'\n",
    "    print(file.read()) # nope"
   ]
  },
  {
   "cell_type": "code",
   "execution_count": 45,
   "metadata": {},
   "outputs": [
    {
     "name": "stdout",
     "output_type": "stream",
     "text": [
      "'test test test'\n"
     ]
    }
   ],
   "source": [
    "with open(\"second_example_file.txt\", \"w\") as file:\n",
    "    file.write(\"test test test\") # writing\n",
    "\n",
    "with open(\"second_example_file.txt\", \"r\") as file:\n",
    "    print(repr(file.read())) # reading"
   ]
  },
  {
   "cell_type": "code",
   "execution_count": 44,
   "metadata": {},
   "outputs": [
    {
     "name": "stdout",
     "output_type": "stream",
     "text": [
      "''\n"
     ]
    }
   ],
   "source": [
    "with open(\"second_example_file.txt\", \"w+\") as file: # + should allow reading\n",
    "    file.write(\"test test test\")\n",
    "    print(repr(file.read())) # yes, but no\n",
    "\n",
    "# the read is here, but it reads nothing (empty string)"
   ]
  },
  {
   "cell_type": "code",
   "execution_count": 43,
   "metadata": {},
   "outputs": [
    {
     "name": "stdout",
     "output_type": "stream",
     "text": [
      "test test test\n"
     ]
    }
   ],
   "source": [
    "with open(\"second_example_file.txt\", \"w+\") as file: # + should allow reading\n",
    "    file.write(\"test test test\")\n",
    "    file.seek(0) # we need to move the file pointer (or cursor) to the beggining\n",
    "    print(file.read()) # now it reads from the beggining\n",
    "\n",
    "# working with pointers can be complicated, but seek(0) will always get the pointer to the start of a file"
   ]
  },
  {
   "cell_type": "markdown",
   "metadata": {},
   "source": [
    "It's possible to copy a text file either char by char or byte by byte. Allthoug, a bigger chunk size is being used in most cases. "
   ]
  },
  {
   "cell_type": "code",
   "execution_count": 55,
   "metadata": {},
   "outputs": [],
   "source": [
    "filename = \"example_file.txt\"\n",
    "chunk_size = 1\n",
    "\n",
    "with open(filename, \"rb\") as donor:\n",
    "    with open(filename.replace(\".txt\", \"_copy.txt\"), \"wb\") as recepient:\n",
    "        next_chunk = True\n",
    "        while next_chunk:\n",
    "            next_chunk = donor.read(chunk_size)\n",
    "            recepient.write(next_chunk)\n",
    "\n"
   ]
  },
  {
   "cell_type": "markdown",
   "metadata": {},
   "source": [
    "## Homework"
   ]
  },
  {
   "cell_type": "markdown",
   "metadata": {},
   "source": [
    "Task 1 - text justification\n",
    "\n",
    "1. Prepare a file with somewhat long text content (copy something from Wikipedia for example). Put it somewhere to be read by your program.\n",
    "2. When the program starts, allow the user to enter a parameter \"maximum number of characters per line\", which must be greater than 20.\n",
    "3. Format the text taking into account the maximum number of characters per line, but if a word does not fit entirely in a line, it should be moved to the next one, and the spacing between words should be evenly increased for the current line(similarly to the \"Justify\" function in text editors). There is a module called ‘textwrap’ which can do it, you may take a look at it but do not use for this task.\n",
    "4. Write the resulting text to a new file and notify the user about it."
   ]
  },
  {
   "cell_type": "markdown",
   "metadata": {},
   "source": [
    "The result file content should look like this (justified for 40 chars in line): \n",
    "\n",
    "```\n",
    "Python was created in the early 1990s by\n",
    "Guido    van    Rossum    at   Stichting\n",
    "Mathematisch  Centrum in the Netherlands\n",
    "as a successor of a language called ABC.\n",
    "Guido  remains  Python principal author,\n",
    "although  it includes many contributions\n",
    "from others.\n",
    "In  1995,  Guido  continued  his work on\n",
    "Python  at  the Corporation for National\n",
    "Research Initiatives in Reston, Virginia\n",
    "where  he  released  several versions of\n",
    "the software.\n",
    "In  May  2000, Guido and the Python core\n",
    "development  team moved to BeOpen.com to\n",
    "form  the  BeOpen  PythonLabs  team.  In\n",
    "October of the same year, the PythonLabs\n",
    "team  moved  to  Digital  Creations.  In\n",
    "2001, the Python Software Foundation was\n",
    "formed,    a   non-profit   organization\n",
    "created      specifically     to     own\n",
    "Python-related   Intellectual  Property.\n",
    "Zope  Corporation is a sponsoring member\n",
    "of the PSF.\n",
    "All  Python  releases  are  Open Source.\n",
    "Historically,  most, but not all, Python\n",
    "releases  have also been GPL-compatible;\n",
    "the  table  below summarizes the various\n",
    "releases.\n",
    "```"
   ]
  },
  {
   "cell_type": "markdown",
   "metadata": {},
   "source": []
  }
 ],
 "metadata": {
  "kernelspec": {
   "display_name": "Python 3",
   "language": "python",
   "name": "python3"
  },
  "language_info": {
   "codemirror_mode": {
    "name": "ipython",
    "version": 3
   },
   "file_extension": ".py",
   "mimetype": "text/x-python",
   "name": "python",
   "nbconvert_exporter": "python",
   "pygments_lexer": "ipython3",
   "version": "3.13.2"
  }
 },
 "nbformat": 4,
 "nbformat_minor": 2
}
