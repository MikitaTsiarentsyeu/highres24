{
 "cells": [
  {
   "cell_type": "markdown",
   "metadata": {},
   "source": [
    "# Lesson 4 - console UI validation, objects in memory, search, sorting"
   ]
  },
  {
   "cell_type": "markdown",
   "metadata": {},
   "source": [
    "## Practice - Console UI validation"
   ]
  },
  {
   "cell_type": "code",
   "execution_count": 2,
   "metadata": {},
   "outputs": [
    {
     "name": "stdout",
     "output_type": "stream",
     "text": [
      "please make sure that the number is not higher than 100\n",
      "your number is 10\n"
     ]
    }
   ],
   "source": [
    "while True:\n",
    "    value = input(\"Enter a positive number not higher than 100\")\n",
    "    if not value.isdigit():\n",
    "        print(\"please use only digits to enter the number\")\n",
    "        continue\n",
    "    value = int(value)\n",
    "    if value > 100:\n",
    "        print(\"please make sure that the number is not higher than 100\")\n",
    "        continue\n",
    "\n",
    "    break\n",
    "\n",
    "print(f\"your number is {value}\")"
   ]
  },
  {
   "cell_type": "markdown",
   "metadata": {},
   "source": [
    "## Objects in memory"
   ]
  },
  {
   "cell_type": "markdown",
   "metadata": {},
   "source": [
    "You should remember that a variable acts only as a reference to an object in memory, it does not have any valuable data attached to it except for the object's address. A single object may be referenced by any number of variables, each object holds counts of referencies. A situation when we have several variables which lead to a single object usually called \"shared links\". There is a difference in behavior of mutable and immutable objects in such situations."
   ]
  },
  {
   "cell_type": "code",
   "execution_count": 5,
   "metadata": {},
   "outputs": [
    {
     "name": "stdout",
     "output_type": "stream",
     "text": [
      "2625546148336 2625546148336\n"
     ]
    }
   ],
   "source": [
    "a = 100500 # immutable int object\n",
    "b = a\n",
    "print(id(a), id(b)) # ids are the same as we have shared links to the same int object"
   ]
  },
  {
   "cell_type": "code",
   "execution_count": 8,
   "metadata": {},
   "outputs": [
    {
     "name": "stdout",
     "output_type": "stream",
     "text": [
      "2625546150864 2625546148336\n"
     ]
    }
   ],
   "source": [
    "a += 1\n",
    "print(id(a), id(b)) # ids are the same no more, 'a' references a new object created as a result of modification, 'b' references the initial object still"
   ]
  },
  {
   "cell_type": "code",
   "execution_count": 10,
   "metadata": {},
   "outputs": [
    {
     "name": "stdout",
     "output_type": "stream",
     "text": [
      "2625546521152 2625546521152\n"
     ]
    }
   ],
   "source": [
    "a = [100500] # mutable list object\n",
    "b = a\n",
    "print(id(a), id(b)) # shared link on the list object"
   ]
  },
  {
   "cell_type": "code",
   "execution_count": 12,
   "metadata": {},
   "outputs": [
    {
     "name": "stdout",
     "output_type": "stream",
     "text": [
      "2625546521152 2625546521152\n"
     ]
    }
   ],
   "source": [
    "a[0] += 1 # modification \"in-place\", both links will be preserved\n",
    "print(id(a), id(b)) # ids remain the same"
   ]
  },
  {
   "cell_type": "markdown",
   "metadata": {},
   "source": [
    "Shared links is a common situation in Python, for example it happens when we pass an argument to a function. You must understand how objects in memory behave in such situations. If you interested in understanding how memory works in Python you can check this video (but the topic is very complicated) - https://www.youtube.com/watch?v=1CHLo4bY7P4"
   ]
  },
  {
   "cell_type": "markdown",
   "metadata": {},
   "source": [
    "## Searching in data structures"
   ]
  },
  {
   "cell_type": "markdown",
   "metadata": {},
   "source": [
    "Each collection data type (`list`, `str`, etc.) uses a different way to store its elements, so searching process may differ. The best option is to search by a key in a dict. The worst option is searching for something in a `list` checking elements one by one. There are two cases of searching as well, there is a simple check of membership and also there is searching for a position or a count of a specific value. "
   ]
  },
  {
   "cell_type": "markdown",
   "metadata": {},
   "source": [
    "### Practice - searching for a value in a `list`"
   ]
  },
  {
   "cell_type": "code",
   "execution_count": 14,
   "metadata": {},
   "outputs": [
    {
     "name": "stdout",
     "output_type": "stream",
     "text": [
      "3\n"
     ]
    }
   ],
   "source": [
    "l = [2,56,3,2,4,56,8,9]\n",
    "\n",
    "target = 2\n",
    "\n",
    "position = -1\n",
    "\n",
    "for i, elem in enumerate(l): # finds the latest occurrence\n",
    "    if elem == target:\n",
    "        position = i\n",
    "\n",
    "print(position)"
   ]
  },
  {
   "cell_type": "markdown",
   "metadata": {},
   "source": [
    "### Practice - searching for a minimum elem in a `list`"
   ]
  },
  {
   "cell_type": "code",
   "execution_count": 21,
   "metadata": {},
   "outputs": [
    {
     "name": "stdout",
     "output_type": "stream",
     "text": [
      "2\n"
     ]
    }
   ],
   "source": [
    "l = [2,56,3,2,4,56,8,9]\n",
    "\n",
    "min_elem = float('inf') # the biggest value to start with\n",
    "\n",
    "for i in l:\n",
    "    if i < min_elem:\n",
    "        min_elem = i\n",
    "\n",
    "print(min_elem)"
   ]
  },
  {
   "cell_type": "markdown",
   "metadata": {},
   "source": [
    "### Practice - counting elements in a `list`"
   ]
  },
  {
   "cell_type": "code",
   "execution_count": 22,
   "metadata": {},
   "outputs": [],
   "source": [
    "l = [2,56,3,2,4,56,8,9]\n",
    "\n",
    "d = {}\n",
    "\n",
    "for i in l:\n",
    "    if i in d:\n",
    "        d[i] += 1\n",
    "    else:\n",
    "        d[i] = 1"
   ]
  },
  {
   "cell_type": "markdown",
   "metadata": {},
   "source": [
    "## Sorting lists"
   ]
  },
  {
   "cell_type": "markdown",
   "metadata": {},
   "source": [
    "Python has several standard ways to sort a `list`:"
   ]
  },
  {
   "cell_type": "code",
   "execution_count": 24,
   "metadata": {},
   "outputs": [
    {
     "name": "stdout",
     "output_type": "stream",
     "text": [
      "[2, 2, 3, 4, 8, 9, 56, 56]\n",
      "[2, 2, 3, 4, 8, 9, 56, 56]\n"
     ]
    }
   ],
   "source": [
    "l = [2,56,3,2,4,56,8,9]\n",
    "\n",
    "print(sorted(l)) # creates a copy of the list and sorts the copy, the initial list is untocuhed\n",
    "\n",
    "l.sort() # sorts the list in-place\n",
    "print(l)"
   ]
  },
  {
   "cell_type": "markdown",
   "metadata": {},
   "source": [
    "Sorting is a huge area of science on its own, all sorting algorithms have their pros and cons. We will start with the most simplest sorts - bubble sort and selection sort. Both work not so well as the standard Python one, but it's a good start in understanding of such algorithms."
   ]
  },
  {
   "cell_type": "code",
   "execution_count": 26,
   "metadata": {},
   "outputs": [
    {
     "name": "stdout",
     "output_type": "stream",
     "text": [
      "[2, 2, 3, 4, 8, 9, 56, 56]\n"
     ]
    }
   ],
   "source": [
    "l = [2,56,3,2,4,56,8,9]\n",
    "\n",
    "# the most not-optimal version of the bubble sort\n",
    "# we check pairs of elements and swicth in case of a wrong order\n",
    "\n",
    "for i in range(len(l)):\n",
    "    for j in range(len(l)):\n",
    "        if l[i] < l[j]:\n",
    "            l[i], l[j] = l[j], l[i]\n",
    "\n",
    "print(l)"
   ]
  },
  {
   "cell_type": "code",
   "execution_count": 27,
   "metadata": {},
   "outputs": [
    {
     "name": "stdout",
     "output_type": "stream",
     "text": [
      "[2, 2, 3, 4, 8, 9, 56, 56]\n"
     ]
    }
   ],
   "source": [
    "l = [2,56,3,2,4,56,8,9]\n",
    "\n",
    "# selection sort, the idea is to find the next minimal element from unsorted part of a list and put it onto right position\n",
    "# once again, not the most optimal version of it\n",
    "\n",
    "for i in range(len(l)-1):\n",
    "    min_index = i\n",
    "    for j in range(i + 1, len(l)):\n",
    "        if l[j] < l[min_index]:\n",
    "            min_index = j\n",
    "\n",
    "    l[i], l[min_index] = l[min_index], l[i]\n",
    "\n",
    "print(l)"
   ]
  },
  {
   "cell_type": "markdown",
   "metadata": {},
   "source": [
    "## Homework"
   ]
  },
  {
   "cell_type": "markdown",
   "metadata": {},
   "source": [
    "### Task 1. Given a string with some text (entered by a user, for example) count occurrences of each word. Sort the result from less common words to most common."
   ]
  },
  {
   "cell_type": "markdown",
   "metadata": {},
   "source": [
    "### Task 2. Implement our beloved bubble sort and try to optimise a number of actions in it to speed it up. (or take the selection sort instead, your choice)"
   ]
  }
 ],
 "metadata": {
  "kernelspec": {
   "display_name": "Python 3",
   "language": "python",
   "name": "python3"
  },
  "language_info": {
   "codemirror_mode": {
    "name": "ipython",
    "version": 3
   },
   "file_extension": ".py",
   "mimetype": "text/x-python",
   "name": "python",
   "nbconvert_exporter": "python",
   "pygments_lexer": "ipython3",
   "version": "3.11.4"
  }
 },
 "nbformat": 4,
 "nbformat_minor": 2
}
