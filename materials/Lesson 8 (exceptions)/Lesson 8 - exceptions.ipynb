{
 "cells": [
  {
   "cell_type": "markdown",
   "metadata": {},
   "source": [
    "# Lesson 8 - exceptions"
   ]
  },
  {
   "cell_type": "markdown",
   "metadata": {},
   "source": [
    "## Shit happens"
   ]
  },
  {
   "cell_type": "markdown",
   "metadata": {},
   "source": [
    "For example like this:"
   ]
  },
  {
   "cell_type": "code",
   "execution_count": 5,
   "metadata": {},
   "outputs": [
    {
     "ename": "TypeError",
     "evalue": "unsupported operand type(s) for +: 'int' and 'str'",
     "output_type": "error",
     "traceback": [
      "\u001b[1;31m---------------------------------------------------------------------------\u001b[0m",
      "\u001b[1;31mTypeError\u001b[0m                                 Traceback (most recent call last)",
      "Cell \u001b[1;32mIn[5], line 1\u001b[0m\n\u001b[1;32m----> 1\u001b[0m x \u001b[38;5;241m=\u001b[39m \u001b[38;5;241;43m5\u001b[39;49m\u001b[43m \u001b[49m\u001b[38;5;241;43m+\u001b[39;49m\u001b[43m \u001b[49m\u001b[38;5;124;43m'\u001b[39;49m\u001b[38;5;124;43m7\u001b[39;49m\u001b[38;5;124;43m'\u001b[39;49m\n\u001b[0;32m      3\u001b[0m \u001b[38;5;28mprint\u001b[39m(x)\n",
      "\u001b[1;31mTypeError\u001b[0m: unsupported operand type(s) for +: 'int' and 'str'"
     ]
    }
   ],
   "source": [
    "x = 5 + '7'\n",
    "\n",
    "print(x)"
   ]
  },
  {
   "cell_type": "markdown",
   "metadata": {},
   "source": [
    "This code cannot run properly, it stops before reaching the last instruction `print(x)`. Interpreter would try to execute `add` operation on two objects of type `int` and `str` on the first line, which it does not know how to do. Such a situation is called an `exception` or an `error`. Both terms are used in Python, but the `exception` is more generic.\n",
    "\n",
    "When such a situation occures the interpreter would pause the code execution and create a new object of some specific type with name ended with 'Error' (`TypeError` in case of the example above). This object contains every bit of important information on what exactly happened. Then a process called 'bubbling' (or propagation) starts, it means that the interpreter will go around the call stack from frame to frame trying to find the next \"error chekpoint\". As soon as a checkpoint found it will check the type of error against type specified in the chekpoint and if it's a match then the code of the checkpoint will be executed as well as the rest of the code placed AFTER the checkpoint. Note that stack frames are being poped from the call stack, so there's no going back to the origin of an exception. If a checkpoint is not applicable to the current error (types missmatch) then the error will continue bubble up the call stack. Eventually, all frames may be discarded and then the error will arrive at the interpreter's final checkpoint which will result in the familliar behavior of stupping the programm with error."
   ]
  },
  {
   "cell_type": "markdown",
   "metadata": {},
   "source": [
    "The errors checkpoint may be established like this:"
   ]
  },
  {
   "cell_type": "code",
   "execution_count": 6,
   "metadata": {},
   "outputs": [
    {
     "name": "stdout",
     "output_type": "stream",
     "text": [
      "a TypeError was caught\n"
     ]
    }
   ],
   "source": [
    "try:\n",
    "    x = 5 + '7'\n",
    "\n",
    "    print(x)\n",
    "except TypeError:\n",
    "    print(\"a TypeError was caught\")"
   ]
  },
  {
   "cell_type": "markdown",
   "metadata": {},
   "source": [
    "This code will not result in an explicit error, but notice how the `print(x)` instruction is being skipped anyway. The `try` operator indicate a block of code execution of which may result in an error, it cannot be used without at least one operator `except` after the code block. `try` and `except` establish the error checkpoint to stop bubbling and execute some logic to recover from a bad situation or to stop the program gracefully (if possible). "
   ]
  },
  {
   "cell_type": "markdown",
   "metadata": {},
   "source": [
    "## Why use error handling at all?"
   ]
  },
  {
   "cell_type": "markdown",
   "metadata": {},
   "source": [
    "In general, it's very much feasible to make so much conditions check with `if`'s that almost no error would happen in your code. Still, error handling is a good practice  in programming that allows you to anticipate, detect, and handle errors/exceptions that may occur during the execution of your code. By implementing proper error handling mechanisms, you can gracefully handle unexpected situations, prevent program crashes, and provide meaningful feedback to users or log information for debugging purposes. Error handling helps improve the reliability, stability, and user experience of your software by ensuring that errors are caught and dealt with in a controlled manner, rather than abruptly terminating the program or leaving the system in an inconsistent state. Additionally, error handling may be a great tool for moving across a program in a non-linear way, but this techinque would require a decent level of expirience to pull off."
   ]
  },
  {
   "cell_type": "markdown",
   "metadata": {},
   "source": [
    "## Common errors types"
   ]
  },
  {
   "cell_type": "markdown",
   "metadata": {},
   "source": [
    "In Python, there are several common types of errors that developers often encounter. Here are some of the most frequent error types:\n",
    "\n",
    "1. `SyntaxError`:\n",
    "\n",
    "    - Occurs when there is a violation of Python's syntax rules.\n",
    "    - Examples include missing colons, parentheses, or quotes, incorrect indentation, or using invalid syntax.\n",
    "\n",
    "2. `IndentationError`:\n",
    "\n",
    "    - Occurs when there are inconsistent or incorrect indentations in the code.\n",
    "    - Python uses indentation to define code blocks, so improper indentation can lead to this error.\n",
    "\n",
    "3. `NameError`:\n",
    "\n",
    "    - Occurs when a variable or function is used before it is defined or when a name is not found in the current scope.\n",
    "    - This error often happens due to misspellings or using a variable before assigning it a value.\n",
    "\n",
    "4. `TypeError`:\n",
    "\n",
    "    - Occurs when an operation or function is applied to an object of an inappropriate type.\n",
    "    - Examples include trying to add a string to an integer, calling a function with the wrong number of arguments, or accessing an attribute of an object that doesn't support it.\n",
    "\n",
    "5. `ValueError`:\n",
    "\n",
    "    - Occurs when a function receives an argument of the correct type but an inappropriate value.\n",
    "    - This error is often raised when trying to convert a string to a numeric type, but the string does not represent a valid number.\n",
    "\n",
    "6. `IndexError`:\n",
    "\n",
    "    - Occurs when trying to access an index that is outside the bounds of a sequence (e.g., a list or a string).\n",
    "    - This error happens when the index of a collection is out of range.\n",
    "\n",
    "7. `KeyError`:\n",
    "\n",
    "    - Occurs when trying to access a dictionary key that does not exist.\n",
    "    - This error is raised when using an invalid or missing key to retrieve a value from a dictionary.\n",
    "\n",
    "8. `AttributeError`:\n",
    "\n",
    "    - Occurs when trying to access an attribute or method that does not exist for an object.\n",
    "    - This error happens when using a non-existent attribute or calling a method that is not defined for the given object.\n",
    "\n",
    "9. `ImportError`:\n",
    "\n",
    "    - Occurs when an import statement fails to find the specified module or when there is an error in the imported module.\n",
    "    - This error can happen due to misspelled module names, missing dependencies, or circular imports.\n",
    "\n",
    "10. `FileNotFoundError`:\n",
    "\n",
    "    - Occurs when trying to open a file that does not exist or when the specified file path is incorrect.\n",
    "    - This error is raised when attempting to read from or write to a non-existent file."
   ]
  },
  {
   "cell_type": "markdown",
   "metadata": {},
   "source": [
    "## Basic handling"
   ]
  },
  {
   "cell_type": "code",
   "execution_count": 1,
   "metadata": {},
   "outputs": [
    {
     "name": "stdout",
     "output_type": "stream",
     "text": [
      "something went wrong\n",
      "the show must go on\n"
     ]
    }
   ],
   "source": [
    "# trying to catch 'something', an empty except will react on any error\n",
    "\n",
    "try:\n",
    "    print(not_defined_var)\n",
    "except:\n",
    "    print(\"something went wrong\") # the problem with such an approach is that we cannot be sure what error happened exactly\n",
    "\n",
    "print(\"the show must go on\")"
   ]
  },
  {
   "cell_type": "code",
   "execution_count": 2,
   "metadata": {},
   "outputs": [
    {
     "name": "stdout",
     "output_type": "stream",
     "text": [
      "the variable is not defined\n",
      "the show must go on\n"
     ]
    }
   ],
   "source": [
    "# trying to catch a specific error by its type\n",
    "\n",
    "try:\n",
    "    print(not_defined_var)\n",
    "except NameError:\n",
    "    print(\"the variable is not defined\") # this part will work only in case of NameError\n",
    "\n",
    "print(\"the show must go on\")"
   ]
  },
  {
   "cell_type": "code",
   "execution_count": 3,
   "metadata": {},
   "outputs": [
    {
     "name": "stdout",
     "output_type": "stream",
     "text": [
      "the variable is not defined\n",
      "the show must go on\n"
     ]
    }
   ],
   "source": [
    "# it's possible to have several except cases targeted on different types\n",
    "# on one error may happen, hence only once except will be triggered\n",
    "\n",
    "try:\n",
    "    print(not_defined_var[10])\n",
    "except NameError:\n",
    "    print(\"the variable is not defined\") # this one will work\n",
    "except IndexError:\n",
    "    print(\"the index was wrong\") # this one will be skipped\n",
    "except:\n",
    "    print(\"something went wrong\") # an empty except can be added just in case if the code is complex\n",
    "\n",
    "print(\"the show must go on\")"
   ]
  },
  {
   "cell_type": "code",
   "execution_count": 4,
   "metadata": {},
   "outputs": [
    {
     "name": "stdout",
     "output_type": "stream",
     "text": [
      "t\n",
      "it's fine\n",
      "the show must go on\n"
     ]
    }
   ],
   "source": [
    "defined_var = \"test test test test\"\n",
    "\n",
    "try:\n",
    "    print(defined_var[10])\n",
    "except NameError:\n",
    "    print(\"the variable is not defined\") # this one will work\n",
    "except IndexError:\n",
    "    print(\"the index was wrong\") # this one will be skipped\n",
    "except:\n",
    "    print(\"something went wrong\") # an empty except can be added just in case if the code is complex\n",
    "else:\n",
    "    print(\"it's fine\") # additional else clause will be triggered in case no error happened\n",
    "\n",
    "print(\"the show must go on\")"
   ]
  },
  {
   "cell_type": "markdown",
   "metadata": {},
   "source": [
    "## Advanced handling"
   ]
  },
  {
   "cell_type": "markdown",
   "metadata": {},
   "source": [
    "Sometimes it's useful to assign an error to some variable and work with ir further (pass it to a function for example or extract some additional data)"
   ]
  },
  {
   "cell_type": "code",
   "execution_count": 8,
   "metadata": {},
   "outputs": [
    {
     "name": "stdout",
     "output_type": "stream",
     "text": [
      "name 'not_defined_var' is not defined\n",
      "the show must go on\n"
     ]
    }
   ],
   "source": [
    "try:\n",
    "    print(not_defined_var)\n",
    "except NameError as e: # assigning an error to a variable \n",
    "    print(e) # get the standard string representation of an error\n",
    "\n",
    "print(\"the show must go on\")"
   ]
  },
  {
   "cell_type": "markdown",
   "metadata": {},
   "source": [
    "---"
   ]
  },
  {
   "cell_type": "markdown",
   "metadata": {},
   "source": [
    "Additional operator `finally` will execute ALWAYS. It's a good tool for freeing up some resources or just generic clean up according to some program logic."
   ]
  },
  {
   "cell_type": "code",
   "execution_count": 11,
   "metadata": {},
   "outputs": [
    {
     "name": "stdout",
     "output_type": "stream",
     "text": [
      "wrong index\n",
      "[]\n"
     ]
    }
   ],
   "source": [
    "l = [1,2,3,4,5]\n",
    "\n",
    "try:\n",
    "    print(l[10])\n",
    "except IndexError:\n",
    "    print(\"wrong index\")\n",
    "finally:\n",
    "    l.clear() # this will happen despite any error or lack of it\n",
    "\n",
    "print(l)"
   ]
  },
  {
   "cell_type": "markdown",
   "metadata": {},
   "source": [
    "It's also possible to use `try`/`finally` combination without any `except` clauses."
   ]
  },
  {
   "cell_type": "markdown",
   "metadata": {},
   "source": [
    "---"
   ]
  },
  {
   "cell_type": "markdown",
   "metadata": {},
   "source": [
    "Sometimes even more shit can happen..."
   ]
  },
  {
   "cell_type": "code",
   "execution_count": 12,
   "metadata": {},
   "outputs": [
    {
     "name": "stdout",
     "output_type": "stream",
     "text": [
      "a TypeError was caught\n"
     ]
    },
    {
     "ename": "NameError",
     "evalue": "name 'not_defined_var' is not defined",
     "output_type": "error",
     "traceback": [
      "\u001b[1;31m---------------------------------------------------------------------------\u001b[0m",
      "\u001b[1;31mTypeError\u001b[0m                                 Traceback (most recent call last)",
      "Cell \u001b[1;32mIn[12], line 2\u001b[0m\n\u001b[0;32m      1\u001b[0m \u001b[38;5;28;01mtry\u001b[39;00m:\n\u001b[1;32m----> 2\u001b[0m     x \u001b[38;5;241m=\u001b[39m \u001b[38;5;241;43m5\u001b[39;49m\u001b[43m \u001b[49m\u001b[38;5;241;43m+\u001b[39;49m\u001b[43m \u001b[49m\u001b[38;5;124;43m'\u001b[39;49m\u001b[38;5;124;43m7\u001b[39;49m\u001b[38;5;124;43m'\u001b[39;49m\n\u001b[0;32m      4\u001b[0m     \u001b[38;5;28mprint\u001b[39m(x)\n",
      "\u001b[1;31mTypeError\u001b[0m: unsupported operand type(s) for +: 'int' and 'str'",
      "\nDuring handling of the above exception, another exception occurred:\n",
      "\u001b[1;31mNameError\u001b[0m                                 Traceback (most recent call last)",
      "Cell \u001b[1;32mIn[12], line 8\u001b[0m\n\u001b[0;32m      5\u001b[0m \u001b[38;5;28;01mexcept\u001b[39;00m \u001b[38;5;167;01mTypeError\u001b[39;00m:\n\u001b[0;32m      6\u001b[0m     \u001b[38;5;28mprint\u001b[39m(\u001b[38;5;124m\"\u001b[39m\u001b[38;5;124ma TypeError was caught\u001b[39m\u001b[38;5;124m\"\u001b[39m)\n\u001b[1;32m----> 8\u001b[0m     \u001b[38;5;28mprint\u001b[39m(\u001b[43mnot_defined_var\u001b[49m)\n",
      "\u001b[1;31mNameError\u001b[0m: name 'not_defined_var' is not defined"
     ]
    }
   ],
   "source": [
    "try:\n",
    "    x = 5 + '7'\n",
    "\n",
    "    print(x)\n",
    "except TypeError:\n",
    "    print(\"a TypeError was caught\")\n",
    "\n",
    "    print(not_defined_var)"
   ]
  },
  {
   "cell_type": "markdown",
   "metadata": {},
   "source": [
    "Notice this message:\n",
    "\n",
    "\"During handling of the above exception, another exception occurred:\"\n",
    "\n",
    "Yes, it's very much possible to get an error while processing another error. This is why your error handling code should be simple and concise in general. Please do not use nested `try` inside `except` clause, instead find a way to wrap your code in functions and simplify it."
   ]
  },
  {
   "cell_type": "markdown",
   "metadata": {},
   "source": [
    "---"
   ]
  },
  {
   "cell_type": "markdown",
   "metadata": {},
   "source": [
    "Operator `raise` can create a new error of a specified type:"
   ]
  },
  {
   "cell_type": "code",
   "execution_count": 13,
   "metadata": {},
   "outputs": [
    {
     "ename": "RuntimeError",
     "evalue": "Oooops!",
     "output_type": "error",
     "traceback": [
      "\u001b[1;31m---------------------------------------------------------------------------\u001b[0m",
      "\u001b[1;31mRuntimeError\u001b[0m                              Traceback (most recent call last)",
      "Cell \u001b[1;32mIn[13], line 1\u001b[0m\n\u001b[1;32m----> 1\u001b[0m \u001b[38;5;28;01mraise\u001b[39;00m \u001b[38;5;167;01mRuntimeError\u001b[39;00m(\u001b[38;5;124m\"\u001b[39m\u001b[38;5;124mOooops!\u001b[39m\u001b[38;5;124m\"\u001b[39m)\n",
      "\u001b[1;31mRuntimeError\u001b[0m: Oooops!"
     ]
    }
   ],
   "source": [
    "raise RuntimeError(\"Oooops!\")"
   ]
  },
  {
   "cell_type": "markdown",
   "metadata": {},
   "source": [
    "The `raise` statement is useful for signaling exceptional situations or errors that require special handling or propagation to higher levels of the program. By using `raise`, you can create custom exceptions or raise built-in exceptions with specific error messages, providing a way to communicate and handle errors in a controlled and meaningful manner. This helps in maintaining the flow of the program, debugging, and providing informative feedback to users or developers when exceptional situations arise."
   ]
  },
  {
   "cell_type": "code",
   "execution_count": 14,
   "metadata": {},
   "outputs": [
    {
     "name": "stdout",
     "output_type": "stream",
     "text": [
      "the input is not a number, please try again\n",
      "the number is not positive, please try again\n",
      "your number is 10\n"
     ]
    }
   ],
   "source": [
    "# validation of user input\n",
    "\n",
    "while True:\n",
    "\n",
    "    try:\n",
    "        number = input(\"Enter a positive integer number\")\n",
    "\n",
    "        try:\n",
    "            number = int(number) # direct conversion without cheking\n",
    "        except ValueError:\n",
    "            raise RuntimeError(\"the input is not a number\") # using a new error to deliver the validation message\n",
    "        \n",
    "        if number <= 0: # number is already int here\n",
    "            raise RuntimeError(\"the number is not positive\") # using a new error to deliver the validation message\n",
    "\n",
    "        break\n",
    "    except RuntimeError as e: # the framework for validational messages delivery\n",
    "        print(e, \", please try again\", sep=\"\")\n",
    "        continue\n",
    "\n",
    "print(f\"your number is {number}\")\n"
   ]
  },
  {
   "cell_type": "markdown",
   "metadata": {},
   "source": [
    "## Homework"
   ]
  },
  {
   "cell_type": "markdown",
   "metadata": {},
   "source": [
    "Task 1 - Simple Calculator\n",
    "\n",
    "Write a Python program that implements a basic calculator, use error handling as much as possible (and don't forget about functions either). The program should allow the user to enter mathematical expressions and handle potential errors that may occur during the evaluation process.\n",
    "\n",
    "The program should prompt the user to enter a mathematical expression as a string.\n",
    "\n",
    "The expression can include basic arithmetic operations: addition (`+`), subtraction (`-`), multiplication (`*`), and division (`/`).\n",
    "The expression can also include parentheses for grouping.\n",
    "The program should evaluate the expression and display the result.\n",
    "\n",
    "Display informative error messages to the user when exceptions occur.\n",
    "Allow the user to enter a new expression after an error occurs.\n",
    "The program should keep running until the user chooses to quit.\n",
    "\n",
    "*And God forbid you to as much as think about using the ```eval()``` function, for eval is evil. Don't use ```re``` either, that would be just stupid*"
   ]
  },
  {
   "cell_type": "markdown",
   "metadata": {},
   "source": []
  }
 ],
 "metadata": {
  "kernelspec": {
   "display_name": "Python 3",
   "language": "python",
   "name": "python3"
  },
  "language_info": {
   "codemirror_mode": {
    "name": "ipython",
    "version": 3
   },
   "file_extension": ".py",
   "mimetype": "text/x-python",
   "name": "python",
   "nbconvert_exporter": "python",
   "pygments_lexer": "ipython3",
   "version": "3.11.4"
  }
 },
 "nbformat": 4,
 "nbformat_minor": 2
}
