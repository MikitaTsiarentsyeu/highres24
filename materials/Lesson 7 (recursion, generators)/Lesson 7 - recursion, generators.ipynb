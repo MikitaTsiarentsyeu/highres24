{
 "cells": [
  {
   "cell_type": "markdown",
   "metadata": {},
   "source": [
    "# Lesson 7 - recursion, generators"
   ]
  },
  {
   "cell_type": "markdown",
   "metadata": {},
   "source": [
    "## Recursion"
   ]
  },
  {
   "cell_type": "markdown",
   "metadata": {},
   "source": [
    "Recursion is a programming technique where a function calls itself repeatedly until a certain condition is met, known as the base case. It breaks down a complex problem into smaller, more manageable subproblems, solving each subproblem recursively until the base case is reached. Recursive functions typically have two main components: the base case, which defines the condition to stop the recursion, and the recursive case, which defines how the function calls itself with a modified input. Recursion can be a powerful and elegant way to solve certain problems, especially those that have a naturally recursive structure, such as traversing trees or generating permutations. However, it's important to ensure that the base case is properly defined to avoid infinite recursion and that the recursive calls progress towards the base case to guarantee the termination of the function. Recursion can sometimes lead to more concise and readable code compared to iterative solutions, but it may also be less efficient in terms of memory usage and execution time for large inputs due to the overhead of function calls and stack management."
   ]
  },
  {
   "cell_type": "code",
   "execution_count": null,
   "metadata": {},
   "outputs": [],
   "source": [
    "def recursive_func(rep=5):\n",
    "    if rep == 0: # base case with termination\n",
    "        return\n",
    "    \n",
    "    print(\"had enough yet?\")  # recursove case with call\n",
    "    recursive_func(rep-1) \n",
    "\n",
    "recursive_func()"
   ]
  },
  {
   "cell_type": "markdown",
   "metadata": {},
   "source": [
    "When a recursive function is called, Python maintains a call stack to keep track of the function calls and their respective variables and states. Each recursive call adds a new frame to the call stack until the base case is reached, at which point the function returns, and the stack frames are popped off one by one. Python has a maximum recursion depth limit, which is set to 1000 by default, to prevent infinite recursion and stack overflow errors. If the recursion depth exceeds this limit, a `RecursionError` is raised. However, this limit can be modified using the `sys.setrecursionlimit()` function, although if it came to this you should really consider another solution. Recursion in Python is not very optimal, especially considering an absence of so-called tail optimization."
   ]
  },
  {
   "cell_type": "code",
   "execution_count": null,
   "metadata": {},
   "outputs": [],
   "source": [
    "def recursive_func(rep=5): # no base case but the interpreter's got you covered\n",
    "    print(\"had enough yet?\")  # recursove case\n",
    "    recursive_func(rep-1) \n",
    "\n",
    "recursive_func() # will stop after a 1000 calls (including this one)"
   ]
  },
  {
   "cell_type": "markdown",
   "metadata": {},
   "source": [
    "### When to use recursion"
   ]
  },
  {
   "cell_type": "markdown",
   "metadata": {},
   "source": [
    "Option 1, repetitive algorithms"
   ]
  },
  {
   "cell_type": "code",
   "execution_count": null,
   "metadata": {},
   "outputs": [],
   "source": [
    "def factorial(n):\n",
    "    if n == 0:\n",
    "        return 1 # base case\n",
    "    else:\n",
    "        return n * factorial(n - 1) # recursive case\n",
    "\n",
    "print(factorial(5))"
   ]
  },
  {
   "cell_type": "code",
   "execution_count": null,
   "metadata": {},
   "outputs": [],
   "source": [
    "def fibonacci(n):\n",
    "    if n <= 1:\n",
    "        return n # base case\n",
    "    else:\n",
    "        return fibonacci(n - 1) + fibonacci(n - 2) # recursive case\n",
    "\n",
    "print(fibonacci(7))"
   ]
  },
  {
   "cell_type": "code",
   "execution_count": null,
   "metadata": {},
   "outputs": [],
   "source": [
    "def binary_search(arr, target, low, high):\n",
    "    if low > high:\n",
    "        return -1 # base case\n",
    "    mid = (low + high) // 2\n",
    "    if arr[mid] == target:\n",
    "        return mid # another base case\n",
    "    elif arr[mid] > target:\n",
    "        return binary_search(arr, target, low, mid - 1) # recursive case\n",
    "    else:\n",
    "        return binary_search(arr, target, mid + 1, high) # another recursive case\n",
    "\n",
    "arr = [1, 3, 5, 7, 9, 11, 13, 15]\n",
    "target = 7\n",
    "binary_search(arr, target, 0, len(arr) - 1)"
   ]
  },
  {
   "cell_type": "markdown",
   "metadata": {},
   "source": [
    "Option 2, nested data strutures"
   ]
  },
  {
   "cell_type": "code",
   "execution_count": null,
   "metadata": {},
   "outputs": [],
   "source": [
    "l = [1,2,3, [4,5,6, [7,8,9, [10]]]]\n",
    "\n",
    "# try to deduce the base case by yourself\n",
    "\n",
    "def nested_sum(l, res=0):\n",
    "\n",
    "    for elem in l:\n",
    "\n",
    "        if isinstance(elem, int) or isinstance(elem, float):\n",
    "            res += elem\n",
    "        else:\n",
    "            res += nested_sum(elem)\n",
    "\n",
    "    return res\n",
    "\n",
    "nested_sum(l)"
   ]
  },
  {
   "cell_type": "markdown",
   "metadata": {},
   "source": [
    "### What is better, loops or recursion?"
   ]
  },
  {
   "cell_type": "markdown",
   "metadata": {},
   "source": [
    "In general, if a problem can be easily solved using iteration and the performance is critical, loops are often preferred. However, if a problem has a recursive structure or can be naturally expressed using recursion, and *the recursion depth is not too deep*, then recursion can be a good choice.\n",
    "\n",
    "It's worth noting that some recursive problems can be converted to iterative solutions using techniques like tail recursion optimization (but not on the high level of Python code) or by using explicit data structures like stacks or queues to manage the state."
   ]
  },
  {
   "cell_type": "markdown",
   "metadata": {},
   "source": [
    "## Generators"
   ]
  },
  {
   "cell_type": "markdown",
   "metadata": {},
   "source": [
    "are functions that return an iterator object, allowing you to iterate over a sequence of values without storing them all in memory at once. Generators are defined using the yield keyword, which is used to produce a value from the generator function and pause the function's execution until the next value is requested. When a generator function is called, it returns a generator object that can be iterated over using a for loop or by calling the `next()` function. Generators are memory-efficient because they generate values on-the-fly, only producing the next value when it is needed, making them useful for working with large datasets or infinite sequences. They provide a convenient way to create custom iterators without the need to explicitly define iterator classes and methods."
   ]
  },
  {
   "cell_type": "code",
   "execution_count": 16,
   "metadata": {},
   "outputs": [
    {
     "name": "stdout",
     "output_type": "stream",
     "text": [
      "0\n",
      "1\n",
      "1\n",
      "2\n",
      "3\n",
      "5\n",
      "8\n",
      "13\n",
      "21\n",
      "34\n"
     ]
    }
   ],
   "source": [
    "def fibonacci():\n",
    "    a, b = 0, 1\n",
    "    while True:\n",
    "        yield a # yield doesn't terminate the function\n",
    "        a, b = b, a + b\n",
    "\n",
    "fib = fibonacci()\n",
    "for i in range(10):\n",
    "    print(next(fib))"
   ]
  },
  {
   "cell_type": "code",
   "execution_count": 15,
   "metadata": {},
   "outputs": [
    {
     "name": "stdout",
     "output_type": "stream",
     "text": [
      "2\n",
      "3\n",
      "5\n",
      "7\n",
      "11\n",
      "13\n",
      "17\n",
      "19\n",
      "23\n",
      "29\n"
     ]
    }
   ],
   "source": [
    "def primes():\n",
    "    num = 2\n",
    "    while True:\n",
    "        if all(num % i != 0 for i in range(2, int(num ** 0.5) + 1)):\n",
    "            yield num\n",
    "        num += 1\n",
    "\n",
    "prime_gen = primes()\n",
    "for _ in range(10):\n",
    "    print(next(prime_gen))"
   ]
  },
  {
   "cell_type": "code",
   "execution_count": null,
   "metadata": {},
   "outputs": [
    {
     "name": "stdout",
     "output_type": "stream",
     "text": [
      "[1, 2, 3, 4]\n"
     ]
    }
   ],
   "source": [
    "# recursive generator\n",
    "\n",
    "def flatten(sequence):\n",
    "    for element in sequence:\n",
    "        if hasattr(element, '__iter__'): # the best way to check for collection\n",
    "            yield from flatten(element) # 'yield from' delegates execution to another generator\n",
    "        else:\n",
    "            yield element # normal generation process\n",
    "\n",
    "print(list(flatten([1, [2], [3, [4]]])))"
   ]
  },
  {
   "cell_type": "markdown",
   "metadata": {},
   "source": [
    "## Homework "
   ]
  },
  {
   "cell_type": "markdown",
   "metadata": {},
   "source": [
    "Task 1 - Recursive Fibonacci Generator with Memoization\n",
    "\n",
    "Implement a recursive generator function `fib_gen(n)` that generates the first n Fibonacci numbers using memoization to optimize the computation. Use a dictionary to store previously computed Fibonacci numbers and avoid redundant calculations. The generator should yield each Fibonacci number one at a time."
   ]
  },
  {
   "cell_type": "markdown",
   "metadata": {},
   "source": [
    "Task 2 - Recursive Combination Generator\n",
    "\n",
    "Implement a recursive generator function `combinations(lst, r)` that generates all possible combinations of size r from a given list lst. The function should yield each combination as a list. Use recursive calls to generate combinations and ensure that each combination is unique."
   ]
  }
 ],
 "metadata": {
  "kernelspec": {
   "display_name": "Python 3",
   "language": "python",
   "name": "python3"
  },
  "language_info": {
   "codemirror_mode": {
    "name": "ipython",
    "version": 3
   },
   "file_extension": ".py",
   "mimetype": "text/x-python",
   "name": "python",
   "nbconvert_exporter": "python",
   "pygments_lexer": "ipython3",
   "version": "3.11.4"
  }
 },
 "nbformat": 4,
 "nbformat_minor": 2
}
