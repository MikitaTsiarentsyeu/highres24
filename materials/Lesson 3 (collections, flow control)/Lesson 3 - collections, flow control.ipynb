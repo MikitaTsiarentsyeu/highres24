{
 "cells": [
  {
   "cell_type": "markdown",
   "metadata": {},
   "source": [
    "# Lesson 3 - colections and flow control"
   ]
  },
  {
   "cell_type": "markdown",
   "metadata": {},
   "source": [
    "## Flow control, part 1"
   ]
  },
  {
   "cell_type": "markdown",
   "metadata": {},
   "source": [
    "### `if`/`else`"
   ]
  },
  {
   "cell_type": "markdown",
   "metadata": {},
   "source": [
    "In Python, the `if`/`else` statements are used for conditional execution of code blocks based on whether a specified condition is true or false. They allow you to make decisions and control the flow of your program based on certain conditions.\n",
    "\n",
    "The basic syntax of an `if` statement is as follows:"
   ]
  },
  {
   "cell_type": "code",
   "execution_count": 37,
   "metadata": {},
   "outputs": [
    {
     "name": "stdout",
     "output_type": "stream",
     "text": [
      "that's right!\n"
     ]
    }
   ],
   "source": [
    "if True:\n",
    "    print(\"that's right!\")"
   ]
  },
  {
   "cell_type": "code",
   "execution_count": 38,
   "metadata": {},
   "outputs": [],
   "source": [
    "x = 0\n",
    "if x > 0:\n",
    "    print(\"it's positive!\")"
   ]
  },
  {
   "cell_type": "code",
   "execution_count": 39,
   "metadata": {},
   "outputs": [
    {
     "name": "stdout",
     "output_type": "stream",
     "text": [
      "the string is not empty\n"
     ]
    }
   ],
   "source": [
    "string = \"test\"\n",
    "if string:\n",
    "    print(\"the string is not empty\")"
   ]
  },
  {
   "cell_type": "markdown",
   "metadata": {},
   "source": [
    "The condition is being converted to `bool` type automatically. If the condition is `True`, the code block indented under the `if` statement is executed. If the condition is `False`, the code block is skipped, and the program continues with the next statement after the `if` block."
   ]
  },
  {
   "cell_type": "markdown",
   "metadata": {},
   "source": [
    "Adding `else`:"
   ]
  },
  {
   "cell_type": "code",
   "execution_count": 40,
   "metadata": {},
   "outputs": [
    {
     "name": "stdout",
     "output_type": "stream",
     "text": [
      "that's strange...\n"
     ]
    }
   ],
   "source": [
    "if False:\n",
    "    print(\"that's right!\")\n",
    "else:\n",
    "    print(\"that's strange...\")"
   ]
  },
  {
   "cell_type": "code",
   "execution_count": 41,
   "metadata": {},
   "outputs": [
    {
     "name": "stdout",
     "output_type": "stream",
     "text": [
      "the string is not empty\n"
     ]
    }
   ],
   "source": [
    "string = \"test\"\n",
    "if string:\n",
    "    print(\"the string is not empty\")\n",
    "else:\n",
    "    print(\"the string is empty\")"
   ]
  },
  {
   "cell_type": "code",
   "execution_count": 42,
   "metadata": {},
   "outputs": [
    {
     "name": "stdout",
     "output_type": "stream",
     "text": [
      "it's zero!\n"
     ]
    }
   ],
   "source": [
    "# nesting is unlimited\n",
    "x = 0\n",
    "if x > 0:\n",
    "    print(\"it's positive!\")\n",
    "else:\n",
    "    if x == 0:\n",
    "        print(\"it's zero!\")\n",
    "    else:\n",
    "        print(\"it's negative\")"
   ]
  },
  {
   "cell_type": "markdown",
   "metadata": {},
   "source": [
    "In this case, if the condition is `True`, the code block under the `if` statement is executed, and the code block under the `else` clause is skipped. If the condition is False, the code block under the `if` statement is skipped, and the code block under the `else` clause is executed."
   ]
  },
  {
   "cell_type": "markdown",
   "metadata": {},
   "source": [
    "Additionally, you can use `elif` (short for \"else if\") to check for multiple conditions in a sequence:"
   ]
  },
  {
   "cell_type": "code",
   "execution_count": 43,
   "metadata": {},
   "outputs": [
    {
     "name": "stdout",
     "output_type": "stream",
     "text": [
      "it's three\n"
     ]
    }
   ],
   "source": [
    "x = 3\n",
    "\n",
    "if x == 0:\n",
    "    print(\"it's zero\")\n",
    "elif x == 1:\n",
    "    print(\"it's one\")\n",
    "elif x == 2:\n",
    "    print(\"it's two\")\n",
    "elif x == 3:\n",
    "    print(\"it's three\")\n",
    "elif x == 4:\n",
    "    print(\"it's four\")\n",
    "else:\n",
    "    print(\"idk...\")"
   ]
  },
  {
   "cell_type": "markdown",
   "metadata": {},
   "source": [
    "The `elif` clauses allow you to specify additional conditions to be checked if the previous conditions are `False`. The program will execute the code block corresponding to the first condition that evaluates to `True`. If none of the conditions are True, the code block under the `else` clause (if present) will be executed."
   ]
  },
  {
   "cell_type": "markdown",
   "metadata": {},
   "source": [
    "### Ternary `if`"
   ]
  },
  {
   "cell_type": "markdown",
   "metadata": {},
   "source": [
    "Python has a ternary conditional operator, also known as the conditional expression, which allows you to write an `if`/`else` statement in a concise and compact form. The ternary operator is useful when you want to assign a value to a variable based on a condition in a single line of code or when you need to choose between two simple actions. Use it wise as it can quickly become unreadable.\n",
    "\n",
    "The form is the following:\n",
    "`{do_if_true} if {condition} else {do_if_false}`"
   ]
  },
  {
   "cell_type": "code",
   "execution_count": 44,
   "metadata": {},
   "outputs": [
    {
     "name": "stdout",
     "output_type": "stream",
     "text": [
      "check\n"
     ]
    }
   ],
   "source": [
    "result = \"check\" if True else \"un-check\"\n",
    "print(result)"
   ]
  },
  {
   "cell_type": "code",
   "execution_count": 45,
   "metadata": {},
   "outputs": [
    {
     "name": "stdout",
     "output_type": "stream",
     "text": [
      "it's empty\n"
     ]
    }
   ],
   "source": [
    "s = \"\"\n",
    "print(\"it's not empty\") if s else print(\"it's empty\")"
   ]
  },
  {
   "cell_type": "code",
   "execution_count": 46,
   "metadata": {},
   "outputs": [
    {
     "name": "stdout",
     "output_type": "stream",
     "text": [
      "it's zero\n"
     ]
    }
   ],
   "source": [
    "x = 0\n",
    "print(\"it's positive\") if x > 0 else print(\"it's zero\") if x == 0 else print(\"it's negative\") # nesting is possible as well though not advisable"
   ]
  },
  {
   "cell_type": "markdown",
   "metadata": {},
   "source": [
    "### Practical task - guess a number\n",
    "\n",
    "Write a program which will generate a random number from 1 to 100 and asks a user to guess that number. The user should enter his guess and the program should compare the guess with the generated number and notify the user about the results."
   ]
  },
  {
   "cell_type": "markdown",
   "metadata": {},
   "source": [
    "## Collections (or Iterable types)"
   ]
  },
  {
   "cell_type": "markdown",
   "metadata": {},
   "source": [
    "In Python, collections are built-in data structures that allow you to store and organize multiple values in a single object. Python provides several built-in collection types, including lists, tuples, sets, and dictionaries, each with its own characteristics and use cases. These collections are highly versatile and are commonly used for storing, accessing, and manipulating data efficiently in Python programs. Lists and tuples are ordered collections that allow duplicate elements, while sets are unordered collections that do not allow duplicates, and dictionaries are unordered collections of key-value pairs that provide fast lookup and retrieval of values based on their associated keys."
   ]
  },
  {
   "cell_type": "markdown",
   "metadata": {},
   "source": [
    "### `list` type"
   ]
  },
  {
   "cell_type": "markdown",
   "metadata": {},
   "source": [
    "allows you to store and manipulate an ordered sequence of elements. Lists are mutable, meaning you can modify, add, or remove elements after the list is created. Elements in a list can be of different data types, such as numbers, strings, or even other lists, and they are enclosed in square brackets `[]` and separated by commas. Lists provide a wide range of built-in methods and operations for accessing, manipulating, and transforming the elements. Python lists are dynamic, meaning they can grow or shrink as needed to accommodate the number of elements you add or remove. The size of a list is limited only by the available memory on your system. \n",
    "\n",
    "(don't mix up with a 'linked list', the Python `list` data type is not a linked list data structure)"
   ]
  },
  {
   "cell_type": "code",
   "execution_count": 19,
   "metadata": {},
   "outputs": [
    {
     "name": "stdout",
     "output_type": "stream",
     "text": [
      "[]\n",
      "[]\n",
      "[1, 2, 3, 4, 5]\n"
     ]
    }
   ],
   "source": [
    "l = [] # an empty list\n",
    "print(l) # str representation of a list is done as a pseudo-literal\n",
    "l = list() # another way to create a new empty list\n",
    "print(l)\n",
    "l = [1,2,3,4,5]\n",
    "print(l)"
   ]
  },
  {
   "cell_type": "code",
   "execution_count": 17,
   "metadata": {},
   "outputs": [
    {
     "name": "stdout",
     "output_type": "stream",
     "text": [
      "['test', 56, 1e-06, False, ['nested list']]\n"
     ]
    }
   ],
   "source": [
    "l = ['test', 56, 0.000001, False, ['nested list']]\n",
    "print(l)"
   ]
  },
  {
   "cell_type": "code",
   "execution_count": 18,
   "metadata": {},
   "outputs": [
    {
     "name": "stdout",
     "output_type": "stream",
     "text": [
      "[[0, 0, 1], [0, 1, 0], [1, 0, 0]]\n"
     ]
    }
   ],
   "source": [
    "l = [[0, 0, 1], [0, 1, 0], [1, 0, 0]] # a matrix\n",
    "print(l)"
   ]
  },
  {
   "cell_type": "markdown",
   "metadata": {},
   "source": [
    "List support indexing and slicing, even combined with assignment operation"
   ]
  },
  {
   "cell_type": "code",
   "execution_count": 24,
   "metadata": {},
   "outputs": [
    {
     "name": "stdout",
     "output_type": "stream",
     "text": [
      "[1, 2, 3, 4, 5] 1\n",
      "['one', 2, 3, 4, 5] one\n",
      "['one', 2, 3]\n",
      "[9, 8, 7, 6, 5, 4, 5]\n"
     ]
    }
   ],
   "source": [
    "l = [1,2,3,4,5]\n",
    "print(l, l[0])\n",
    "\n",
    "l[0] = \"one\" # assignment by an index\n",
    "print(l, l[0])\n",
    "\n",
    "print(l[:3])\n",
    "l[:3] = [9,8,7,6,5] # assignment by a slice, sizes can differ\n",
    "print(l)"
   ]
  },
  {
   "cell_type": "code",
   "execution_count": 26,
   "metadata": {},
   "outputs": [
    {
     "name": "stdout",
     "output_type": "stream",
     "text": [
      "[1, 2, 3, 't', 'e', 's', 't']\n",
      "[0, 0, 0, 0, 0, 0, 0, 0]\n"
     ]
    }
   ],
   "source": [
    "print([1,2,3]+list(\"test\")) # concatenation\n",
    "\n",
    "print([0]*8) # multiplication"
   ]
  },
  {
   "cell_type": "code",
   "execution_count": 28,
   "metadata": {},
   "outputs": [
    {
     "name": "stdout",
     "output_type": "stream",
     "text": [
      "False\n",
      "4\n"
     ]
    }
   ],
   "source": [
    "print(\"one\" in [1,2,3,4,5]) # membership check\n",
    "print(len(list(\"test\"))) # length chech"
   ]
  },
  {
   "cell_type": "code",
   "execution_count": 32,
   "metadata": {},
   "outputs": [
    {
     "name": "stdout",
     "output_type": "stream",
     "text": [
      "2657087868288\n",
      "[1, 2, 3, 4, 5, 'last elem'] 2657087868288\n"
     ]
    }
   ],
   "source": [
    "l = [1,2,3,4,5]\n",
    "print(id(l))\n",
    "l.append(\"last elem\") # adding a new element to the end\n",
    "print(l, id(l)) # ids are the same cause it's the same object in memory"
   ]
  },
  {
   "cell_type": "code",
   "execution_count": 33,
   "metadata": {},
   "outputs": [
    {
     "name": "stdout",
     "output_type": "stream",
     "text": [
      "['zero', 1, 2, 3, 4, 5, 'last elem']\n"
     ]
    }
   ],
   "source": [
    "l.insert(0, \"zero\") # adding a new elemnet by index, elements on the right are shifted\n",
    "print(l)"
   ]
  },
  {
   "cell_type": "code",
   "execution_count": 34,
   "metadata": {},
   "outputs": [
    {
     "name": "stdout",
     "output_type": "stream",
     "text": [
      "['zero', 1, 2, 3, 4, 5, 'last elem', 't', 'e', 's', 't']\n"
     ]
    }
   ],
   "source": [
    "l.extend(\"test\") # adding elements of another collection to the end of the list\n",
    "print(l)"
   ]
  },
  {
   "cell_type": "code",
   "execution_count": 35,
   "metadata": {},
   "outputs": [
    {
     "name": "stdout",
     "output_type": "stream",
     "text": [
      "['zero', 1, 2, 3, 4, 5, 'last elem', 'e', 's', 't']\n"
     ]
    }
   ],
   "source": [
    "l.remove('t') # removes only the first entry of an element\n",
    "print(l)"
   ]
  },
  {
   "cell_type": "code",
   "execution_count": 36,
   "metadata": {},
   "outputs": [
    {
     "name": "stdout",
     "output_type": "stream",
     "text": [
      "[]\n"
     ]
    }
   ],
   "source": [
    "l.clear() # removes all elements without losing the list object\n",
    "print(l)"
   ]
  },
  {
   "cell_type": "markdown",
   "metadata": {},
   "source": [
    "### Practical task: y = ax + b\n",
    "\n",
    "Write a program which will allow a user to enter an equation in form y = ax + b, then enter some x value to calculate the corresponding y value.\n",
    "\n",
    "*(hint: you may want to use split on the inputted value and work around the resulted list)*"
   ]
  },
  {
   "cell_type": "markdown",
   "metadata": {},
   "source": [
    "### `tuple` type"
   ]
  },
  {
   "cell_type": "markdown",
   "metadata": {},
   "source": [
    "In Python, a `tuple` is an ordered, immutable collection of elements. Tuples are similar to lists in terms of storing a sequence of elements, but they are being used in several specific cases when mutability is not required. \n",
    "- Tuples are commonly used in situations where you want to store a collection of related values that shouldn't be modified.\n",
    "- They are often used to represent fixed data structures, such as coordinates (x, y), database records, or function arguments.\n"
   ]
  },
  {
   "cell_type": "markdown",
   "metadata": {},
   "source": [
    "Tuples can be created with `()` signs and listing elements with commas between them, or even without brackets, which leads to lesser readability in certain situations though."
   ]
  },
  {
   "cell_type": "code",
   "execution_count": 53,
   "metadata": {},
   "outputs": [
    {
     "name": "stdout",
     "output_type": "stream",
     "text": [
      "()\n",
      "10\n",
      "(10,)\n",
      "(1, 2, 3, False, 'test', [9, 8, 7])\n"
     ]
    }
   ],
   "source": [
    "t = () # an empty tuple\n",
    "print(t)\n",
    "\n",
    "t = (10) # a tuple of one element?\n",
    "print(t) # it's a number\n",
    "\n",
    "t = (10, ) # a tuple of one element\n",
    "print(t)\n",
    "\n",
    "t = (1, 2, 3, False, \"test\", [9, 8, 7]) # can contain any objects\n",
    "print(t)"
   ]
  },
  {
   "cell_type": "code",
   "execution_count": 55,
   "metadata": {},
   "outputs": [
    {
     "name": "stdout",
     "output_type": "stream",
     "text": [
      "1\n",
      "[9, 8, 7]\n",
      "([9, 8, 7], 'test', False, 3, 2, 1)\n"
     ]
    }
   ],
   "source": [
    "print(t[0], t[-1], t[::-1], sep='\\n') # tuples support indexing and slicing"
   ]
  },
  {
   "cell_type": "code",
   "execution_count": 56,
   "metadata": {},
   "outputs": [
    {
     "ename": "TypeError",
     "evalue": "'tuple' object does not support item assignment",
     "output_type": "error",
     "traceback": [
      "\u001b[1;31m---------------------------------------------------------------------------\u001b[0m",
      "\u001b[1;31mTypeError\u001b[0m                                 Traceback (most recent call last)",
      "Cell \u001b[1;32mIn[56], line 1\u001b[0m\n\u001b[1;32m----> 1\u001b[0m \u001b[43mt\u001b[49m\u001b[43m[\u001b[49m\u001b[38;5;241;43m0\u001b[39;49m\u001b[43m]\u001b[49m \u001b[38;5;241m=\u001b[39m \u001b[38;5;124m\"\u001b[39m\u001b[38;5;124mone\u001b[39m\u001b[38;5;124m\"\u001b[39m \u001b[38;5;66;03m# but do not support any assigment or change\u001b[39;00m\n",
      "\u001b[1;31mTypeError\u001b[0m: 'tuple' object does not support item assignment"
     ]
    }
   ],
   "source": [
    "t[0] = \"one\" # but do not support any assigment or change"
   ]
  },
  {
   "cell_type": "markdown",
   "metadata": {},
   "source": [
    "### `dict` type"
   ]
  },
  {
   "cell_type": "markdown",
   "metadata": {},
   "source": [
    "In Python, a dictionary (also known as a `dict`) is an unordered collection of key-value pairs. It allows you to store and retrieve values based on their associated keys. Dictionaries are mutable, you can modify, add, or remove key-value pairs after the dictionary is created. Dictionaries are commonly used when you need to store and retrieve values based on unique keys. They are useful for representing structured data, such as user profiles, configuration settings, or database records. Dictionaries provide fast lookup and retrieval of values based on keys, making them efficient for searching and accessing data.\n",
    "\n",
    "Dictionaries are defined using curly braces `{}` and contain key-value pairs separated by commas. Each key-value pair is represented as key: value.\n",
    "\n",
    "Keys in a dictionary must be unique and immutable objects, such as strings, numbers, or tuples. Values can be of any data type, including mutable objects like lists or even other dictionaries. Keys are used to access and retrieve the corresponding values from the dictionary."
   ]
  },
  {
   "cell_type": "code",
   "execution_count": 61,
   "metadata": {},
   "outputs": [
    {
     "name": "stdout",
     "output_type": "stream",
     "text": [
      "{}\n",
      "{1: 'one', 'two': 2}\n"
     ]
    }
   ],
   "source": [
    "d = {} # an empty dict\n",
    "print(d)\n",
    "\n",
    "d = {1: \"one\", \"two\": 2} # two key-value pairs inside a dict\n",
    "print(d)"
   ]
  },
  {
   "cell_type": "code",
   "execution_count": 62,
   "metadata": {},
   "outputs": [
    {
     "ename": "TypeError",
     "evalue": "unhashable type: 'list'",
     "output_type": "error",
     "traceback": [
      "\u001b[1;31m---------------------------------------------------------------------------\u001b[0m",
      "\u001b[1;31mTypeError\u001b[0m                                 Traceback (most recent call last)",
      "Cell \u001b[1;32mIn[62], line 1\u001b[0m\n\u001b[1;32m----> 1\u001b[0m d \u001b[38;5;241m=\u001b[39m {[]: \u001b[38;5;124m\"\u001b[39m\u001b[38;5;124mval\u001b[39m\u001b[38;5;124m\"\u001b[39m} \u001b[38;5;66;03m# an error accurs when passing a mutable type as key\u001b[39;00m\n",
      "\u001b[1;31mTypeError\u001b[0m: unhashable type: 'list'"
     ]
    }
   ],
   "source": [
    "d = {[]: \"val\"} # an error accurs when passing a mutable type as key"
   ]
  },
  {
   "cell_type": "code",
   "execution_count": 72,
   "metadata": {},
   "outputs": [
    {
     "name": "stdout",
     "output_type": "stream",
     "text": [
      "one\n",
      "{1: ['o', 'n', 'e'], 2: 'two', 3: 'three'}\n",
      "{1: ['o', 'n', 'e'], 2: 'two', 3: 'three', 'test': 'test'}\n",
      "{1: ['o', 'n', 'e'], 2: 'two', 3: 'three'}\n",
      "False True\n",
      "True\n"
     ]
    }
   ],
   "source": [
    "d = {1: \"one\", 2: \"two\", 3: \"three\"}\n",
    "\n",
    "print(d[1]) # accessing value by its key\n",
    "\n",
    "d[1] = [\"o\", \"n\", \"e\"] # replacing this value\n",
    "print(d)\n",
    "\n",
    "d[\"test\"] = \"test\" # adding a new key-value pair\n",
    "print(d)\n",
    "\n",
    "del d[\"test\"] # the fastest way to remove a pair\n",
    "print(d)\n",
    "\n",
    "print(\"two\" in d, 2 in d) # in operates on keys only\n",
    "\n",
    "print(\"two\" in d.values()) # option to check values as well"
   ]
  },
  {
   "cell_type": "markdown",
   "metadata": {},
   "source": [
    "### `set` type"
   ]
  },
  {
   "cell_type": "markdown",
   "metadata": {},
   "source": [
    "A `set` is an unordered collection of unique elements. Since sets only store unique elements of immutable types, you can think of it as keys of a dict without values. This property makes sets useful for removing duplicates from other collections or checking for membership. Sets are mutable, however, since sets are unordered and do not allow duplicate elements, they do not support indexing or slicing like lists or tuples. \n",
    "\n",
    "Sets are defined using curly braces `{}` or the `set()` constructor. Elements in a set are separated by commas.\n",
    "\n",
    "Sets are commonly used when you need to store a collection of unique elements and perform set operations like union, intersection, or difference.\n",
    "They are useful for removing duplicates from lists or other collections.\n",
    "Sets provide fast membership testing, making them efficient for checking if an element exists in the set."
   ]
  },
  {
   "cell_type": "code",
   "execution_count": 75,
   "metadata": {},
   "outputs": [
    {
     "name": "stdout",
     "output_type": "stream",
     "text": [
      "set()\n",
      "{1, 2, 3, 4, 5}\n"
     ]
    }
   ],
   "source": [
    "s = set() # new empty set\n",
    "print(s)\n",
    "\n",
    "s = {1,1,1,2,2,3,4,5} # all duplicates would be ignored\n",
    "print(s)"
   ]
  },
  {
   "cell_type": "code",
   "execution_count": 76,
   "metadata": {},
   "outputs": [
    {
     "ename": "TypeError",
     "evalue": "'set' object is not subscriptable",
     "output_type": "error",
     "traceback": [
      "\u001b[1;31m---------------------------------------------------------------------------\u001b[0m",
      "\u001b[1;31mTypeError\u001b[0m                                 Traceback (most recent call last)",
      "Cell \u001b[1;32mIn[76], line 1\u001b[0m\n\u001b[1;32m----> 1\u001b[0m \u001b[43ms\u001b[49m\u001b[43m[\u001b[49m\u001b[38;5;241;43m0\u001b[39;49m\u001b[43m]\u001b[49m \u001b[38;5;66;03m# no indexing for a set\u001b[39;00m\n",
      "\u001b[1;31mTypeError\u001b[0m: 'set' object is not subscriptable"
     ]
    }
   ],
   "source": [
    "s[0] # no indexing for a set"
   ]
  },
  {
   "cell_type": "code",
   "execution_count": 78,
   "metadata": {},
   "outputs": [
    {
     "name": "stdout",
     "output_type": "stream",
     "text": [
      "{1, 2, 3, 4, 5, 'test'}\n"
     ]
    }
   ],
   "source": [
    "s.add(\"test\") # adding an immutable object\n",
    "print(s)"
   ]
  },
  {
   "cell_type": "code",
   "execution_count": 79,
   "metadata": {},
   "outputs": [
    {
     "ename": "TypeError",
     "evalue": "unhashable type: 'list'",
     "output_type": "error",
     "traceback": [
      "\u001b[1;31m---------------------------------------------------------------------------\u001b[0m",
      "\u001b[1;31mTypeError\u001b[0m                                 Traceback (most recent call last)",
      "Cell \u001b[1;32mIn[79], line 1\u001b[0m\n\u001b[1;32m----> 1\u001b[0m \u001b[43ms\u001b[49m\u001b[38;5;241;43m.\u001b[39;49m\u001b[43madd\u001b[49m\u001b[43m(\u001b[49m\u001b[43m[\u001b[49m\u001b[43m]\u001b[49m\u001b[43m)\u001b[49m \u001b[38;5;66;03m# this will fail just like it was for a dict\u001b[39;00m\n",
      "\u001b[1;31mTypeError\u001b[0m: unhashable type: 'list'"
     ]
    }
   ],
   "source": [
    "s.add([]) # this will fail just like it was for a dict"
   ]
  },
  {
   "cell_type": "code",
   "execution_count": 82,
   "metadata": {},
   "outputs": [
    {
     "ename": "KeyError",
     "evalue": "2",
     "output_type": "error",
     "traceback": [
      "\u001b[1;31m---------------------------------------------------------------------------\u001b[0m",
      "\u001b[1;31mKeyError\u001b[0m                                  Traceback (most recent call last)",
      "Cell \u001b[1;32mIn[82], line 1\u001b[0m\n\u001b[1;32m----> 1\u001b[0m \u001b[43ms\u001b[49m\u001b[38;5;241;43m.\u001b[39;49m\u001b[43mremove\u001b[49m\u001b[43m(\u001b[49m\u001b[38;5;241;43m2\u001b[39;49m\u001b[43m)\u001b[49m \u001b[38;5;66;03m# removes an element, an error if it's not present\u001b[39;00m\n\u001b[0;32m      2\u001b[0m \u001b[38;5;28mprint\u001b[39m(s)\n",
      "\u001b[1;31mKeyError\u001b[0m: 2"
     ]
    }
   ],
   "source": [
    "s.remove(2) # removes an element, an error if it's not present\n",
    "print(s)"
   ]
  },
  {
   "cell_type": "code",
   "execution_count": 84,
   "metadata": {},
   "outputs": [
    {
     "name": "stdout",
     "output_type": "stream",
     "text": [
      "{1, 2, 3, 4, 5}\n",
      "{3}\n"
     ]
    }
   ],
   "source": [
    "print({1,2,3}.union({3,4,5}))\n",
    "print({1,2,3}.intersection({3,4,5})) # math operations"
   ]
  },
  {
   "cell_type": "markdown",
   "metadata": {},
   "source": [
    "## Flow control, part 2"
   ]
  },
  {
   "cell_type": "markdown",
   "metadata": {},
   "source": [
    "### `while` loops"
   ]
  },
  {
   "cell_type": "markdown",
   "metadata": {},
   "source": [
    "A `while` loop is used to repeatedly execute a block of code as long as a specified condition remains true. The loop continues to iterate until the condition becomes false, allowing for repetitive execution of code based on a certain condition. `while` loops are useful when you don't know beforehand how many times you need to iterate, or when the number of iterations depends on a condition that changes within the loop. It's important to ensure that the condition eventually becomes false to avoid an infinite loop, which occurs when the condition always remains true, causing the loop to run indefinitely."
   ]
  },
  {
   "cell_type": "code",
   "execution_count": 87,
   "metadata": {},
   "outputs": [
    {
     "ename": "KeyboardInterrupt",
     "evalue": "",
     "output_type": "error",
     "traceback": [
      "\u001b[1;31m---------------------------------------------------------------------------\u001b[0m",
      "\u001b[1;31mKeyboardInterrupt\u001b[0m                         Traceback (most recent call last)",
      "Cell \u001b[1;32mIn[87], line 1\u001b[0m\n\u001b[1;32m----> 1\u001b[0m \u001b[38;5;28;01mwhile\u001b[39;00m \u001b[38;5;28;01mTrue\u001b[39;00m: \u001b[38;5;66;03m# an infinite loop\u001b[39;00m\n\u001b[0;32m      2\u001b[0m     \u001b[38;5;28;01mpass\u001b[39;00m\n",
      "\u001b[1;31mKeyboardInterrupt\u001b[0m: "
     ]
    }
   ],
   "source": [
    "while True: # an infinite loop\n",
    "    pass"
   ]
  },
  {
   "cell_type": "code",
   "execution_count": 88,
   "metadata": {},
   "outputs": [
    {
     "name": "stdout",
     "output_type": "stream",
     "text": [
      "0\n",
      "1\n",
      "2\n",
      "3\n",
      "4\n",
      "5\n",
      "6\n",
      "7\n",
      "8\n",
      "9\n"
     ]
    }
   ],
   "source": [
    "x = 0\n",
    "while x < 10:\n",
    "    print(x)\n",
    "    x += 1"
   ]
  },
  {
   "cell_type": "markdown",
   "metadata": {},
   "source": [
    "`while` loops support operatorn `break` and `continue`. `continue` results in cancelation of the current iteration, skipping ahead to the next one, and `break` cancels the whole loop, skipping to the next instruction after it. There may be an additional `else` clause after a loop which will be executed only if no `break` happens. "
   ]
  },
  {
   "cell_type": "code",
   "execution_count": 103,
   "metadata": {},
   "outputs": [
    {
     "name": "stdout",
     "output_type": "stream",
     "text": [
      "1\n",
      "3\n",
      "5\n"
     ]
    }
   ],
   "source": [
    "x = 0\n",
    "\n",
    "while x < 10:\n",
    "    x += 1 # increment before any checks to avoid infinite looping\n",
    "    if x == 7:\n",
    "        break # end the loop on the number 7\n",
    "    if x % 2 == 0:\n",
    "        continue # skip all even numbers\n",
    "    print(x) # actual logic\n",
    "else:\n",
    "    print(\"it's over!\") # will not work if break occured"
   ]
  },
  {
   "cell_type": "markdown",
   "metadata": {},
   "source": [
    "### `for` loops"
   ]
  },
  {
   "cell_type": "markdown",
   "metadata": {},
   "source": [
    " A `for` loop is used to iterate over a sequence (such as a `list`, `tuple`, `string`, or `range()`) or any other iterable object, executing a block of code for each element in the sequence. The `for` loop automatically iterates over the elements of the specified sequence, assigning each element to a loop variable on each iteration, making it convenient for processing elements of a known sequence or performing a fixed number of iterations."
   ]
  },
  {
   "cell_type": "code",
   "execution_count": 94,
   "metadata": {},
   "outputs": [
    {
     "name": "stdout",
     "output_type": "stream",
     "text": [
      "1\n",
      "2\n",
      "3\n",
      "4\n",
      "5\n",
      "5\n"
     ]
    }
   ],
   "source": [
    "l = [1,2,3,4,5]\n",
    "\n",
    "for i in l: # you may use any name instead of i\n",
    "    print(i)\n",
    "\n",
    "print(i) # the variable is accesable after the loop"
   ]
  },
  {
   "cell_type": "code",
   "execution_count": 95,
   "metadata": {},
   "outputs": [
    {
     "name": "stdout",
     "output_type": "stream",
     "text": [
      "t\n",
      "e\n",
      "s\n",
      "t\n"
     ]
    }
   ],
   "source": [
    "for i in \"test\":\n",
    "    print(i)"
   ]
  },
  {
   "cell_type": "code",
   "execution_count": 96,
   "metadata": {},
   "outputs": [
    {
     "name": "stdout",
     "output_type": "stream",
     "text": [
      "one\n",
      "two\n"
     ]
    }
   ],
   "source": [
    "for i in {\"one\": 1, \"two\": 2}:\n",
    "    print(i) # iteration over a dict is iteration over its keys"
   ]
  },
  {
   "cell_type": "code",
   "execution_count": 98,
   "metadata": {},
   "outputs": [
    {
     "name": "stdout",
     "output_type": "stream",
     "text": [
      "0\n",
      "1\n",
      "2\n",
      "3\n",
      "4\n",
      "5\n",
      "6\n",
      "7\n",
      "8\n",
      "9\n"
     ]
    }
   ],
   "source": [
    "for i in range(10): # range genarates a series of numbers starting from 0 till arg-1\n",
    "    print(i)"
   ]
  },
  {
   "cell_type": "code",
   "execution_count": 100,
   "metadata": {},
   "outputs": [
    {
     "name": "stdout",
     "output_type": "stream",
     "text": [
      "10\n",
      "20\n",
      "30\n",
      "40\n",
      "50\n",
      "60\n",
      "70\n",
      "80\n",
      "90\n"
     ]
    }
   ],
   "source": [
    "for i in range(10, 100, 10): # (start, finish, stride)\n",
    "    print(i)"
   ]
  },
  {
   "cell_type": "code",
   "execution_count": 107,
   "metadata": {},
   "outputs": [
    {
     "name": "stdout",
     "output_type": "stream",
     "text": [
      "0\n",
      "0\n",
      "1\n",
      "0\n",
      "1\n",
      "0\n",
      "0\n",
      "0\n",
      "1\n"
     ]
    }
   ],
   "source": [
    "l = [[0, 0, 1], [0, 1, 0], [0, 0, 1]]\n",
    "\n",
    "for i in l: # nested loops for a matrix\n",
    "    for j in i:\n",
    "        print(j)"
   ]
  },
  {
   "cell_type": "code",
   "execution_count": 102,
   "metadata": {},
   "outputs": [
    {
     "name": "stdout",
     "output_type": "stream",
     "text": [
      "10\n",
      "20\n",
      "40\n",
      "50\n"
     ]
    }
   ],
   "source": [
    "for i in range(10, 100, 10): # (start, finish, stride)\n",
    "    if i == 70:\n",
    "        break\n",
    "    if i % 3 == 0:\n",
    "        continue\n",
    "    print(i)\n",
    "else:\n",
    "    print(\"it;s over!\")"
   ]
  },
  {
   "cell_type": "markdown",
   "metadata": {},
   "source": [
    "### comprehensions"
   ]
  },
  {
   "cell_type": "markdown",
   "metadata": {},
   "source": [
    "Comprehensions in Python provide a concise and expressive way to create new sequences (such as lists, dictionaries, or sets) based on existing sequences or iterables. They allow you to combine the creation of a new sequence with a loop and an optional conditional statement in a single line of code. Python supports three types of comprehensions:\n",
    "\n",
    "1. List Comprehensions:\n",
    "\n",
    "List comprehensions create a new list based on an existing sequence or iterable.\n",
    "\n",
    "Syntax: `[expression for item in iterable if condition]`\n",
    "\n",
    "2. Dictionary Comprehensions:\n",
    "\n",
    "Dictionary comprehensions create a new dictionary based on an existing sequence or iterable.\n",
    "\n",
    "Syntax: `{key_expression: value_expression for item in iterable if condition}`\n",
    "\n",
    "3. Set Comprehensions:\n",
    "\n",
    "Set comprehensions create a new set based on an existing sequence or iterable.\n",
    "\n",
    "Syntax: `{expression for item in iterable if condition}`\n"
   ]
  },
  {
   "cell_type": "code",
   "execution_count": 104,
   "metadata": {},
   "outputs": [
    {
     "name": "stdout",
     "output_type": "stream",
     "text": [
      "[1, 4, 9, 16, 25]\n"
     ]
    }
   ],
   "source": [
    "squared_numbers = [x**2 for x in range(1, 6)] # list comprehension\n",
    "print(squared_numbers)"
   ]
  },
  {
   "cell_type": "code",
   "execution_count": 106,
   "metadata": {},
   "outputs": [
    {
     "name": "stdout",
     "output_type": "stream",
     "text": [
      "{1: 1, 2: 4, 3: 9, 4: 16, 5: 25}\n"
     ]
    }
   ],
   "source": [
    "square_dict = {x: x**2 for x in range(1, 6)} # dict comprehension\n",
    "print(square_dict)"
   ]
  },
  {
   "cell_type": "code",
   "execution_count": null,
   "metadata": {},
   "outputs": [],
   "source": [
    "squared_set = {x**2 for x in range(1, 6)} # set comprehension\n",
    "print(squared_set)"
   ]
  },
  {
   "cell_type": "markdown",
   "metadata": {},
   "source": [
    "# Homework"
   ]
  },
  {
   "cell_type": "markdown",
   "metadata": {},
   "source": [
    "## Task 1, solve a quadratic equation easy way"
   ]
  },
  {
   "cell_type": "markdown",
   "metadata": {},
   "source": [
    "Write a program which will allow a user to enter coeffs a, b and c of some quadratic equation. Solve the equation and present results to the user."
   ]
  },
  {
   "cell_type": "markdown",
   "metadata": {},
   "source": [
    "## Task 2, solve a quadratic equation hard way"
   ]
  },
  {
   "cell_type": "markdown",
   "metadata": {},
   "source": [
    "Write a program which will allow a user to enter the equation itself in form of *ax\\*x+bx+c=0* of some quadratic equation. Solve the equation and present results to the user."
   ]
  },
  {
   "cell_type": "markdown",
   "metadata": {},
   "source": [
    "## Task 3, timeless classic"
   ]
  },
  {
   "cell_type": "markdown",
   "metadata": {},
   "source": [
    "Wrire a program which would ask a user for a time in format hh:mm. Print a numeral representation of that time in any language.\n",
    "\n",
    "Examples:\n",
    "\n",
    "- 12:30 - half past twelwe\n",
    "- 10:05 - five past ten\n",
    "- 14:45 - quarter to three\n",
    "- 00:00 - midnight"
   ]
  }
 ],
 "metadata": {
  "kernelspec": {
   "display_name": "Python 3",
   "language": "python",
   "name": "python3"
  },
  "language_info": {
   "codemirror_mode": {
    "name": "ipython",
    "version": 3
   },
   "file_extension": ".py",
   "mimetype": "text/x-python",
   "name": "python",
   "nbconvert_exporter": "python",
   "pygments_lexer": "ipython3",
   "version": "3.11.4"
  }
 },
 "nbformat": 4,
 "nbformat_minor": 2
}
