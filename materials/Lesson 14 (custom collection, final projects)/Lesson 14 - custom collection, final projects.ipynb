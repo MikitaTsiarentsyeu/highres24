{
 "cells": [
  {
   "cell_type": "markdown",
   "metadata": {},
   "source": [
    "# Lesson 14 - custom collection, final projects"
   ]
  },
  {
   "cell_type": "markdown",
   "metadata": {},
   "source": [
    "## Collection interface"
   ]
  },
  {
   "cell_type": "markdown",
   "metadata": {},
   "source": [
    "When implementing a custom collection in Python, you need to define certain special methods (also known as magic methods or dunder methods) to make your collection behave like a standard Python collection. Here are 5-6 key points to consider when implementing a custom collection:\n",
    "\n",
    "- `__iter__(self)`: This method returns an iterator object for the collection. It should return self if the collection itself is an iterator, or return a separate iterator object that defines the `__next__()` method. Implementing `__iter__()` allows your collection to be iterable and enables it to be used with for loops and other iteration constructs.\n",
    "\n",
    "- `__next__(self)`: This method is defined on the iterator object and returns the next item from the collection. It should raise the StopIteration exception when there are no more items to return. The `__next__()` method is called implicitly by the `next()` built-in function and is used to iterate over the elements of the collection.\n",
    "\n",
    "- `__len__(self)`: This method returns the number of items in the collection. It allows the `len()` function to be used on your collection to determine its size. Implementing `__len__()` is optional but recommended for collections that have a known size.\n",
    "\n",
    "- `__getitem__(self, key)`: This method allows accessing elements of the collection using square bracket notation (`[]`). It should return the item corresponding to the given key or raise an appropriate exception (e.g., `IndexError` or `KeyError`) if the key is invalid. Implementing `__getitem__()` enables your collection to support indexing and key-based access.\n",
    "\n",
    "- `__setitem__(self, key, value)`: This method allows modifying elements of the collection using square bracket notation (`[]`). It should set the value of the item corresponding to the given key. Implementing `__setitem__()` enables your collection to support item assignment and modification.\n",
    "\n",
    "- `__contains__(self, item)`: This method checks if an item exists in the collection. It should return True if the item is found in the collection, and False otherwise. Implementing `__contains__()` allows the `in` operator to be used on your collection to test for membership.\n",
    "\n",
    "By implementing these special methods, your custom collection can behave like a standard Python collection. It will support iteration, length determination, item access, item modification, and membership testing, among other operations."
   ]
  },
  {
   "cell_type": "markdown",
   "metadata": {},
   "source": [
    "Let's consider an example of a linked list:"
   ]
  },
  {
   "cell_type": "code",
   "execution_count": null,
   "metadata": {},
   "outputs": [],
   "source": [
    "class Node:\n",
    "    \n",
    "    def __init__(self, data=None, next=None):\n",
    "        self.data = data\n",
    "        self.next = next\n",
    "\n",
    "class LinkedList:\n",
    "    \n",
    "    # a hidden iterator class is a common technique\n",
    "    class __LinkedListIterator:\n",
    "        \n",
    "        def __init__(self, head):\n",
    "            self.current = head\n",
    "\n",
    "        def __iter__(self):\n",
    "            return self\n",
    "\n",
    "        def __next__(self):\n",
    "            if not self.current:\n",
    "                raise StopIteration\n",
    "            data = self.current.data\n",
    "            self.current = self.current.next\n",
    "            return data\n",
    "\n",
    "    def __init__(self):\n",
    "        self.head = None\n",
    "        self.size = 0\n",
    "\n",
    "    def __iter__(self):\n",
    "        return self.__LinkedListIterator(self.head)\n",
    "\n",
    "    def __len__(self):\n",
    "        return self.size\n",
    "\n",
    "    def __getitem__(self, index):\n",
    "        if index < 0 or index >= self.size:\n",
    "            raise IndexError(\"Index out of range\")\n",
    "        current = self.head\n",
    "        for _ in range(index):\n",
    "            current = current.next\n",
    "        return current.data\n",
    "\n",
    "    def __setitem__(self, index, value):\n",
    "        if index < 0 or index >= self.size:\n",
    "            raise IndexError(\"Index out of range\")\n",
    "        current = self.head\n",
    "        for _ in range(index):\n",
    "            current = current.next\n",
    "        current.data = value\n",
    "\n",
    "    def __contains__(self, value):\n",
    "        current = self.head\n",
    "        while current:\n",
    "            if current.data == value:\n",
    "                return True\n",
    "            current = current.next\n",
    "        return False\n",
    "\n",
    "    def append(self, value):\n",
    "        new_node = Node(value)\n",
    "        if not self.head:\n",
    "            self.head = new_node\n",
    "        else:\n",
    "            current = self.head\n",
    "            while current.next:\n",
    "                current = current.next\n",
    "            current.next = new_node\n",
    "        self.size += 1\n",
    "\n",
    "    def remove(self, value):\n",
    "        if not self.head:\n",
    "            raise ValueError(\"Value not found\")\n",
    "        if self.head.data == value:\n",
    "            self.head = self.head.next\n",
    "            self.size -= 1\n",
    "            return\n",
    "        current = self.head\n",
    "        while current.next:\n",
    "            if current.next.data == value:\n",
    "                current.next = current.next.next\n",
    "                self.size -= 1\n",
    "                return\n",
    "            current = current.next\n",
    "        raise ValueError(\"Value not found\")\n"
   ]
  },
  {
   "cell_type": "code",
   "execution_count": 8,
   "metadata": {},
   "outputs": [
    {
     "name": "stdout",
     "output_type": "stream",
     "text": [
      "1\n",
      "2\n",
      "3\n",
      "2\n",
      "test\n"
     ]
    }
   ],
   "source": [
    "# Create a new linked list\n",
    "my_list = LinkedList()\n",
    "\n",
    "# Append elements to the linked list\n",
    "my_list.append(1)\n",
    "my_list.append(2)\n",
    "my_list.append(3)\n",
    "\n",
    "# Iterate over the linked list\n",
    "for item in my_list:\n",
    "    print(item)\n",
    "\n",
    "# Access via indexing\n",
    "print(my_list[1])\n",
    "my_list[1] = \"test\"\n",
    "print(my_list[1])"
   ]
  },
  {
   "cell_type": "markdown",
   "metadata": {},
   "source": [
    "## Final project tasks"
   ]
  },
  {
   "cell_type": "markdown",
   "metadata": {},
   "source": [
    "You are given an interface of a common collection, your task is to implement it along with any magic methods you will consider adequate for it."
   ]
  },
  {
   "cell_type": "markdown",
   "metadata": {},
   "source": [
    "### Doubly-linked list"
   ]
  },
  {
   "cell_type": "markdown",
   "metadata": {},
   "source": [
    "https://en.wikipedia.org/wiki/Doubly_linked_list"
   ]
  },
  {
   "cell_type": "code",
   "execution_count": null,
   "metadata": {},
   "outputs": [],
   "source": [
    "from abc import ABC, abstractmethod\n",
    "\n",
    "class Node:\n",
    "    \n",
    "    def __init__(self):\n",
    "        # Consider attrs required for a node, modify the args list if needed\n",
    "        pass\n",
    "\n",
    "class DoublyLinkedListBase(ABC):\n",
    "\n",
    "    def __init__(self):\n",
    "        # Consider attrs required for a list, modify the args list if needed\n",
    "        pass\n",
    "\n",
    "    @abstractmethod\n",
    "    def is_empty(self):\n",
    "        # Returns True if the linked list is empty, False otherwise\n",
    "        pass\n",
    "\n",
    "    @abstractmethod\n",
    "    def append(self, data):\n",
    "        # Appends a new node with the given data to the end of the linked list\n",
    "        pass\n",
    "\n",
    "    @abstractmethod\n",
    "    def prepend(self, data):\n",
    "        # Prepends a new node with the given data to the beginning of the linked list\n",
    "        pass\n",
    "\n",
    "    @abstractmethod\n",
    "    def delete(self, data):\n",
    "        # Deletes the first occurrence of a node with the given data from the linked list\n",
    "        pass\n",
    "\n",
    "    @abstractmethod\n",
    "    def delete_node(self, node):\n",
    "        # Deletes the specified node from the linked list\n",
    "        pass\n",
    "\n",
    "    @abstractmethod\n",
    "    def search(self, data):\n",
    "        # Searches for the first occurrence of a node with the given data in the linked list\n",
    "        # Returns the node if found, None otherwise\n",
    "        pass\n",
    "\n",
    "    @abstractmethod\n",
    "    def clear(self):\n",
    "        # Clears the linked list, removing all nodes\n",
    "        pass\n"
   ]
  },
  {
   "cell_type": "markdown",
   "metadata": {},
   "source": [
    "### Stack"
   ]
  },
  {
   "cell_type": "markdown",
   "metadata": {},
   "source": [
    "https://en.wikipedia.org/wiki/Stack_(abstract_data_type)"
   ]
  },
  {
   "cell_type": "code",
   "execution_count": null,
   "metadata": {},
   "outputs": [],
   "source": [
    "from abc import ABC, abstractmethod\n",
    "\n",
    "class Stack(ABC):\n",
    "    \n",
    "    def __init__(self):\n",
    "        # Consider attrs required for a stack, modify the args list if needed\n",
    "        pass\n",
    "\n",
    "    @abstractmethod\n",
    "    def is_empty(self):\n",
    "        # Returns True if the stack is empty, False otherwise\n",
    "        pass\n",
    "\n",
    "    @abstractmethod\n",
    "    def push(self, item):\n",
    "        # Pushes an item onto the top of the stack\n",
    "        pass\n",
    "\n",
    "    @abstractmethod\n",
    "    def pop(self):\n",
    "        # Removes and returns the item from the top of the stack\n",
    "        # Raises an exception if the stack is empty\n",
    "        pass\n",
    "\n",
    "    @abstractmethod\n",
    "    def peek(self):\n",
    "        # Returns the item from the top of the stack without removing it\n",
    "        # Raises an exception if the stack is empty\n",
    "        pass"
   ]
  },
  {
   "cell_type": "markdown",
   "metadata": {},
   "source": [
    "### Queue"
   ]
  },
  {
   "cell_type": "markdown",
   "metadata": {},
   "source": [
    "https://en.wikipedia.org/wiki/Queue_(abstract_data_type)"
   ]
  },
  {
   "cell_type": "code",
   "execution_count": null,
   "metadata": {},
   "outputs": [],
   "source": [
    "from abc import ABC, abstractmethod\n",
    "\n",
    "class Queue(ABC):\n",
    "\n",
    "    def __init__(self):\n",
    "        # Consider attrs required for a queue, modify the args list if needed\n",
    "        pass\n",
    "\n",
    "    @abstractmethod\n",
    "    def is_empty(self):\n",
    "        # Returns True if the queue is empty, False otherwise\n",
    "        pass\n",
    "\n",
    "    @abstractmethod\n",
    "    def enqueue(self, item):\n",
    "        # Adds an item to the rear of the queue\n",
    "        pass\n",
    "\n",
    "    @abstractmethod\n",
    "    def dequeue(self):\n",
    "        # Removes and returns the item from the front of the queue\n",
    "        # Raises an exception if the queue is empty\n",
    "        pass\n",
    "\n",
    "    @abstractmethod\n",
    "    def peek(self):\n",
    "        # Returns the item from the front of the queue without removing it\n",
    "        # Raises an exception if the queue is empty\n",
    "        pass\n"
   ]
  },
  {
   "cell_type": "markdown",
   "metadata": {},
   "source": [
    "### Dictionary (hash table)"
   ]
  },
  {
   "cell_type": "markdown",
   "metadata": {},
   "source": [
    "https://en.wikipedia.org/wiki/Hash_table"
   ]
  },
  {
   "cell_type": "code",
   "execution_count": null,
   "metadata": {},
   "outputs": [],
   "source": [
    "from abc import ABC, abstractmethod\n",
    "\n",
    "class Dictionary:\n",
    "    \n",
    "    def __init__(self):\n",
    "        # Consider attrs required for a dict, modify the args list if needed\n",
    "        pass\n",
    "\n",
    "    @abstractmethod\n",
    "    def is_empty(self):\n",
    "        # Returns True if the dictionary is empty, False otherwise\n",
    "        pass\n",
    "\n",
    "    @abstractmethod\n",
    "    def put(self, key, value):\n",
    "        # Adds a key-value pair to the dictionary\n",
    "        # If the key already exists, updates its value\n",
    "        pass\n",
    "\n",
    "    @abstractmethod\n",
    "    def get(self, key):\n",
    "        # Returns the value associated with the given key\n",
    "        # Raises an exception if the key is not found\n",
    "        pass\n",
    "\n",
    "    @abstractmethod\n",
    "    def remove(self, key):\n",
    "        # Removes the key-value pair associated with the given key\n",
    "        # Raises an exception if the key is not found\n",
    "        pass\n",
    "\n",
    "    @abstractmethod\n",
    "    def contains_key(self, key):\n",
    "        # Returns True if the dictionary contains the given key, False otherwise\n",
    "        pass\n",
    "\n",
    "    @abstractmethod\n",
    "    def contains_value(self, value):\n",
    "        # Returns True if the dictionary contains the given value, False otherwise\n",
    "        pass\n"
   ]
  },
  {
   "cell_type": "markdown",
   "metadata": {},
   "source": [
    "### Binary tree"
   ]
  },
  {
   "cell_type": "markdown",
   "metadata": {},
   "source": [
    "https://en.wikipedia.org/wiki/Binary_tree"
   ]
  },
  {
   "cell_type": "code",
   "execution_count": null,
   "metadata": {},
   "outputs": [],
   "source": [
    "from abc import ABC, abstractmethod\n",
    "\n",
    "class TreeNode:\n",
    "    def __init__(self):\n",
    "        # Consider attrs required for a node, modify the args list if needed\n",
    "        self.left = None\n",
    "        self.right = None\n",
    "\n",
    "class BinaryTree(ABC):\n",
    "\n",
    "    def __init__(self):\n",
    "        # Consider attrs required for a tree, modify the args list if needed\n",
    "        self.root = None\n",
    "\n",
    "    @abstractmethod\n",
    "    def is_empty(self):\n",
    "        # Returns True if the binary tree is empty, False otherwise\n",
    "        pass\n",
    "\n",
    "    @abstractmethod\n",
    "    def insert(self, value):\n",
    "        # Inserts a new node with the given value into the binary tree\n",
    "        pass\n",
    "\n",
    "    @abstractmethod\n",
    "    def search(self, value):\n",
    "        # Searches for a node with the given value in the binary tree\n",
    "        # Returns the node if found, None otherwise\n",
    "        pass\n",
    "\n",
    "    @abstractmethod\n",
    "    def delete(self, value):\n",
    "        # Deletes a node with the given value from the binary tree\n",
    "        pass\n",
    "\n",
    "    @abstractmethod\n",
    "    def traverse_inorder(self):\n",
    "        # Performs an inorder traversal of the binary tree and returns the values in a list\n",
    "        pass\n",
    "\n",
    "    @abstractmethod\n",
    "    def traverse_preorder(self):\n",
    "        # Performs a preorder traversal of the binary tree and returns the values in a list\n",
    "        pass\n",
    "\n",
    "    @abstractmethod\n",
    "    def traverse_postorder(self):\n",
    "        # Performs a postorder traversal of the binary tree and returns the values in a list\n",
    "        pass"
   ]
  }
 ],
 "metadata": {
  "kernelspec": {
   "display_name": "Python 3",
   "language": "python",
   "name": "python3"
  },
  "language_info": {
   "codemirror_mode": {
    "name": "ipython",
    "version": 3
   },
   "file_extension": ".py",
   "mimetype": "text/x-python",
   "name": "python",
   "nbconvert_exporter": "python",
   "pygments_lexer": "ipython3",
   "version": "3.13.2"
  }
 },
 "nbformat": 4,
 "nbformat_minor": 2
}
