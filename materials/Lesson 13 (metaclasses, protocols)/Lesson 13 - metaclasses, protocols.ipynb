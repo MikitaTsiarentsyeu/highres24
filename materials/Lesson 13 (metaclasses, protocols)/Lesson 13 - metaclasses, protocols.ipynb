{
 "cells": [
  {
   "cell_type": "markdown",
   "id": "d1ff58eb",
   "metadata": {},
   "source": [
    "# Lesson 13 - metaclasses, protocols"
   ]
  },
  {
   "cell_type": "markdown",
   "id": "ee644679",
   "metadata": {},
   "source": [
    "## metaclass type"
   ]
  },
  {
   "cell_type": "markdown",
   "id": "2e6a97b1",
   "metadata": {},
   "source": [
    "In Python, classes are objects too, and just like objects are instances of classes, classes themselves are instances of metaclasses."
   ]
  },
  {
   "cell_type": "code",
   "execution_count": 1,
   "id": "c2ca204a",
   "metadata": {},
   "outputs": [
    {
     "name": "stdout",
     "output_type": "stream",
     "text": [
      "<class 'type'>\n"
     ]
    }
   ],
   "source": [
    "class Test: pass\n",
    "\n",
    "print(type(Test))"
   ]
  },
  {
   "cell_type": "markdown",
   "id": "a40c37c5",
   "metadata": {},
   "source": [
    "A metaclass is a class that defines the behavior of other classes. It is responsible for creating and controlling the class objects. When you define a class in Python, the class definition is actually passed to a ```type``` metaclass, which then creates the class object based on the provided definition."
   ]
  },
  {
   "cell_type": "code",
   "execution_count": 4,
   "id": "9490b367",
   "metadata": {},
   "outputs": [],
   "source": [
    "class Test:\n",
    "\n",
    "    test_attr = 10\n",
    "\n",
    "    def test_method(self):\n",
    "        print(self.test_attr)"
   ]
  },
  {
   "cell_type": "markdown",
   "id": "ab1423ce",
   "metadata": {},
   "source": [
    "The example above can roughly be translated to something like:"
   ]
  },
  {
   "cell_type": "code",
   "execution_count": 3,
   "id": "c7822d76",
   "metadata": {},
   "outputs": [
    {
     "name": "stdout",
     "output_type": "stream",
     "text": [
      "10\n"
     ]
    }
   ],
   "source": [
    "# Creating a new class using type as a function (like a constructor)\n",
    "Test = type('Test', (object,), {'test_attr': 10, 'test_method': lambda self: print(self.test_attr)})\n",
    "\n",
    "# Creating an instance of the class\n",
    "obj = Test()\n",
    "\n",
    "# Accessing class attributes and methods\n",
    "obj.test_method()"
   ]
  },
  {
   "cell_type": "markdown",
   "id": "5b58d07b",
   "metadata": {},
   "source": [
    "In this example, we use the type metaclass to create a new class dynamically. The type constructor takes three arguments:\n",
    "\n",
    "The first argument is the name of the class as a string, which is 'Test' in this case.\n",
    "\n",
    "The second argument is a tuple of base classes. In this example, we specify (object,) to indicate that Test inherits from the object class, which is the default base class in Python.\n",
    "\n",
    "The third argument is a dictionary representing the class namespace. It contains the attributes and methods of the class. In this example, we define an attribute test_attr with a value of 10 and a method test_method using a lambda function.\n",
    "\n",
    "The type constructor returns a new class object based on the provided arguments. We assign this class object to the variable Test."
   ]
  },
  {
   "cell_type": "markdown",
   "id": "0a58d2e4",
   "metadata": {},
   "source": [
    "## custom metaclasses"
   ]
  },
  {
   "cell_type": "markdown",
   "id": "96810331",
   "metadata": {},
   "source": [
    "You can define your own metaclasses to modify the class creation process and add custom behavior to classes. Metaclasses allow you to perform tasks such as:\n",
    "\n",
    "Modifying the class definition before the class is created\n",
    "Injecting additional attributes or methods into the class\n",
    "Implementing class-level validation or constraints\n",
    "Automatically registering classes in a registry\n",
    "Generating code or modifying the class structure dynamically\n",
    "To define a metaclass, you create a class that inherits from type. The metaclass can define special methods such as ```__new__``` and ```__init__``` to customize the class creation process. When you define a class and specify the metaclass using the metaclass keyword argument, Python calls the metaclass's ```__new__``` method to create the class object and then calls the ```__init__``` method to initialize it. On a higher level there is also a ```__call__``` which being called each time a new instance is requested and its role is to call the ```__new__``` and ```__init``` one by one."
   ]
  },
  {
   "cell_type": "code",
   "execution_count": 8,
   "id": "4f3e2305",
   "metadata": {},
   "outputs": [
    {
     "ename": "TypeError",
     "evalue": "Method 'my_method' in class 'my_method' must have a docstring.",
     "output_type": "error",
     "traceback": [
      "\u001b[31m---------------------------------------------------------------------------\u001b[39m",
      "\u001b[31mTypeError\u001b[39m                                 Traceback (most recent call last)",
      "\u001b[36mCell\u001b[39m\u001b[36m \u001b[39m\u001b[32mIn[8]\u001b[39m\u001b[32m, line 10\u001b[39m\n\u001b[32m      7\u001b[39m                 \u001b[38;5;28;01mraise\u001b[39;00m \u001b[38;5;167;01mTypeError\u001b[39;00m(\u001b[33mf\u001b[39m\u001b[33m\"\u001b[39m\u001b[33mMethod \u001b[39m\u001b[33m'\u001b[39m\u001b[38;5;132;01m{\u001b[39;00mname\u001b[38;5;132;01m}\u001b[39;00m\u001b[33m'\u001b[39m\u001b[33m in class \u001b[39m\u001b[33m'\u001b[39m\u001b[38;5;132;01m{\u001b[39;00mname\u001b[38;5;132;01m}\u001b[39;00m\u001b[33m'\u001b[39m\u001b[33m must have a docstring.\u001b[39m\u001b[33m\"\u001b[39m)\n\u001b[32m      8\u001b[39m         \u001b[38;5;28;01mreturn\u001b[39;00m \u001b[38;5;28msuper\u001b[39m().\u001b[34m__new__\u001b[39m(\u001b[38;5;28mcls\u001b[39m, name, bases, attrs)\n\u001b[32m---> \u001b[39m\u001b[32m10\u001b[39m \u001b[38;5;28;43;01mclass\u001b[39;49;00m\u001b[38;5;250;43m \u001b[39;49m\u001b[34;43;01mMyClass\u001b[39;49;00m\u001b[43m(\u001b[49m\u001b[43mmetaclass\u001b[49m\u001b[43m=\u001b[49m\u001b[43mDocstringMetaclass\u001b[49m\u001b[43m)\u001b[49m\u001b[43m:\u001b[49m\n\u001b[32m     12\u001b[39m \u001b[43m    \u001b[49m\u001b[38;5;28;43;01mdef\u001b[39;49;00m\u001b[38;5;250;43m \u001b[39;49m\u001b[34;43mmy_method\u001b[39;49m\u001b[43m(\u001b[49m\u001b[38;5;28;43mself\u001b[39;49m\u001b[43m)\u001b[49m\u001b[43m:\u001b[49m\n\u001b[32m     13\u001b[39m \u001b[43m        \u001b[49m\u001b[38;5;28;43;01mpass\u001b[39;49;00m\u001b[43m  \u001b[49m\u001b[38;5;66;43;03m# No docstring - will raise an error\u001b[39;49;00m\n",
      "\u001b[36mCell\u001b[39m\u001b[36m \u001b[39m\u001b[32mIn[8]\u001b[39m\u001b[32m, line 7\u001b[39m, in \u001b[36mDocstringMetaclass.__new__\u001b[39m\u001b[34m(cls, name, bases, attrs)\u001b[39m\n\u001b[32m      4\u001b[39m \u001b[38;5;28;01mfor\u001b[39;00m name, value \u001b[38;5;129;01min\u001b[39;00m attrs.items():\n\u001b[32m      5\u001b[39m     \u001b[38;5;66;03m# check if the attr is a func and it has a docstr\u001b[39;00m\n\u001b[32m      6\u001b[39m     \u001b[38;5;28;01mif\u001b[39;00m \u001b[38;5;28mcallable\u001b[39m(value) \u001b[38;5;129;01mand\u001b[39;00m value.\u001b[34m__doc__\u001b[39m \u001b[38;5;129;01mis\u001b[39;00m \u001b[38;5;28;01mNone\u001b[39;00m:\n\u001b[32m----> \u001b[39m\u001b[32m7\u001b[39m         \u001b[38;5;28;01mraise\u001b[39;00m \u001b[38;5;167;01mTypeError\u001b[39;00m(\u001b[33mf\u001b[39m\u001b[33m\"\u001b[39m\u001b[33mMethod \u001b[39m\u001b[33m'\u001b[39m\u001b[38;5;132;01m{\u001b[39;00mname\u001b[38;5;132;01m}\u001b[39;00m\u001b[33m'\u001b[39m\u001b[33m in class \u001b[39m\u001b[33m'\u001b[39m\u001b[38;5;132;01m{\u001b[39;00mname\u001b[38;5;132;01m}\u001b[39;00m\u001b[33m'\u001b[39m\u001b[33m must have a docstring.\u001b[39m\u001b[33m\"\u001b[39m)\n\u001b[32m      8\u001b[39m \u001b[38;5;28;01mreturn\u001b[39;00m \u001b[38;5;28msuper\u001b[39m().\u001b[34m__new__\u001b[39m(\u001b[38;5;28mcls\u001b[39m, name, bases, attrs)\n",
      "\u001b[31mTypeError\u001b[39m: Method 'my_method' in class 'my_method' must have a docstring."
     ]
    }
   ],
   "source": [
    "class DocstringMetaclass(type):\n",
    "\n",
    "    def __new__(cls, name, bases, attrs):\n",
    "        for name, value in attrs.items():\n",
    "            # check if the attr is a func and it has a docstr\n",
    "            if callable(value) and value.__doc__ is None:\n",
    "                raise TypeError(f\"Method '{name}' in class '{name}' must have a docstring.\")\n",
    "        return super().__new__(cls, name, bases, attrs)\n",
    "\n",
    "class MyClass(metaclass=DocstringMetaclass):\n",
    "\n",
    "    def my_method(self):\n",
    "        pass  # No docstring - will raise an error\n",
    "        # try to modify it and add a docstring\n",
    "\n",
    "    def another_method(self):\n",
    "        \"\"\"This method has a docstring.\"\"\"\n",
    "        pass"
   ]
  },
  {
   "cell_type": "markdown",
   "id": "feaf1b0f",
   "metadata": {},
   "source": [
    "In the example above, we define a metaclass called DocstringMetaclass. The ```__new__``` method of the metaclass is responsible for creating the class object. Inside ```__new__```, we iterate over the attributes of the class using the attrs dictionary.\n",
    "\n",
    "For each attribute, we check if it is a callable (i.e., a method) using the ```callable()``` function. If the attribute is a method, we check the presence of the ```__doc__``` attribute.\n",
    "\n",
    "If a method is found without a docstring, we raise a TypeError with an appropriate error message indicating which method is missing a docstring.\n",
    "\n",
    "If all methods have docstrings, the metaclass allows the class creation to proceed by calling the ```__new__``` method of the parent metaclass (```super().__new__```) with the provided arguments (which is basically a call to the standard ```type``` metaclass)."
   ]
  },
  {
   "cell_type": "markdown",
   "id": "a2914e82",
   "metadata": {},
   "source": [
    "Another popular example is a singleton:"
   ]
  },
  {
   "cell_type": "code",
   "execution_count": 9,
   "id": "2053e37e",
   "metadata": {},
   "outputs": [
    {
     "name": "stdout",
     "output_type": "stream",
     "text": [
      "True\n"
     ]
    }
   ],
   "source": [
    "class SingletonMeta(type):\n",
    "    _instances = {} #store a single instance per each class right in the metaclass\n",
    "    def __call__(cls, *args, **kwargs):\n",
    "        if cls not in cls._instances:\n",
    "            cls._instances[cls] = super().__call__(*args, **kwargs)\n",
    "        return cls._instances[cls]\n",
    "\n",
    "class Logger(metaclass=SingletonMeta):\n",
    "    pass\n",
    "\n",
    "a = Logger()\n",
    "b = Logger()\n",
    "print(a is b) # it's the same instance"
   ]
  },
  {
   "cell_type": "markdown",
   "id": "5d27129f",
   "metadata": {},
   "source": [
    "The ```SingletonMeta``` metaclass maintains a dictionary called _instances to keep track of the instances of each class. The ```__call__``` method of the metaclass is invoked whenever an instance of the class is created.\n",
    "\n",
    "Inside the ```__call__``` method, we check if an instance of the class already exists in the _instances dictionary. If it doesn't exist, we create a new instance using ```super().__call__(*args, **kwargs)```, which calls the ```__call__``` method of the parent metaclass (usually type) to create the instance. We then store the newly created instance in the _instances dictionary with the class as the key.\n",
    "\n",
    "If an instance of the class already exists in the _instances dictionary, we simply return that instance instead of creating a new one."
   ]
  },
  {
   "cell_type": "markdown",
   "id": "18c1cf6a",
   "metadata": {},
   "source": [
    "The singleton pattern is useful in scenarios where you want to ensure that only one instance of a class exists throughout the lifetime of the program. It can be used to manage global resources, configuration settings, or any other objects that should have a single instance.\n",
    "\n",
    "By using a metaclass to implement the singleton pattern, we can enforce the singleton behavior at the class level, making it transparent to the users of the class. The metaclass takes care of creating and managing the single instance behind the scenes."
   ]
  },
  {
   "cell_type": "markdown",
   "id": "79885835",
   "metadata": {},
   "source": [
    "## protocols"
   ]
  },
  {
   "cell_type": "markdown",
   "id": "87c4d9fb",
   "metadata": {},
   "source": [
    "In Python, protocols are a way to define a set of methods and behaviors that a class should implement in order to be considered a certain type of object. Protocols are not explicitly enforced by the language itself, but rather they are a convention or an agreement that classes can follow to provide a specific interface.\n",
    "\n",
    "Python uses duck typing, which means that an object's suitability for a particular operation is determined by the presence of certain methods or attributes, rather than by its explicit type or inheritance. Protocols leverage this concept to define a common interface that classes can adhere to.\n",
    "\n",
    "There are several built-in protocols in Python that classes can implement to exhibit certain behaviors. Some common protocols include:\n",
    "\n",
    "- Iterable Protocol:\n",
    "\n",
    "Classes that implement the ```__iter__()``` and ```next()``` methods are considered iterable.\n",
    "Objects of such classes can be used in for loops and with functions like ```iter()``` and ```next()```.\n",
    "Examples of iterable objects include lists, tuples, strings, and custom classes that define ```__iter__()```.\n",
    "\n",
    "- Sequence Protocol:\n",
    "\n",
    "Classes that implement the ```__len__()``` and ```__getitem__()``` methods are considered sequences.\n",
    "Sequences are iterable and support indexing and slicing operations.\n",
    "Examples of sequence objects include lists, tuples, and strings.\n",
    "\n",
    "- Mapping Protocol:\n",
    "\n",
    "Classes that implement the ```__getitem__()```, ```__setitem__()```, ```__delitem__()```, and ```keys()``` methods are considered mappings.\n",
    "Mappings are collections of key-value pairs and support item access using square bracket notation (```[]```).\n",
    "Examples of mapping objects include dictionaries and custom classes that define the required methods.\n",
    "\n",
    "- Callable Protocol:\n",
    "\n",
    "Classes that implement the ```__call__()``` method are considered callable.\n",
    "Objects of such classes can be invoked like functions using parentheses (```()```).\n",
    "Examples of callable objects include functions, methods, and custom classes that define ```__call__()```.\n",
    "\n",
    "- Context Manager Protocol:\n",
    "\n",
    "Classes that implement the ```__enter__()``` and ```__exit__()``` methods are considered context managers.\n",
    "Context managers are used with the with statement to define a block of code with setup and cleanup actions.\n",
    "Examples of context manager objects include file objects and custom classes that define ```__enter__()``` and ```__exit__()```.\n",
    "By implementing these protocols, classes can provide a consistent and expected behavior, making them compatible with various built-in functions, language constructs, and libraries that rely on these protocols."
   ]
  },
  {
   "cell_type": "code",
   "execution_count": 10,
   "id": "16a7d60f",
   "metadata": {},
   "outputs": [
    {
     "name": "stdout",
     "output_type": "stream",
     "text": [
      "File 'nonexistent.txt' not found.\n",
      "Unable to read the file.\n"
     ]
    }
   ],
   "source": [
    "class ReadOnlyFileManager:\n",
    "    def __init__(self, filename):\n",
    "        self.filename = filename\n",
    "        self.file = None\n",
    "\n",
    "    def __enter__(self):\n",
    "        try:\n",
    "            self.file = open(self.filename, 'r')\n",
    "            return self.file\n",
    "        except FileNotFoundError:\n",
    "            print(f\"File '{self.filename}' not found.\")\n",
    "            return None\n",
    "\n",
    "    def __exit__(self, exc_type, exc_value, exc_traceback):\n",
    "        if self.file:\n",
    "            self.file.close()\n",
    "        if exc_type:\n",
    "            print(f\"An exception occurred: {exc_type}\")\n",
    "            return False  # Re-raise the exception\n",
    "        return True\n",
    "\n",
    "\n",
    "with ReadOnlyFileManager('nonexistent.txt') as file:\n",
    "    if file:\n",
    "        content = file.read()\n",
    "        print(\"File content:\")\n",
    "        print(content)\n",
    "    else:\n",
    "        print(\"Unable to read the file.\")"
   ]
  },
  {
   "cell_type": "markdown",
   "id": "7f26a372",
   "metadata": {},
   "source": [
    "n this example, we define a ReadOnlyFileManager class that implements the context manager protocol for reading files in read-only mode.\n",
    "\n",
    "The ReadOnlyFileManager class has an ```__init__()``` method that takes the filename as a parameter and initializes the filename and file attributes.\n",
    "\n",
    "The ```__enter__()``` method is called when the with block is entered. It tries to open the file in read-only mode using the specified filename. If the file is found, it returns the file object. If the file is not found, it prints a message indicating that the file was not found and returns None.\n",
    "\n",
    "The ```__exit__()``` method is called when the with block is exited. It closes the file if it exists. If an exception occurred within the with block, it prints the exception type and returns False to re-raise the exception. If no exception occurred, it returns True to indicate that the exception (if any) has been handled."
   ]
  },
  {
   "cell_type": "markdown",
   "id": "e1658b28",
   "metadata": {},
   "source": [
    "## protocols or magic?"
   ]
  },
  {
   "cell_type": "markdown",
   "id": "ca9e136d",
   "metadata": {},
   "source": [
    "Magic methods, also known as dunder methods (double underscore methods), are special methods with double underscores before and after their names. These methods are automatically called by Python in specific situations or when certain operations are performed on objects. Magic methods allow you to define the behavior of objects in response to built-in operations and syntax.\n",
    "\n",
    "On the other hand, protocols are a higher-level concept that define a set of methods and behaviors that a class should implement to be considered a certain type of object. Protocols are not explicitly enforced by the language itself but are rather a convention or an agreement that classes can follow to provide a specific interface.\n",
    "\n",
    "The relationship between protocols and magic methods is that protocols often rely on the implementation of specific magic methods to achieve their desired behavior. In other words, magic methods are the building blocks that enable classes to adhere to protocols."
   ]
  },
  {
   "cell_type": "markdown",
   "id": "35ad6b96",
   "metadata": {},
   "source": [
    "## Homework"
   ]
  },
  {
   "cell_type": "markdown",
   "id": "79e19e31",
   "metadata": {},
   "source": [
    "Let's make a small step in a direction of strict typing. Implement a metaclass which will prevent classes from being made if they are not equipped with a certain protocol (choose any from the list in the section above)"
   ]
  }
 ],
 "metadata": {
  "kernelspec": {
   "display_name": "Python 3",
   "language": "python",
   "name": "python3"
  },
  "language_info": {
   "codemirror_mode": {
    "name": "ipython",
    "version": 3
   },
   "file_extension": ".py",
   "mimetype": "text/x-python",
   "name": "python",
   "nbconvert_exporter": "python",
   "pygments_lexer": "ipython3",
   "version": "3.13.2"
  }
 },
 "nbformat": 4,
 "nbformat_minor": 5
}
