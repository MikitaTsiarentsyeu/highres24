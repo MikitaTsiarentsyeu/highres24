{
 "cells": [
  {
   "cell_type": "markdown",
   "metadata": {},
   "source": [
    "# Lesson 10 - OOP, encapsulation"
   ]
  },
  {
   "cell_type": "markdown",
   "metadata": {},
   "source": [
    "## OOP"
   ]
  },
  {
   "cell_type": "markdown",
   "metadata": {},
   "source": [
    "Object-Oriented Programming (OOP) is a programming paradigm that organizes code into objects, which are instances of classes that encapsulate data (attributes) and behavior (methods). OOP promotes the concepts of encapsulation, inheritance, and polymorphism, allowing for modular, reusable, and maintainable code. In OOP, classes define the blueprint or template for creating objects, specifying their attributes and methods, while objects are specific instances of a class, each with its own unique set of attribute values. Inheritance enables the creation of hierarchical relationships between classes, where subclasses inherit the attributes and methods of their parent classes, promoting code reuse and specialization. Polymorphism allows objects of different classes to be treated as objects of a common superclass, enabling flexibility and extensibility in the design and implementation of software systems.\n",
    "\n",
    "Python as an OOP language support all three concepts (encapsulation, inheritance, and polymorphism), though it does not provide the 'canonical' syntax toolkit for that. OOP in Python is rather simple and built mostly on conventions, allowing much more flexible designs than languages like C# and Java. "
   ]
  },
  {
   "cell_type": "markdown",
   "metadata": {},
   "source": [
    "### Some simple examples"
   ]
  },
  {
   "cell_type": "code",
   "execution_count": 2,
   "metadata": {},
   "outputs": [
    {
     "name": "stdout",
     "output_type": "stream",
     "text": [
      "<class 'type'>\n"
     ]
    }
   ],
   "source": [
    "class Test: pass # a new class without attributes or methods\n",
    "\n",
    "print(type(Test)) # any class in Python is basically a data type"
   ]
  },
  {
   "cell_type": "code",
   "execution_count": 4,
   "metadata": {},
   "outputs": [
    {
     "name": "stdout",
     "output_type": "stream",
     "text": [
      "a shepherd dog named Charlie\n",
      "a shepherd dog named Charlie\n",
      "a corgi dog named Foxy\n"
     ]
    }
   ],
   "source": [
    "class Dog:\n",
    "\n",
    "    # attributes are represented as variables in scope of a class\n",
    "    # it's not possible to create a variable without some value \n",
    "    # so this blueprint of a Dog has some default name and breed\n",
    "\n",
    "    name = \"Charlie\"\n",
    "    breed = \"shepherd\"\n",
    "\n",
    "    # methods are represented as functions in scope of a class\n",
    "    # usually methods receive at least one argument called self\n",
    "    # self is a ref to an instance of the call on which the method is being called\n",
    "    # in that self is very simillar to this in C# or Java, although this is a part of syntax for them\n",
    "    # while in Python self is just an argument name, it can be changed to anything else\n",
    "\n",
    "    def bark(self):\n",
    "        print(\"woof!\") # not using self here\n",
    "\n",
    "    def get_str_repr(self):\n",
    "        # using self to access attr values for an instance\n",
    "        return f\"a {self.breed} dog named {self.name}\"\n",
    "\n",
    "\n",
    "d1 = Dog() # a new instance of type Dog, should have default attr values\n",
    "print(d1.get_str_repr())\n",
    "\n",
    "d2 = Dog() # another new instance, everything is default\n",
    "d2.name = \"Foxy\"\n",
    "d2.breed = \"corgi\" # changed attrs value to represent another dog\n",
    "\n",
    "print(d1.get_str_repr())\n",
    "print(d2.get_str_repr()) # each instance has its own state, a change in one will not affect all others"
   ]
  },
  {
   "cell_type": "markdown",
   "metadata": {},
   "source": [
    "Having a blueprint describing a common attrs(data)/methods(behevior) for an abstract object, and separate entities (instances) with their own independent state is the core of OOP in any language. Such a blueprint is usually called an abstraction, it can describe a real object of a physical world or something non-existent in reality like a bank tracnsaction or an http request. Abstraction may vary in level of details, e.g. a Dog abstraction from the example above is not very detailed as it has only two attrs and two methods. It's very important to match level of detalisation with the solution, if two methods are enough to reach some goals than it's enough. High-level abstractions (i.e.  not detailed classes) can be extended after implementation with techniques like inheritance."
   ]
  },
  {
   "cell_type": "markdown",
   "metadata": {},
   "source": [
    "It's not very convinient to have a high level abstraction with pre-defined values for all attributes. For example, not all dogs are named Charlie, even not a majority of them have that name. Using sucg values can create an overhead while working with classes; although it's not possible to not provide a value for a variable in such context it can be worked around with various techniques of encapsulation."
   ]
  },
  {
   "cell_type": "markdown",
   "metadata": {},
   "source": [
    "## Encapsulation"
   ]
  },
  {
   "cell_type": "markdown",
   "metadata": {},
   "source": [
    "Encapsulation is a fundamental principle in Object-Oriented Programming that involves bundling data (attributes) and methods (functions) that operate on that data within a single unit, known as a class. It aims to hide the internal details and complexity of an object from the outside world, providing a clear and controlled interface for interacting with the object. Encapsulation helps in achieving data abstraction, where the internal state of an object is protected from direct access or modification by external code, and can only be accessed or modified through well-defined methods or properties. By encapsulating data and behavior within a class, encapsulation promotes data integrity, security, and modularity, as it prevents unauthorized access and modification of an object's internal state, and allows for better control and management of the object's behavior.\n",
    "\n",
    "In short, encapsulation is about control of how somebody can operate on our new object. It's not about explicit limitation of access to some attrs but rather about providing of an interface to access and modify those attrs properly. "
   ]
  },
  {
   "cell_type": "code",
   "execution_count": null,
   "metadata": {},
   "outputs": [],
   "source": [
    "class Dog:\n",
    "\n",
    "    name = \"\"\n",
    "    breed = \"\"\n",
    "\n",
    "    def bark(self):\n",
    "        print(\"woof!\")\n",
    "\n",
    "    def get_str_repr(self):\n",
    "        return f\"a {self.breed} dog named {self.name}\""
   ]
  },
  {
   "cell_type": "markdown",
   "metadata": {},
   "source": [
    "In such an example we can use empty string to get rid of a redundant logic of naming every dog Charlie. This is already aligned with the encapsulation principle. There is a specific interface (operator `.`) which should be used to access and modify attrs `name` and `breed` after a new instance creation. It's not very convinient, but it exists. It's possible that someone would create a new instance and leave the fileds empty which may not be correct in every case."
   ]
  },
  {
   "cell_type": "markdown",
   "metadata": {},
   "source": [
    "There is a way to make it more convnient and in the same time make sure that the fields are filled, it's called an initializator. You may be familliar with a simillar technique called constructor in C# or Java. The main difference is that initializator does not create a new instance but deal with setting up its initial state (hence the name)."
   ]
  },
  {
   "cell_type": "markdown",
   "metadata": {},
   "source": [
    "Initialization logic should be described in a function called `__init__`. \n",
    "\n",
    "(Double underscores are usually called 'dunders' in context of Python)"
   ]
  },
  {
   "cell_type": "code",
   "execution_count": 3,
   "metadata": {},
   "outputs": [
    {
     "name": "stdout",
     "output_type": "stream",
     "text": [
      "it's not possible to create a Dog without specifying the name and breed anymore\n",
      "a shepherd dog named Charlie\n"
     ]
    }
   ],
   "source": [
    "class Dog:\n",
    "\n",
    "    # there is no limit on a number of arguments for __init__\n",
    "    # they may or may not be the same as future attributes names\n",
    "    def __init__(self, dog_name, breed):\n",
    "        # __init__ will be called when a new instance is requested\n",
    "        # modifying self in __init__ means assigning some attrs to every instance right after creation\n",
    "        self.name = dog_name\n",
    "        self.breed = breed\n",
    "\n",
    "    def bark(self):\n",
    "        print(\"woof!\")\n",
    "\n",
    "    def get_str_repr(self):\n",
    "        return f\"a {self.breed} dog named {self.name}\"\n",
    "\n",
    "try:\n",
    "    d1 = Dog()\n",
    "except TypeError:\n",
    "    print(\"it's not possible to create a Dog without specifying the name and breed anymore\")\n",
    "\n",
    "d1 = Dog(\"Charlie\", \"shepherd\")\n",
    "print(d1.get_str_repr())"
   ]
  },
  {
   "cell_type": "markdown",
   "metadata": {},
   "source": [
    "Let's consider some business logic here. It maybe possible for a dog to change name (for example when its owner is also changed for some reason), but a breed cannot be changed. Hence, it makes sense to block modification of the `breed` attr in class `Dog`. There is no specific syntax for that like access modifiers public/private in C# or Java, but there is a way to hide an attr name to signal that this attr should not be touched. By placing some dunders before an attr name it becomes hidden oyside of a class's scope. The concept is called name mangling. "
   ]
  },
  {
   "cell_type": "code",
   "execution_count": 4,
   "metadata": {},
   "outputs": [
    {
     "ename": "AttributeError",
     "evalue": "'Dog' object has no attribute '__name'",
     "output_type": "error",
     "traceback": [
      "\u001b[1;31m---------------------------------------------------------------------------\u001b[0m",
      "\u001b[1;31mAttributeError\u001b[0m                            Traceback (most recent call last)",
      "Cell \u001b[1;32mIn[4], line 16\u001b[0m\n\u001b[0;32m     12\u001b[0m         \u001b[38;5;28;01mreturn\u001b[39;00m \u001b[38;5;124mf\u001b[39m\u001b[38;5;124m\"\u001b[39m\u001b[38;5;124ma \u001b[39m\u001b[38;5;132;01m{\u001b[39;00m\u001b[38;5;28mself\u001b[39m\u001b[38;5;241m.\u001b[39mbreed\u001b[38;5;132;01m}\u001b[39;00m\u001b[38;5;124m dog named \u001b[39m\u001b[38;5;132;01m{\u001b[39;00m\u001b[38;5;28mself\u001b[39m\u001b[38;5;241m.\u001b[39mname\u001b[38;5;132;01m}\u001b[39;00m\u001b[38;5;124m\"\u001b[39m\n\u001b[0;32m     14\u001b[0m d1 \u001b[38;5;241m=\u001b[39m Dog(\u001b[38;5;124m\"\u001b[39m\u001b[38;5;124mCharlie\u001b[39m\u001b[38;5;124m\"\u001b[39m, \u001b[38;5;124m\"\u001b[39m\u001b[38;5;124mshepherd\u001b[39m\u001b[38;5;124m\"\u001b[39m) \u001b[38;5;66;03m# __init__ works without a problem since it's inside the scope\u001b[39;00m\n\u001b[1;32m---> 16\u001b[0m \u001b[43md1\u001b[49m\u001b[38;5;241;43m.\u001b[39;49m\u001b[43m__name\u001b[49m \u001b[38;5;66;03m# this results in error, there is no such attr outside of the class\u001b[39;00m\n",
      "\u001b[1;31mAttributeError\u001b[0m: 'Dog' object has no attribute '__name'"
     ]
    }
   ],
   "source": [
    "class Dog:\n",
    "\n",
    "    def __init__(self, dog_name, breed):\n",
    "        # __name will be hidden outside of class's scope\n",
    "        self.__name = dog_name\n",
    "        self.breed = breed\n",
    "\n",
    "    def bark(self):\n",
    "        print(\"woof!\")\n",
    "\n",
    "    def get_str_repr(self):\n",
    "        return f\"a {self.breed} dog named {self.name}\"\n",
    "\n",
    "d1 = Dog(\"Charlie\", \"shepherd\") # __init__ works without a problem since it's inside the scope\n",
    "\n",
    "d1.__name # this results in error, there is no such attr outside of the class"
   ]
  },
  {
   "cell_type": "markdown",
   "metadata": {},
   "source": [
    "Still, a user may want to access the value without modifying it. An additional method (called `getter`) is usually provided for that. "
   ]
  },
  {
   "cell_type": "code",
   "execution_count": 5,
   "metadata": {},
   "outputs": [
    {
     "name": "stdout",
     "output_type": "stream",
     "text": [
      "Charlie\n"
     ]
    }
   ],
   "source": [
    "class Dog:\n",
    "\n",
    "    def __init__(self, dog_name, breed):\n",
    "        # __name will be hidden outside of class's scope\n",
    "        self.__name = dog_name\n",
    "        self.breed = breed\n",
    "\n",
    "    def bark(self):\n",
    "        print(\"woof!\")\n",
    "\n",
    "    def get_str_repr(self):\n",
    "        return f\"a {self.breed} dog named {self.name}\"\n",
    "    \n",
    "    # the name of the method can be anything\n",
    "    def get_name(self):\n",
    "        return self.__name # pushing the value otside the class's scope\n",
    "\n",
    "d1 = Dog(\"Charlie\", \"shepherd\")\n",
    "\n",
    "print(d1.get_name())"
   ]
  },
  {
   "cell_type": "markdown",
   "metadata": {},
   "source": [
    "In the example above it's still possible to assign some name only during an initialization, but it's possible to read that value with `get_name` getter."
   ]
  },
  {
   "cell_type": "markdown",
   "metadata": {},
   "source": [
    "Sometimes you may need to provide modification access but withing a limited business logic scope. Let's consider a new attr to reflect an age of a dog. Age can change (although it's usually an automatic process) but it usually has some limitations on the scope of such change."
   ]
  },
  {
   "cell_type": "code",
   "execution_count": null,
   "metadata": {},
   "outputs": [
    {
     "name": "stdout",
     "output_type": "stream",
     "text": [
      "2 14\n"
     ]
    }
   ],
   "source": [
    "class Dog:\n",
    "\n",
    "    # adding anew argument to set up an age\n",
    "    def __init__(self, dog_name, breed, age=1):\n",
    "        self.__name = dog_name\n",
    "        self.breed = breed\n",
    "        # a setter call in __init__ is a common approach\n",
    "        self.__set_age(age)\n",
    "\n",
    "    def bark(self):\n",
    "        print(\"woof!\")\n",
    "\n",
    "    def get_str_repr(self):\n",
    "        return f\"a {self.breed} dog named {self.name}\"\n",
    "    \n",
    "    # a setter for the hidden age attr\n",
    "    # in this example the setter is hidden itself to promote usage only in __init__\n",
    "    def __set_age(self, new_age=1):\n",
    "        if new_age > 0:\n",
    "            self.__age = new_age\n",
    "\n",
    "    # one of getters for the hidden age attr\n",
    "    def get_age(self):\n",
    "        return self.__age\n",
    "    \n",
    "    # another getter for the hidden age attr\n",
    "    def get_age_in_human_years(self):\n",
    "        return self.__age * 7\n",
    "        \n",
    "\n",
    "d1 = Dog(\"Charlie\", \"shepherd\", 2)\n",
    "print(d1.get_age(), d1.get_age_in_human_years())"
   ]
  },
  {
   "cell_type": "markdown",
   "metadata": {},
   "source": [
    "Getters and setters are tools for controlling an object interactions, it's possible to live without it, but a good class should provide a uniquely-correct way to work with itself (usually it's called an interface). "
   ]
  },
  {
   "cell_type": "markdown",
   "metadata": {},
   "source": [
    "There is a way to beautify this getter/setter situation a bit with help of `properties`. It's a standardised approach to hide a lot of business logic (incuding `get_` and `set_`) behind a familliar interface of accessing attrs with the dot operator `.`."
   ]
  },
  {
   "cell_type": "code",
   "execution_count": 12,
   "metadata": {},
   "outputs": [
    {
     "name": "stdout",
     "output_type": "stream",
     "text": [
      "2\n",
      "10\n"
     ]
    }
   ],
   "source": [
    "class Dog:\n",
    "\n",
    "    # adding anew argument to set up an age\n",
    "    def __init__(self, dog_name, breed, age=1):\n",
    "        self.__name = dog_name\n",
    "        self.breed = breed\n",
    "        # accessing a property\n",
    "        self.age = age\n",
    "\n",
    "    def bark(self):\n",
    "        print(\"woof!\")\n",
    "\n",
    "    def get_str_repr(self):\n",
    "        return f\"a {self.breed} dog named {self.name}\"\n",
    "    \n",
    "    # a setter for the hidden age attr\n",
    "    def set_age(self, new_age=1):\n",
    "        if new_age > 0:\n",
    "            self.__age = new_age\n",
    "\n",
    "    # one of getters for the hidden age attr\n",
    "    def get_age(self):\n",
    "        return self.__age\n",
    "    \n",
    "    # another getter for the hidden age attr\n",
    "    def get_age_in_human_years(self):\n",
    "        return self.__age * 7\n",
    "    \n",
    "    # creation of a property\n",
    "    age = property(get_age, set_age)\n",
    "        \n",
    "\n",
    "d1 = Dog(\"Charlie\", \"shepherd\", 2)\n",
    "print(d1.age) # get age with a convinient interface\n",
    "d1.age = 10 # set a new age with underlying business logic\n",
    "print(d1.age) "
   ]
  },
  {
   "cell_type": "markdown",
   "metadata": {},
   "source": [
    "## Homework"
   ]
  },
  {
   "cell_type": "markdown",
   "metadata": {},
   "source": [
    "Implement ANY one of the following:"
   ]
  },
  {
   "cell_type": "markdown",
   "metadata": {},
   "source": [
    "1. Bank Account Management System:\n",
    "\n",
    "    Create a BankAccount class that encapsulates attributes such as account_number, balance, and owner_name.\n",
    "    - Implement methods like deposit(), withdraw(), and get_balance() to manage the account's balance and perform transactions.\n",
    "    - Ensure that the balance attribute is private and can only be accessed and modified through the defined methods.\n",
    "    - Create multiple instances of the BankAccount class and demonstrate the usage of the encapsulated methods.\n",
    "\n",
    "2. Student Information System:\n",
    "\n",
    "    Create a Student class that encapsulates attributes such as name, student_id, age, and grades.\n",
    "    - Implement methods like add_grade(), calculate_average(), and get_student_info() to manage the student's information and perform calculations.\n",
    "    - Ensure that the grades attribute is private and can only be accessed and modified through the defined methods.\n",
    "    - Create multiple instances of the Student class and demonstrate the usage of the encapsulated methods.\n",
    "\n",
    "3. Employee Management System:\n",
    "\n",
    "    Create an Employee class that encapsulates attributes such as name, employee_id, department, and salary.\n",
    "    - Implement methods like get_employee_info(), update_salary(), and change_department() to manage the employee's information and perform updates.\n",
    "    - Ensure that the salary attribute is private and can only be accessed and modified through the defined methods.\n",
    "    - Create multiple instances of the Employee class and demonstrate the usage of the encapsulated methods.\n",
    "\n",
    "4. Library Management System:\n",
    "\n",
    "    Create a Book class that encapsulates attributes such as title, author, isbn, and availability.\n",
    "    - Implement methods like check_out(), return_book(), and get_book_info() to manage the book's availability and retrieve information.\n",
    "    - Ensure that the availability attribute is private and can only be accessed and modified through the defined methods.\n",
    "    - Create multiple instances of the Book class and demonstrate the usage of the encapsulated methods.\n",
    "\n",
    "5. Geometry Calculator:\n",
    "\n",
    "    Create a Rectangle class that encapsulates attributes such as length and width.\n",
    "    - Implement methods like calculate_area(), calculate_perimeter(), and get_dimensions() to perform calculations and retrieve information about the rectangle.\n",
    "    - Ensure that the length and width attributes are private and can only be accessed and modified through the defined methods.\n",
    "    - Create multiple instances of the Rectangle class and demonstrate the usage of the encapsulated methods."
   ]
  }
 ],
 "metadata": {
  "kernelspec": {
   "display_name": "Python 3",
   "language": "python",
   "name": "python3"
  },
  "language_info": {
   "codemirror_mode": {
    "name": "ipython",
    "version": 3
   },
   "file_extension": ".py",
   "mimetype": "text/x-python",
   "name": "python",
   "nbconvert_exporter": "python",
   "pygments_lexer": "ipython3",
   "version": "3.11.4"
  }
 },
 "nbformat": 4,
 "nbformat_minor": 2
}
